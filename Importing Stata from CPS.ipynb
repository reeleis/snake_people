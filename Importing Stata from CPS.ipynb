{
 "cells": [
  {
   "cell_type": "code",
   "execution_count": 5,
   "metadata": {
    "collapsed": false
   },
   "outputs": [],
   "source": [
    "import pandas as pd\n",
    "import numpy as np\n",
    "import os, fnmatch"
   ]
  },
  {
   "cell_type": "code",
   "execution_count": 6,
   "metadata": {
    "collapsed": false
   },
   "outputs": [],
   "source": [
    "root = '/Users/Lee/Documents/jupyter/notebooks/CP207/CPS Data'\n",
    "#Get all of the cost reports\n",
    "matches = []\n",
    "for root, dirnames, filenames in os.walk(root):\n",
    "  for filename in fnmatch.filter(filenames, '*.dta'):\n",
    "    matches.append(os.path.join(root, filename))"
   ]
  },
  {
   "cell_type": "code",
   "execution_count": 8,
   "metadata": {
    "collapsed": false
   },
   "outputs": [
    {
     "data": {
      "text/plain": [
       "16"
      ]
     },
     "execution_count": 8,
     "metadata": {},
     "output_type": "execute_result"
    }
   ],
   "source": [
    "len(matches)"
   ]
  },
  {
   "cell_type": "code",
   "execution_count": null,
   "metadata": {
    "collapsed": true
   },
   "outputs": [],
   "source": [
    "df_soft_costs = pd.DataFrame()\n",
    "for item in matches[0:]:\n",
    "    if not df_soft_costs.empty:\n",
    "        df_soft_costs = df_soft_costs.append(soft_costs_processed(item, verbose=False))\n",
    "    else:\n",
    "        df_soft_costs = soft_costs_processed(item, verbose=False)"
   ]
  },
  {
   "cell_type": "code",
   "execution_count": 9,
   "metadata": {
    "collapsed": false
   },
   "outputs": [],
   "source": [
    "df = pd.read_stata('CPS Data/2015/cpsmar2015.dta', convert_categoricals = False)"
   ]
  },
  {
   "cell_type": "code",
   "execution_count": 10,
   "metadata": {
    "collapsed": false
   },
   "outputs": [
    {
     "data": {
      "text/html": [
       "<div>\n",
       "<table border=\"1\" class=\"dataframe\">\n",
       "  <thead>\n",
       "    <tr style=\"text-align: right;\">\n",
       "      <th></th>\n",
       "      <th>hrecord</th>\n",
       "      <th>h_seq</th>\n",
       "      <th>hhpos</th>\n",
       "      <th>hunits</th>\n",
       "      <th>hefaminc</th>\n",
       "      <th>h_respnm</th>\n",
       "      <th>h_year</th>\n",
       "      <th>h_hhtype</th>\n",
       "      <th>h_numper</th>\n",
       "      <th>hnumfam</th>\n",
       "      <th>...</th>\n",
       "      <th>m5gsame</th>\n",
       "      <th>m5g_reg</th>\n",
       "      <th>m5g_st</th>\n",
       "      <th>m5g_div</th>\n",
       "      <th>m5g_mtr1</th>\n",
       "      <th>m5g_mtr3</th>\n",
       "      <th>m5g_mtr4</th>\n",
       "      <th>i_m5g1</th>\n",
       "      <th>i_m5g2</th>\n",
       "      <th>i_m5g3</th>\n",
       "    </tr>\n",
       "  </thead>\n",
       "  <tbody>\n",
       "    <tr>\n",
       "      <th>0</th>\n",
       "      <td>1</td>\n",
       "      <td>2</td>\n",
       "      <td>0</td>\n",
       "      <td>1</td>\n",
       "      <td>9</td>\n",
       "      <td>2</td>\n",
       "      <td>2015</td>\n",
       "      <td>1</td>\n",
       "      <td>4</td>\n",
       "      <td>2</td>\n",
       "      <td>...</td>\n",
       "      <td>1</td>\n",
       "      <td>1</td>\n",
       "      <td>0</td>\n",
       "      <td>1</td>\n",
       "      <td>1</td>\n",
       "      <td>1</td>\n",
       "      <td>1</td>\n",
       "      <td>5</td>\n",
       "      <td>0</td>\n",
       "      <td>0</td>\n",
       "    </tr>\n",
       "    <tr>\n",
       "      <th>1</th>\n",
       "      <td>1</td>\n",
       "      <td>2</td>\n",
       "      <td>0</td>\n",
       "      <td>1</td>\n",
       "      <td>9</td>\n",
       "      <td>2</td>\n",
       "      <td>2015</td>\n",
       "      <td>1</td>\n",
       "      <td>4</td>\n",
       "      <td>2</td>\n",
       "      <td>...</td>\n",
       "      <td>1</td>\n",
       "      <td>1</td>\n",
       "      <td>0</td>\n",
       "      <td>1</td>\n",
       "      <td>1</td>\n",
       "      <td>1</td>\n",
       "      <td>1</td>\n",
       "      <td>1</td>\n",
       "      <td>0</td>\n",
       "      <td>0</td>\n",
       "    </tr>\n",
       "    <tr>\n",
       "      <th>2</th>\n",
       "      <td>1</td>\n",
       "      <td>2</td>\n",
       "      <td>0</td>\n",
       "      <td>1</td>\n",
       "      <td>9</td>\n",
       "      <td>2</td>\n",
       "      <td>2015</td>\n",
       "      <td>1</td>\n",
       "      <td>4</td>\n",
       "      <td>2</td>\n",
       "      <td>...</td>\n",
       "      <td>1</td>\n",
       "      <td>1</td>\n",
       "      <td>0</td>\n",
       "      <td>1</td>\n",
       "      <td>1</td>\n",
       "      <td>1</td>\n",
       "      <td>1</td>\n",
       "      <td>5</td>\n",
       "      <td>0</td>\n",
       "      <td>0</td>\n",
       "    </tr>\n",
       "    <tr>\n",
       "      <th>3</th>\n",
       "      <td>1</td>\n",
       "      <td>2</td>\n",
       "      <td>0</td>\n",
       "      <td>1</td>\n",
       "      <td>9</td>\n",
       "      <td>2</td>\n",
       "      <td>2015</td>\n",
       "      <td>1</td>\n",
       "      <td>4</td>\n",
       "      <td>2</td>\n",
       "      <td>...</td>\n",
       "      <td>0</td>\n",
       "      <td>0</td>\n",
       "      <td>0</td>\n",
       "      <td>0</td>\n",
       "      <td>8</td>\n",
       "      <td>8</td>\n",
       "      <td>9</td>\n",
       "      <td>0</td>\n",
       "      <td>0</td>\n",
       "      <td>0</td>\n",
       "    </tr>\n",
       "    <tr>\n",
       "      <th>4</th>\n",
       "      <td>1</td>\n",
       "      <td>3</td>\n",
       "      <td>0</td>\n",
       "      <td>5</td>\n",
       "      <td>4</td>\n",
       "      <td>1</td>\n",
       "      <td>2015</td>\n",
       "      <td>1</td>\n",
       "      <td>1</td>\n",
       "      <td>1</td>\n",
       "      <td>...</td>\n",
       "      <td>1</td>\n",
       "      <td>1</td>\n",
       "      <td>0</td>\n",
       "      <td>1</td>\n",
       "      <td>1</td>\n",
       "      <td>1</td>\n",
       "      <td>1</td>\n",
       "      <td>0</td>\n",
       "      <td>0</td>\n",
       "      <td>0</td>\n",
       "    </tr>\n",
       "  </tbody>\n",
       "</table>\n",
       "<p>5 rows × 704 columns</p>\n",
       "</div>"
      ],
      "text/plain": [
       "   hrecord  h_seq  hhpos  hunits  hefaminc  h_respnm  h_year  h_hhtype  \\\n",
       "0        1      2      0       1         9         2    2015         1   \n",
       "1        1      2      0       1         9         2    2015         1   \n",
       "2        1      2      0       1         9         2    2015         1   \n",
       "3        1      2      0       1         9         2    2015         1   \n",
       "4        1      3      0       5         4         1    2015         1   \n",
       "\n",
       "   h_numper  hnumfam   ...    m5gsame  m5g_reg  m5g_st  m5g_div  m5g_mtr1  \\\n",
       "0         4        2   ...          1        1       0        1         1   \n",
       "1         4        2   ...          1        1       0        1         1   \n",
       "2         4        2   ...          1        1       0        1         1   \n",
       "3         4        2   ...          0        0       0        0         8   \n",
       "4         1        1   ...          1        1       0        1         1   \n",
       "\n",
       "   m5g_mtr3  m5g_mtr4  i_m5g1  i_m5g2  i_m5g3  \n",
       "0         1         1       5       0       0  \n",
       "1         1         1       1       0       0  \n",
       "2         1         1       5       0       0  \n",
       "3         8         9       0       0       0  \n",
       "4         1         1       0       0       0  \n",
       "\n",
       "[5 rows x 704 columns]"
      ]
     },
     "execution_count": 10,
     "metadata": {},
     "output_type": "execute_result"
    }
   ],
   "source": [
    "df.head()"
   ]
  },
  {
   "cell_type": "code",
   "execution_count": 11,
   "metadata": {
    "collapsed": false
   },
   "outputs": [],
   "source": [
    "columns_2015 = df.columns.tolist()"
   ]
  },
  {
   "cell_type": "code",
   "execution_count": 12,
   "metadata": {
    "collapsed": false
   },
   "outputs": [
    {
     "data": {
      "text/plain": [
       "['hrpaidcc', 'a_exprrp', 'perrp', 'prpertyp', 'prptrea', 'axrrp']"
      ]
     },
     "execution_count": 12,
     "metadata": {},
     "output_type": "execute_result"
    }
   ],
   "source": [
    "[column for column in columns_2015 if 'rp' in column]"
   ]
  },
  {
   "cell_type": "code",
   "execution_count": 13,
   "metadata": {
    "collapsed": false
   },
   "outputs": [
    {
     "data": {
      "text/plain": [
       "['a_age', 'age1', 'wageotr', 'axage']"
      ]
     },
     "execution_count": 13,
     "metadata": {},
     "output_type": "execute_result"
    }
   ],
   "source": [
    "[column for column in columns_2015 if 'age' in column]"
   ]
  },
  {
   "cell_type": "code",
   "execution_count": 14,
   "metadata": {
    "collapsed": false
   },
   "outputs": [
    {
     "data": {
      "text/plain": [
       "['gtcbsa', 'gtcbsast', 'gtcbsasz']"
      ]
     },
     "execution_count": 14,
     "metadata": {},
     "output_type": "execute_result"
    }
   ],
   "source": [
    "[column for column in columns_2015 if 'cbsa' in column]"
   ]
  },
  {
   "cell_type": "code",
   "execution_count": 15,
   "metadata": {
    "collapsed": false
   },
   "outputs": [
    {
     "data": {
      "text/html": [
       "<div>\n",
       "<table border=\"1\" class=\"dataframe\">\n",
       "  <thead>\n",
       "    <tr style=\"text-align: right;\">\n",
       "      <th></th>\n",
       "      <th>hrecord</th>\n",
       "      <th>h_seq</th>\n",
       "      <th>hhpos</th>\n",
       "      <th>hunits</th>\n",
       "      <th>hefaminc</th>\n",
       "      <th>h_respnm</th>\n",
       "      <th>h_year</th>\n",
       "      <th>h_hhtype</th>\n",
       "      <th>h_numper</th>\n",
       "      <th>hnumfam</th>\n",
       "      <th>...</th>\n",
       "      <th>m5gsame</th>\n",
       "      <th>m5g_reg</th>\n",
       "      <th>m5g_st</th>\n",
       "      <th>m5g_div</th>\n",
       "      <th>m5g_mtr1</th>\n",
       "      <th>m5g_mtr3</th>\n",
       "      <th>m5g_mtr4</th>\n",
       "      <th>i_m5g1</th>\n",
       "      <th>i_m5g2</th>\n",
       "      <th>i_m5g3</th>\n",
       "    </tr>\n",
       "  </thead>\n",
       "  <tbody>\n",
       "    <tr>\n",
       "      <th>2</th>\n",
       "      <td>1</td>\n",
       "      <td>2</td>\n",
       "      <td>0</td>\n",
       "      <td>1</td>\n",
       "      <td>9</td>\n",
       "      <td>2</td>\n",
       "      <td>2015</td>\n",
       "      <td>1</td>\n",
       "      <td>4</td>\n",
       "      <td>2</td>\n",
       "      <td>...</td>\n",
       "      <td>1</td>\n",
       "      <td>1</td>\n",
       "      <td>0</td>\n",
       "      <td>1</td>\n",
       "      <td>1</td>\n",
       "      <td>1</td>\n",
       "      <td>1</td>\n",
       "      <td>5</td>\n",
       "      <td>0</td>\n",
       "      <td>0</td>\n",
       "    </tr>\n",
       "    <tr>\n",
       "      <th>3</th>\n",
       "      <td>1</td>\n",
       "      <td>2</td>\n",
       "      <td>0</td>\n",
       "      <td>1</td>\n",
       "      <td>9</td>\n",
       "      <td>2</td>\n",
       "      <td>2015</td>\n",
       "      <td>1</td>\n",
       "      <td>4</td>\n",
       "      <td>2</td>\n",
       "      <td>...</td>\n",
       "      <td>0</td>\n",
       "      <td>0</td>\n",
       "      <td>0</td>\n",
       "      <td>0</td>\n",
       "      <td>8</td>\n",
       "      <td>8</td>\n",
       "      <td>9</td>\n",
       "      <td>0</td>\n",
       "      <td>0</td>\n",
       "      <td>0</td>\n",
       "    </tr>\n",
       "    <tr>\n",
       "      <th>6</th>\n",
       "      <td>1</td>\n",
       "      <td>5</td>\n",
       "      <td>0</td>\n",
       "      <td>1</td>\n",
       "      <td>7</td>\n",
       "      <td>1</td>\n",
       "      <td>2015</td>\n",
       "      <td>1</td>\n",
       "      <td>2</td>\n",
       "      <td>1</td>\n",
       "      <td>...</td>\n",
       "      <td>1</td>\n",
       "      <td>1</td>\n",
       "      <td>0</td>\n",
       "      <td>1</td>\n",
       "      <td>1</td>\n",
       "      <td>1</td>\n",
       "      <td>1</td>\n",
       "      <td>0</td>\n",
       "      <td>0</td>\n",
       "      <td>0</td>\n",
       "    </tr>\n",
       "    <tr>\n",
       "      <th>19</th>\n",
       "      <td>1</td>\n",
       "      <td>13</td>\n",
       "      <td>0</td>\n",
       "      <td>2</td>\n",
       "      <td>6</td>\n",
       "      <td>2</td>\n",
       "      <td>2015</td>\n",
       "      <td>1</td>\n",
       "      <td>5</td>\n",
       "      <td>1</td>\n",
       "      <td>...</td>\n",
       "      <td>0</td>\n",
       "      <td>0</td>\n",
       "      <td>0</td>\n",
       "      <td>0</td>\n",
       "      <td>8</td>\n",
       "      <td>8</td>\n",
       "      <td>9</td>\n",
       "      <td>0</td>\n",
       "      <td>0</td>\n",
       "      <td>0</td>\n",
       "    </tr>\n",
       "    <tr>\n",
       "      <th>20</th>\n",
       "      <td>1</td>\n",
       "      <td>13</td>\n",
       "      <td>0</td>\n",
       "      <td>2</td>\n",
       "      <td>6</td>\n",
       "      <td>2</td>\n",
       "      <td>2015</td>\n",
       "      <td>1</td>\n",
       "      <td>5</td>\n",
       "      <td>1</td>\n",
       "      <td>...</td>\n",
       "      <td>0</td>\n",
       "      <td>0</td>\n",
       "      <td>0</td>\n",
       "      <td>0</td>\n",
       "      <td>8</td>\n",
       "      <td>8</td>\n",
       "      <td>9</td>\n",
       "      <td>0</td>\n",
       "      <td>0</td>\n",
       "      <td>0</td>\n",
       "    </tr>\n",
       "  </tbody>\n",
       "</table>\n",
       "<p>5 rows × 704 columns</p>\n",
       "</div>"
      ],
      "text/plain": [
       "    hrecord  h_seq  hhpos  hunits  hefaminc  h_respnm  h_year  h_hhtype  \\\n",
       "2         1      2      0       1         9         2    2015         1   \n",
       "3         1      2      0       1         9         2    2015         1   \n",
       "6         1      5      0       1         7         1    2015         1   \n",
       "19        1     13      0       2         6         2    2015         1   \n",
       "20        1     13      0       2         6         2    2015         1   \n",
       "\n",
       "    h_numper  hnumfam   ...    m5gsame  m5g_reg  m5g_st  m5g_div  m5g_mtr1  \\\n",
       "2          4        2   ...          1        1       0        1         1   \n",
       "3          4        2   ...          0        0       0        0         8   \n",
       "6          2        1   ...          1        1       0        1         1   \n",
       "19         5        1   ...          0        0       0        0         8   \n",
       "20         5        1   ...          0        0       0        0         8   \n",
       "\n",
       "    m5g_mtr3  m5g_mtr4  i_m5g1  i_m5g2  i_m5g3  \n",
       "2          1         1       5       0       0  \n",
       "3          8         9       0       0       0  \n",
       "6          1         1       0       0       0  \n",
       "19         8         9       0       0       0  \n",
       "20         8         9       0       0       0  \n",
       "\n",
       "[5 rows x 704 columns]"
      ]
     },
     "execution_count": 15,
     "metadata": {},
     "output_type": "execute_result"
    }
   ],
   "source": [
    "df[df.a_age < 24].head()"
   ]
  },
  {
   "cell_type": "markdown",
   "metadata": {},
   "source": [
    "San Francisco-Oakland-Hayward CBSA = 41860"
   ]
  },
  {
   "cell_type": "code",
   "execution_count": 19,
   "metadata": {
    "collapsed": false
   },
   "outputs": [],
   "source": [
    "bay_households = df[df.gtcbsa == 41860][['h_seq', 'h_numper']]"
   ]
  },
  {
   "cell_type": "code",
   "execution_count": 20,
   "metadata": {
    "collapsed": false
   },
   "outputs": [],
   "source": [
    "bay_households = bay_households.drop_duplicates()"
   ]
  },
  {
   "cell_type": "code",
   "execution_count": 21,
   "metadata": {
    "collapsed": false
   },
   "outputs": [
    {
     "data": {
      "text/plain": [
       "805"
      ]
     },
     "execution_count": 21,
     "metadata": {},
     "output_type": "execute_result"
    }
   ],
   "source": [
    "len(bay_households)"
   ]
  },
  {
   "cell_type": "code",
   "execution_count": 22,
   "metadata": {
    "collapsed": false
   },
   "outputs": [
    {
     "data": {
      "text/html": [
       "<div>\n",
       "<table border=\"1\" class=\"dataframe\">\n",
       "  <thead>\n",
       "    <tr style=\"text-align: right;\">\n",
       "      <th></th>\n",
       "      <th>hrecord</th>\n",
       "      <th>h_seq</th>\n",
       "      <th>hhpos</th>\n",
       "      <th>hunits</th>\n",
       "      <th>hefaminc</th>\n",
       "      <th>h_respnm</th>\n",
       "      <th>h_year</th>\n",
       "      <th>h_hhtype</th>\n",
       "      <th>h_numper</th>\n",
       "      <th>hnumfam</th>\n",
       "      <th>...</th>\n",
       "      <th>m5gsame</th>\n",
       "      <th>m5g_reg</th>\n",
       "      <th>m5g_st</th>\n",
       "      <th>m5g_div</th>\n",
       "      <th>m5g_mtr1</th>\n",
       "      <th>m5g_mtr3</th>\n",
       "      <th>m5g_mtr4</th>\n",
       "      <th>i_m5g1</th>\n",
       "      <th>i_m5g2</th>\n",
       "      <th>i_m5g3</th>\n",
       "    </tr>\n",
       "  </thead>\n",
       "  <tbody>\n",
       "    <tr>\n",
       "      <th>188353</th>\n",
       "      <td>1</td>\n",
       "      <td>94631</td>\n",
       "      <td>0</td>\n",
       "      <td>5</td>\n",
       "      <td>8</td>\n",
       "      <td>1</td>\n",
       "      <td>2015</td>\n",
       "      <td>1</td>\n",
       "      <td>7</td>\n",
       "      <td>1</td>\n",
       "      <td>...</td>\n",
       "      <td>2</td>\n",
       "      <td>4</td>\n",
       "      <td>6</td>\n",
       "      <td>9</td>\n",
       "      <td>2</td>\n",
       "      <td>2</td>\n",
       "      <td>2</td>\n",
       "      <td>0</td>\n",
       "      <td>0</td>\n",
       "      <td>0</td>\n",
       "    </tr>\n",
       "    <tr>\n",
       "      <th>188354</th>\n",
       "      <td>1</td>\n",
       "      <td>94631</td>\n",
       "      <td>0</td>\n",
       "      <td>5</td>\n",
       "      <td>8</td>\n",
       "      <td>1</td>\n",
       "      <td>2015</td>\n",
       "      <td>1</td>\n",
       "      <td>7</td>\n",
       "      <td>1</td>\n",
       "      <td>...</td>\n",
       "      <td>2</td>\n",
       "      <td>4</td>\n",
       "      <td>6</td>\n",
       "      <td>9</td>\n",
       "      <td>2</td>\n",
       "      <td>2</td>\n",
       "      <td>2</td>\n",
       "      <td>0</td>\n",
       "      <td>0</td>\n",
       "      <td>0</td>\n",
       "    </tr>\n",
       "    <tr>\n",
       "      <th>188355</th>\n",
       "      <td>1</td>\n",
       "      <td>94631</td>\n",
       "      <td>0</td>\n",
       "      <td>5</td>\n",
       "      <td>8</td>\n",
       "      <td>1</td>\n",
       "      <td>2015</td>\n",
       "      <td>1</td>\n",
       "      <td>7</td>\n",
       "      <td>1</td>\n",
       "      <td>...</td>\n",
       "      <td>2</td>\n",
       "      <td>4</td>\n",
       "      <td>6</td>\n",
       "      <td>9</td>\n",
       "      <td>2</td>\n",
       "      <td>2</td>\n",
       "      <td>2</td>\n",
       "      <td>0</td>\n",
       "      <td>0</td>\n",
       "      <td>0</td>\n",
       "    </tr>\n",
       "    <tr>\n",
       "      <th>188356</th>\n",
       "      <td>1</td>\n",
       "      <td>94631</td>\n",
       "      <td>0</td>\n",
       "      <td>5</td>\n",
       "      <td>8</td>\n",
       "      <td>1</td>\n",
       "      <td>2015</td>\n",
       "      <td>1</td>\n",
       "      <td>7</td>\n",
       "      <td>1</td>\n",
       "      <td>...</td>\n",
       "      <td>2</td>\n",
       "      <td>4</td>\n",
       "      <td>6</td>\n",
       "      <td>9</td>\n",
       "      <td>2</td>\n",
       "      <td>2</td>\n",
       "      <td>2</td>\n",
       "      <td>0</td>\n",
       "      <td>0</td>\n",
       "      <td>0</td>\n",
       "    </tr>\n",
       "    <tr>\n",
       "      <th>188357</th>\n",
       "      <td>1</td>\n",
       "      <td>94631</td>\n",
       "      <td>0</td>\n",
       "      <td>5</td>\n",
       "      <td>8</td>\n",
       "      <td>1</td>\n",
       "      <td>2015</td>\n",
       "      <td>1</td>\n",
       "      <td>7</td>\n",
       "      <td>1</td>\n",
       "      <td>...</td>\n",
       "      <td>2</td>\n",
       "      <td>4</td>\n",
       "      <td>6</td>\n",
       "      <td>9</td>\n",
       "      <td>2</td>\n",
       "      <td>2</td>\n",
       "      <td>2</td>\n",
       "      <td>0</td>\n",
       "      <td>0</td>\n",
       "      <td>0</td>\n",
       "    </tr>\n",
       "  </tbody>\n",
       "</table>\n",
       "<p>5 rows × 704 columns</p>\n",
       "</div>"
      ],
      "text/plain": [
       "        hrecord  h_seq  hhpos  hunits  hefaminc  h_respnm  h_year  h_hhtype  \\\n",
       "188353        1  94631      0       5         8         1    2015         1   \n",
       "188354        1  94631      0       5         8         1    2015         1   \n",
       "188355        1  94631      0       5         8         1    2015         1   \n",
       "188356        1  94631      0       5         8         1    2015         1   \n",
       "188357        1  94631      0       5         8         1    2015         1   \n",
       "\n",
       "        h_numper  hnumfam   ...    m5gsame  m5g_reg  m5g_st  m5g_div  \\\n",
       "188353         7        1   ...          2        4       6        9   \n",
       "188354         7        1   ...          2        4       6        9   \n",
       "188355         7        1   ...          2        4       6        9   \n",
       "188356         7        1   ...          2        4       6        9   \n",
       "188357         7        1   ...          2        4       6        9   \n",
       "\n",
       "        m5g_mtr1  m5g_mtr3  m5g_mtr4  i_m5g1  i_m5g2  i_m5g3  \n",
       "188353         2         2         2       0       0       0  \n",
       "188354         2         2         2       0       0       0  \n",
       "188355         2         2         2       0       0       0  \n",
       "188356         2         2         2       0       0       0  \n",
       "188357         2         2         2       0       0       0  \n",
       "\n",
       "[5 rows x 704 columns]"
      ]
     },
     "execution_count": 22,
     "metadata": {},
     "output_type": "execute_result"
    }
   ],
   "source": [
    "df[df.gtcbsa == 41860].head()"
   ]
  },
  {
   "cell_type": "code",
   "execution_count": 23,
   "metadata": {
    "collapsed": false
   },
   "outputs": [
    {
     "data": {
      "text/plain": [
       "82"
      ]
     },
     "execution_count": 23,
     "metadata": {},
     "output_type": "execute_result"
    }
   ],
   "source": [
    "len(df.a_age.unique())"
   ]
  },
  {
   "cell_type": "code",
   "execution_count": 16,
   "metadata": {
    "collapsed": false
   },
   "outputs": [
    {
     "data": {
      "text/plain": [
       "array([10,  5,  0, 17, 14,  2, 16, 15, 13,  6, 12,  8,  9, 11,  7,  4,  1,\n",
       "        3])"
      ]
     },
     "execution_count": 16,
     "metadata": {},
     "output_type": "execute_result"
    }
   ],
   "source": [
    "df.age1.unique()"
   ]
  },
  {
   "cell_type": "code",
   "execution_count": 36,
   "metadata": {
    "collapsed": false
   },
   "outputs": [],
   "source": [
    "df2 = pd.read_stata('CPS Data/2014/cpsmar2014.dta', convert_categoricals = False)"
   ]
  },
  {
   "cell_type": "code",
   "execution_count": 8,
   "metadata": {
    "collapsed": false
   },
   "outputs": [
    {
     "data": {
      "text/html": [
       "<div>\n",
       "<table border=\"1\" class=\"dataframe\">\n",
       "  <thead>\n",
       "    <tr style=\"text-align: right;\">\n",
       "      <th></th>\n",
       "      <th>hrecord</th>\n",
       "      <th>h_seq</th>\n",
       "      <th>hhpos</th>\n",
       "      <th>hunits</th>\n",
       "      <th>hefaminc</th>\n",
       "      <th>h_respnm</th>\n",
       "      <th>h_year</th>\n",
       "      <th>h_hhtype</th>\n",
       "      <th>h_numper</th>\n",
       "      <th>hnumfam</th>\n",
       "      <th>...</th>\n",
       "      <th>tdiv_val</th>\n",
       "      <th>trnt_val</th>\n",
       "      <th>ted_val</th>\n",
       "      <th>tcsp_val</th>\n",
       "      <th>tfin_val</th>\n",
       "      <th>toi_val</th>\n",
       "      <th>tphip_val</th>\n",
       "      <th>tpotc_val</th>\n",
       "      <th>tpmed_val</th>\n",
       "      <th>tchsp_val</th>\n",
       "    </tr>\n",
       "  </thead>\n",
       "  <tbody>\n",
       "    <tr>\n",
       "      <th>0</th>\n",
       "      <td>1</td>\n",
       "      <td>3</td>\n",
       "      <td>0</td>\n",
       "      <td>1</td>\n",
       "      <td>9</td>\n",
       "      <td>2</td>\n",
       "      <td>2014</td>\n",
       "      <td>1</td>\n",
       "      <td>2</td>\n",
       "      <td>1</td>\n",
       "      <td>...</td>\n",
       "      <td>0</td>\n",
       "      <td>0</td>\n",
       "      <td>0</td>\n",
       "      <td>0</td>\n",
       "      <td>0</td>\n",
       "      <td>0</td>\n",
       "      <td>0</td>\n",
       "      <td>0</td>\n",
       "      <td>0</td>\n",
       "      <td>0</td>\n",
       "    </tr>\n",
       "    <tr>\n",
       "      <th>1</th>\n",
       "      <td>1</td>\n",
       "      <td>3</td>\n",
       "      <td>0</td>\n",
       "      <td>1</td>\n",
       "      <td>9</td>\n",
       "      <td>2</td>\n",
       "      <td>2014</td>\n",
       "      <td>1</td>\n",
       "      <td>2</td>\n",
       "      <td>1</td>\n",
       "      <td>...</td>\n",
       "      <td>0</td>\n",
       "      <td>0</td>\n",
       "      <td>0</td>\n",
       "      <td>0</td>\n",
       "      <td>0</td>\n",
       "      <td>0</td>\n",
       "      <td>0</td>\n",
       "      <td>0</td>\n",
       "      <td>0</td>\n",
       "      <td>0</td>\n",
       "    </tr>\n",
       "    <tr>\n",
       "      <th>2</th>\n",
       "      <td>1</td>\n",
       "      <td>4</td>\n",
       "      <td>0</td>\n",
       "      <td>1</td>\n",
       "      <td>7</td>\n",
       "      <td>1</td>\n",
       "      <td>2014</td>\n",
       "      <td>1</td>\n",
       "      <td>2</td>\n",
       "      <td>1</td>\n",
       "      <td>...</td>\n",
       "      <td>0</td>\n",
       "      <td>0</td>\n",
       "      <td>0</td>\n",
       "      <td>0</td>\n",
       "      <td>0</td>\n",
       "      <td>0</td>\n",
       "      <td>0</td>\n",
       "      <td>0</td>\n",
       "      <td>0</td>\n",
       "      <td>0</td>\n",
       "    </tr>\n",
       "    <tr>\n",
       "      <th>3</th>\n",
       "      <td>1</td>\n",
       "      <td>4</td>\n",
       "      <td>0</td>\n",
       "      <td>1</td>\n",
       "      <td>7</td>\n",
       "      <td>1</td>\n",
       "      <td>2014</td>\n",
       "      <td>1</td>\n",
       "      <td>2</td>\n",
       "      <td>1</td>\n",
       "      <td>...</td>\n",
       "      <td>0</td>\n",
       "      <td>0</td>\n",
       "      <td>0</td>\n",
       "      <td>0</td>\n",
       "      <td>0</td>\n",
       "      <td>0</td>\n",
       "      <td>0</td>\n",
       "      <td>0</td>\n",
       "      <td>0</td>\n",
       "      <td>0</td>\n",
       "    </tr>\n",
       "    <tr>\n",
       "      <th>4</th>\n",
       "      <td>1</td>\n",
       "      <td>6</td>\n",
       "      <td>0</td>\n",
       "      <td>1</td>\n",
       "      <td>12</td>\n",
       "      <td>1</td>\n",
       "      <td>2014</td>\n",
       "      <td>1</td>\n",
       "      <td>2</td>\n",
       "      <td>1</td>\n",
       "      <td>...</td>\n",
       "      <td>0</td>\n",
       "      <td>0</td>\n",
       "      <td>0</td>\n",
       "      <td>0</td>\n",
       "      <td>0</td>\n",
       "      <td>0</td>\n",
       "      <td>0</td>\n",
       "      <td>0</td>\n",
       "      <td>0</td>\n",
       "      <td>0</td>\n",
       "    </tr>\n",
       "  </tbody>\n",
       "</table>\n",
       "<p>5 rows × 700 columns</p>\n",
       "</div>"
      ],
      "text/plain": [
       "   hrecord  h_seq  hhpos  hunits  hefaminc  h_respnm  h_year  h_hhtype  \\\n",
       "0        1      3      0       1         9         2    2014         1   \n",
       "1        1      3      0       1         9         2    2014         1   \n",
       "2        1      4      0       1         7         1    2014         1   \n",
       "3        1      4      0       1         7         1    2014         1   \n",
       "4        1      6      0       1        12         1    2014         1   \n",
       "\n",
       "   h_numper  hnumfam    ...      tdiv_val  trnt_val  ted_val  tcsp_val  \\\n",
       "0         2        1    ...             0         0        0         0   \n",
       "1         2        1    ...             0         0        0         0   \n",
       "2         2        1    ...             0         0        0         0   \n",
       "3         2        1    ...             0         0        0         0   \n",
       "4         2        1    ...             0         0        0         0   \n",
       "\n",
       "   tfin_val  toi_val  tphip_val  tpotc_val  tpmed_val  tchsp_val  \n",
       "0         0        0          0          0          0          0  \n",
       "1         0        0          0          0          0          0  \n",
       "2         0        0          0          0          0          0  \n",
       "3         0        0          0          0          0          0  \n",
       "4         0        0          0          0          0          0  \n",
       "\n",
       "[5 rows x 700 columns]"
      ]
     },
     "execution_count": 8,
     "metadata": {},
     "output_type": "execute_result"
    }
   ],
   "source": [
    "df2.head()"
   ]
  },
  {
   "cell_type": "code",
   "execution_count": 9,
   "metadata": {
    "collapsed": false
   },
   "outputs": [
    {
     "name": "stdout",
     "output_type": "stream",
     "text": [
      "199024\n",
      "60141\n"
     ]
    }
   ],
   "source": [
    "print len(df)\n",
    "print len(df2)"
   ]
  },
  {
   "cell_type": "code",
   "execution_count": 10,
   "metadata": {
    "collapsed": true
   },
   "outputs": [],
   "source": [
    "df = df.append(df2)"
   ]
  },
  {
   "cell_type": "code",
   "execution_count": 11,
   "metadata": {
    "collapsed": false
   },
   "outputs": [
    {
     "data": {
      "text/plain": [
       "259165"
      ]
     },
     "execution_count": 11,
     "metadata": {},
     "output_type": "execute_result"
    }
   ],
   "source": [
    "len(df)"
   ]
  },
  {
   "cell_type": "code",
   "execution_count": 12,
   "metadata": {
    "collapsed": false
   },
   "outputs": [
    {
     "data": {
      "text/html": [
       "<div>\n",
       "<table border=\"1\" class=\"dataframe\">\n",
       "  <thead>\n",
       "    <tr style=\"text-align: right;\">\n",
       "      <th></th>\n",
       "      <th>a_age</th>\n",
       "      <th>a_civlf</th>\n",
       "      <th>a_clswkr</th>\n",
       "      <th>a_dtind</th>\n",
       "      <th>a_dtocc</th>\n",
       "      <th>a_enrlw</th>\n",
       "      <th>a_ernlwt</th>\n",
       "      <th>a_explf</th>\n",
       "      <th>a_exprrp</th>\n",
       "      <th>a_famnum</th>\n",
       "      <th>...</th>\n",
       "      <th>wicyn</th>\n",
       "      <th>wicyna</th>\n",
       "      <th>wkcheck</th>\n",
       "      <th>wkswork</th>\n",
       "      <th>workyn</th>\n",
       "      <th>wrk_ck</th>\n",
       "      <th>ws_val</th>\n",
       "      <th>wsal_val</th>\n",
       "      <th>wsal_yn</th>\n",
       "      <th>wtemp</th>\n",
       "    </tr>\n",
       "  </thead>\n",
       "  <tbody>\n",
       "    <tr>\n",
       "      <th>0</th>\n",
       "      <td>48</td>\n",
       "      <td>1</td>\n",
       "      <td>1</td>\n",
       "      <td>23</td>\n",
       "      <td>22</td>\n",
       "      <td>2</td>\n",
       "      <td>0</td>\n",
       "      <td>1</td>\n",
       "      <td>1</td>\n",
       "      <td>1</td>\n",
       "      <td>...</td>\n",
       "      <td>0</td>\n",
       "      <td>0</td>\n",
       "      <td>3</td>\n",
       "      <td>52</td>\n",
       "      <td>1</td>\n",
       "      <td>1</td>\n",
       "      <td>0</td>\n",
       "      <td>40000</td>\n",
       "      <td>1</td>\n",
       "      <td>0</td>\n",
       "    </tr>\n",
       "    <tr>\n",
       "      <th>1</th>\n",
       "      <td>45</td>\n",
       "      <td>0</td>\n",
       "      <td>0</td>\n",
       "      <td>0</td>\n",
       "      <td>0</td>\n",
       "      <td>2</td>\n",
       "      <td>0</td>\n",
       "      <td>0</td>\n",
       "      <td>4</td>\n",
       "      <td>1</td>\n",
       "      <td>...</td>\n",
       "      <td>2</td>\n",
       "      <td>1</td>\n",
       "      <td>1</td>\n",
       "      <td>17</td>\n",
       "      <td>1</td>\n",
       "      <td>1</td>\n",
       "      <td>0</td>\n",
       "      <td>6000</td>\n",
       "      <td>1</td>\n",
       "      <td>0</td>\n",
       "    </tr>\n",
       "    <tr>\n",
       "      <th>2</th>\n",
       "      <td>23</td>\n",
       "      <td>1</td>\n",
       "      <td>1</td>\n",
       "      <td>22</td>\n",
       "      <td>16</td>\n",
       "      <td>2</td>\n",
       "      <td>0</td>\n",
       "      <td>1</td>\n",
       "      <td>12</td>\n",
       "      <td>2</td>\n",
       "      <td>...</td>\n",
       "      <td>2</td>\n",
       "      <td>1</td>\n",
       "      <td>3</td>\n",
       "      <td>52</td>\n",
       "      <td>1</td>\n",
       "      <td>1</td>\n",
       "      <td>0</td>\n",
       "      <td>16000</td>\n",
       "      <td>1</td>\n",
       "      <td>0</td>\n",
       "    </tr>\n",
       "    <tr>\n",
       "      <th>3</th>\n",
       "      <td>2</td>\n",
       "      <td>0</td>\n",
       "      <td>0</td>\n",
       "      <td>0</td>\n",
       "      <td>0</td>\n",
       "      <td>0</td>\n",
       "      <td>0</td>\n",
       "      <td>0</td>\n",
       "      <td>12</td>\n",
       "      <td>2</td>\n",
       "      <td>...</td>\n",
       "      <td>2</td>\n",
       "      <td>1</td>\n",
       "      <td>0</td>\n",
       "      <td>0</td>\n",
       "      <td>0</td>\n",
       "      <td>0</td>\n",
       "      <td>0</td>\n",
       "      <td>0</td>\n",
       "      <td>0</td>\n",
       "      <td>0</td>\n",
       "    </tr>\n",
       "    <tr>\n",
       "      <th>4</th>\n",
       "      <td>80</td>\n",
       "      <td>0</td>\n",
       "      <td>0</td>\n",
       "      <td>0</td>\n",
       "      <td>0</td>\n",
       "      <td>0</td>\n",
       "      <td>0</td>\n",
       "      <td>0</td>\n",
       "      <td>2</td>\n",
       "      <td>0</td>\n",
       "      <td>...</td>\n",
       "      <td>0</td>\n",
       "      <td>0</td>\n",
       "      <td>0</td>\n",
       "      <td>0</td>\n",
       "      <td>2</td>\n",
       "      <td>2</td>\n",
       "      <td>0</td>\n",
       "      <td>0</td>\n",
       "      <td>2</td>\n",
       "      <td>2</td>\n",
       "    </tr>\n",
       "  </tbody>\n",
       "</table>\n",
       "<p>5 rows × 712 columns</p>\n",
       "</div>"
      ],
      "text/plain": [
       "   a_age  a_civlf  a_clswkr  a_dtind  a_dtocc  a_enrlw  a_ernlwt  a_explf  \\\n",
       "0     48        1         1       23       22        2         0        1   \n",
       "1     45        0         0        0        0        2         0        0   \n",
       "2     23        1         1       22       16        2         0        1   \n",
       "3      2        0         0        0        0        0         0        0   \n",
       "4     80        0         0        0        0        0         0        0   \n",
       "\n",
       "   a_exprrp  a_famnum  ...    wicyn  wicyna  wkcheck  wkswork  workyn  wrk_ck  \\\n",
       "0         1         1  ...        0       0        3       52       1       1   \n",
       "1         4         1  ...        2       1        1       17       1       1   \n",
       "2        12         2  ...        2       1        3       52       1       1   \n",
       "3        12         2  ...        2       1        0        0       0       0   \n",
       "4         2         0  ...        0       0        0        0       2       2   \n",
       "\n",
       "   ws_val  wsal_val  wsal_yn  wtemp  \n",
       "0       0     40000        1      0  \n",
       "1       0      6000        1      0  \n",
       "2       0     16000        1      0  \n",
       "3       0         0        0      0  \n",
       "4       0         0        2      2  \n",
       "\n",
       "[5 rows x 712 columns]"
      ]
     },
     "execution_count": 12,
     "metadata": {},
     "output_type": "execute_result"
    }
   ],
   "source": [
    "df.head()"
   ]
  },
  {
   "cell_type": "markdown",
   "metadata": {
    "collapsed": true
   },
   "source": [
    "\"Living independently means heading one's own household or living in a household headed by a spouse, unmarried partner, or other non-relative. Young adults are 18- to 34-year olds, excludes 18- to 24-year-old college students enrolled full time\"\n",
    "\n",
    "So we need to identify the following fields/people:\n",
    "-Age\n",
    "-Household\n",
    "-Head of household\n",
    "-College enrollment status\n",
    "\n",
    "Also need to identify how these have changed across time - Pew study looked at 2007 (or 2000?) onward."
   ]
  },
  {
   "cell_type": "markdown",
   "metadata": {},
   "source": [
    "\"'Doubled up' mean living with one or more adults who is not your spouse or unmarried partner; those living with parents or other relatives are considered 'doubled up.' Young adults are 18- to 34-year olds, excludes 18- to 24-year-old college students enrolled full time\""
   ]
  },
  {
   "cell_type": "code",
   "execution_count": 39,
   "metadata": {
    "collapsed": false
   },
   "outputs": [
    {
     "data": {
      "text/plain": [
       "['hrecord',\n",
       " 'h_seq',\n",
       " 'hhpos',\n",
       " 'hunits',\n",
       " 'hefaminc',\n",
       " 'h_respnm',\n",
       " 'h_year',\n",
       " 'h_hhtype',\n",
       " 'h_numper',\n",
       " 'hnumfam',\n",
       " 'h_seq',\n",
       " 'parent']"
      ]
     },
     "execution_count": 39,
     "metadata": {},
     "output_type": "execute_result"
    }
   ],
   "source": [
    "df.columns[0:10].tolist()+['h_seq','parent']"
   ]
  },
  {
   "cell_type": "code",
   "execution_count": 41,
   "metadata": {
    "collapsed": false
   },
   "outputs": [
    {
     "data": {
      "text/plain": [
       "array([0, 2, 4, 1, 3])"
      ]
     },
     "execution_count": 41,
     "metadata": {},
     "output_type": "execute_result"
    }
   ],
   "source": [
    "df.parent.unique()"
   ]
  },
  {
   "cell_type": "code",
   "execution_count": null,
   "metadata": {
    "collapsed": false
   },
   "outputs": [],
   "source": [
    "df[df.columns[0:10].tolist()+['h_seq','parent']].head()"
   ]
  },
  {
   "cell_type": "code",
   "execution_count": 24,
   "metadata": {
    "collapsed": false
   },
   "outputs": [
    {
     "data": {
      "text/plain": [
       "['a_lineno']"
      ]
     },
     "execution_count": 24,
     "metadata": {},
     "output_type": "execute_result"
    }
   ],
   "source": [
    "[column for column in columns_2015 if 'line' in column]"
   ]
  },
  {
   "cell_type": "code",
   "execution_count": 25,
   "metadata": {
    "collapsed": false
   },
   "outputs": [
    {
     "data": {
      "text/plain": [
       "3    66243\n",
       "1    55197\n",
       "2    38963\n",
       "0    31165\n",
       "4     7456\n",
       "Name: a_famrel, dtype: int64"
      ]
     },
     "execution_count": 25,
     "metadata": {},
     "output_type": "execute_result"
    }
   ],
   "source": [
    "df.a_famrel.value_counts()"
   ]
  },
  {
   "cell_type": "code",
   "execution_count": 27,
   "metadata": {
    "collapsed": false
   },
   "outputs": [
    {
     "data": {
      "text/plain": [
       "0    180923\n",
       "2     10062\n",
       "1      8039\n",
       "Name: a_hscol, dtype: int64"
      ]
     },
     "execution_count": 27,
     "metadata": {},
     "output_type": "execute_result"
    }
   ],
   "source": [
    "df.a_hscol.value_counts()"
   ]
  },
  {
   "cell_type": "code",
   "execution_count": 28,
   "metadata": {
    "collapsed": false
   },
   "outputs": [
    {
     "data": {
      "text/plain": [
       "0    180923\n",
       "1     15516\n",
       "2      2585\n",
       "Name: a_ftpt, dtype: int64"
      ]
     },
     "execution_count": 28,
     "metadata": {},
     "output_type": "execute_result"
    }
   ],
   "source": [
    "df.a_ftpt.value_counts()"
   ]
  },
  {
   "cell_type": "code",
   "execution_count": 15,
   "metadata": {
    "collapsed": false
   },
   "outputs": [
    {
     "data": {
      "text/plain": [
       "199024"
      ]
     },
     "execution_count": 15,
     "metadata": {},
     "output_type": "execute_result"
    }
   ],
   "source": [
    "len(df)"
   ]
  },
  {
   "cell_type": "markdown",
   "metadata": {
    "collapsed": true
   },
   "source": [
    "### Variables deciphered so far:\n",
    "\n",
    "- h_seq: is the same across a household\n",
    "- a_age: indicates age\n",
    "- perrp: indicates \"Relationship to reference\" (need to investigate more)\n",
    "- a_fam_rel: indicates \"family relation\" (perhaps better than perrp)\n",
    "- prdtrace: race\n",
    "- a_lineno: line number of the person (used for things like \"line number of parent\")\n",
    "- a_ftpt: full time or part time in school\n",
    "- a_hscol: high school or college\n",
    "- h_type: household type (married/unmarried, other types)\n",
    "\n",
    "Need to identify:\n",
    "PESCHFT (Are you enrolled in school as a full-time or part-time student?)\n",
    "PESCHLVL (High school, college, or university?)\n",
    "HRHTYPE (Household type, may help us decipher family or not)\n",
    "\n",
    "\"Living independently means heading one's own household or living in a household headed by a spouse, unmarried partner, or other non-relative. Young adults are 18- to 34-year olds, excludes 18- to 24-year-old college students enrolled full time\"\n",
    "\n",
    "So we need to identify the following fields/people:\n",
    "-Age\n",
    "-Household\n",
    "-Head of household\n",
    "-College enrollment status\n",
    "\n",
    "Also need to identify how these have changed across time - Pew study looked at 2007 (or 2000?) onward."
   ]
  },
  {
   "cell_type": "code",
   "execution_count": 30,
   "metadata": {
    "collapsed": true
   },
   "outputs": [],
   "source": [
    "def in_sample(row):\n",
    "    #In sample if between 18 and 34 AND (not in college or not full time)\n",
    "    if row['a_age'] >= 18 and row['a_age'] < 35 and not (row['a_age'] < 25 and (row['a_hscol'] == 2 and row['a_ftpt'] == 1)):\n",
    "        return 1\n",
    "    else:\n",
    "        return 0"
   ]
  },
  {
   "cell_type": "code",
   "execution_count": 31,
   "metadata": {
    "collapsed": false
   },
   "outputs": [],
   "source": [
    "df['Millenial'] = df.apply(lambda row: 1 if row['a_age'] >= 18 and row['a_age'] < 35 else 0, axis = 1)"
   ]
  },
  {
   "cell_type": "code",
   "execution_count": 32,
   "metadata": {
    "collapsed": true
   },
   "outputs": [],
   "source": [
    "df['FT College'] = df.apply(lambda row: 1 if row['a_hscol'] == 2 and row['a_ftpt'] == 1 else 0, axis = 1)"
   ]
  },
  {
   "cell_type": "code",
   "execution_count": 33,
   "metadata": {
    "collapsed": false
   },
   "outputs": [
    {
     "data": {
      "text/html": [
       "<div>\n",
       "<table border=\"1\" class=\"dataframe\">\n",
       "  <thead>\n",
       "    <tr style=\"text-align: right;\">\n",
       "      <th>FT College</th>\n",
       "      <th>0</th>\n",
       "      <th>1</th>\n",
       "    </tr>\n",
       "    <tr>\n",
       "      <th>Millenial</th>\n",
       "      <th></th>\n",
       "      <th></th>\n",
       "    </tr>\n",
       "  </thead>\n",
       "  <tbody>\n",
       "    <tr>\n",
       "      <th>0</th>\n",
       "      <td>155420</td>\n",
       "      <td>821</td>\n",
       "    </tr>\n",
       "    <tr>\n",
       "      <th>1</th>\n",
       "      <td>35953</td>\n",
       "      <td>6830</td>\n",
       "    </tr>\n",
       "  </tbody>\n",
       "</table>\n",
       "</div>"
      ],
      "text/plain": [
       "FT College       0     1\n",
       "Millenial               \n",
       "0           155420   821\n",
       "1            35953  6830"
      ]
     },
     "execution_count": 33,
     "metadata": {},
     "output_type": "execute_result"
    }
   ],
   "source": [
    "pd.pivot_table(df, values='h_seq', index=['Millenial'], columns=['FT College'], aggfunc=np.count_nonzero)"
   ]
  },
  {
   "cell_type": "markdown",
   "metadata": {},
   "source": [
    "So there are 821 non-millenials who are FT college students"
   ]
  },
  {
   "cell_type": "markdown",
   "metadata": {},
   "source": [
    "Old method without college status"
   ]
  },
  {
   "cell_type": "code",
   "execution_count": null,
   "metadata": {
    "collapsed": true
   },
   "outputs": [],
   "source": [
    "#df['In Sample'] = df.apply(lambda x: 1 if x['a_age'] >= 18 and x['a_age'] < 35 else 0, axis = 1)"
   ]
  },
  {
   "cell_type": "code",
   "execution_count": 26,
   "metadata": {
    "collapsed": false
   },
   "outputs": [
    {
     "data": {
      "text/plain": [
       "0    156241\n",
       "1     42783\n",
       "dtype: int64"
      ]
     },
     "execution_count": 26,
     "metadata": {},
     "output_type": "execute_result"
    }
   ],
   "source": [
    "#df['In Sample'].value_counts()"
   ]
  },
  {
   "cell_type": "code",
   "execution_count": 34,
   "metadata": {
    "collapsed": false
   },
   "outputs": [
    {
     "data": {
      "text/html": [
       "<div>\n",
       "<table border=\"1\" class=\"dataframe\">\n",
       "  <thead>\n",
       "    <tr style=\"text-align: right;\">\n",
       "      <th>a_ftpt</th>\n",
       "      <th>0</th>\n",
       "      <th>1</th>\n",
       "      <th>2</th>\n",
       "    </tr>\n",
       "    <tr>\n",
       "      <th>a_hscol</th>\n",
       "      <th></th>\n",
       "      <th></th>\n",
       "      <th></th>\n",
       "    </tr>\n",
       "  </thead>\n",
       "  <tbody>\n",
       "    <tr>\n",
       "      <th>0</th>\n",
       "      <td>180923</td>\n",
       "      <td>NaN</td>\n",
       "      <td>NaN</td>\n",
       "    </tr>\n",
       "    <tr>\n",
       "      <th>1</th>\n",
       "      <td>NaN</td>\n",
       "      <td>7865</td>\n",
       "      <td>174</td>\n",
       "    </tr>\n",
       "    <tr>\n",
       "      <th>2</th>\n",
       "      <td>NaN</td>\n",
       "      <td>7651</td>\n",
       "      <td>2411</td>\n",
       "    </tr>\n",
       "  </tbody>\n",
       "</table>\n",
       "</div>"
      ],
      "text/plain": [
       "a_ftpt        0     1     2\n",
       "a_hscol                    \n",
       "0        180923   NaN   NaN\n",
       "1           NaN  7865   174\n",
       "2           NaN  7651  2411"
      ]
     },
     "execution_count": 34,
     "metadata": {},
     "output_type": "execute_result"
    }
   ],
   "source": [
    "pd.pivot_table(df, values='h_seq', index=['a_hscol'], columns=['a_ftpt'], aggfunc=np.count_nonzero)"
   ]
  },
  {
   "cell_type": "code",
   "execution_count": 40,
   "metadata": {
    "collapsed": false
   },
   "outputs": [
    {
     "data": {
      "text/plain": [
       "35132"
      ]
     },
     "execution_count": 40,
     "metadata": {},
     "output_type": "execute_result"
    }
   ],
   "source": [
    "42783-7651"
   ]
  },
  {
   "cell_type": "code",
   "execution_count": 35,
   "metadata": {
    "collapsed": false
   },
   "outputs": [],
   "source": [
    "df['In Sample'] = df.apply(in_sample, axis = 1)"
   ]
  },
  {
   "cell_type": "code",
   "execution_count": 36,
   "metadata": {
    "collapsed": false
   },
   "outputs": [
    {
     "data": {
      "text/html": [
       "<div>\n",
       "<table border=\"1\" class=\"dataframe\">\n",
       "  <thead>\n",
       "    <tr style=\"text-align: right;\">\n",
       "      <th>a_ftpt</th>\n",
       "      <th>0</th>\n",
       "      <th>1</th>\n",
       "      <th>2</th>\n",
       "    </tr>\n",
       "    <tr>\n",
       "      <th>In Sample</th>\n",
       "      <th></th>\n",
       "      <th></th>\n",
       "      <th></th>\n",
       "    </tr>\n",
       "  </thead>\n",
       "  <tbody>\n",
       "    <tr>\n",
       "      <th>0</th>\n",
       "      <td>148812</td>\n",
       "      <td>11908</td>\n",
       "      <td>823</td>\n",
       "    </tr>\n",
       "    <tr>\n",
       "      <th>1</th>\n",
       "      <td>32111</td>\n",
       "      <td>3608</td>\n",
       "      <td>1762</td>\n",
       "    </tr>\n",
       "  </tbody>\n",
       "</table>\n",
       "</div>"
      ],
      "text/plain": [
       "a_ftpt          0      1     2\n",
       "In Sample                     \n",
       "0          148812  11908   823\n",
       "1           32111   3608  1762"
      ]
     },
     "execution_count": 36,
     "metadata": {},
     "output_type": "execute_result"
    }
   ],
   "source": [
    "pd.pivot_table(df, values='h_seq', index=['In Sample'], columns=['a_ftpt'], aggfunc=np.count_nonzero)"
   ]
  },
  {
   "cell_type": "code",
   "execution_count": 37,
   "metadata": {
    "collapsed": false
   },
   "outputs": [
    {
     "data": {
      "text/plain": [
       "0    161543\n",
       "1     37481\n",
       "Name: In Sample, dtype: int64"
      ]
     },
     "execution_count": 37,
     "metadata": {},
     "output_type": "execute_result"
    }
   ],
   "source": [
    "df['In Sample'].value_counts()"
   ]
  },
  {
   "cell_type": "code",
   "execution_count": 38,
   "metadata": {
    "collapsed": false
   },
   "outputs": [
    {
     "data": {
      "text/plain": [
       "1    123153\n",
       "4     32814\n",
       "7     14138\n",
       "6     13949\n",
       "3     12711\n",
       "2      1971\n",
       "5       119\n",
       "9       115\n",
       "8        54\n",
       "Name: h_type, dtype: int64"
      ]
     },
     "execution_count": 38,
     "metadata": {},
     "output_type": "execute_result"
    }
   ],
   "source": [
    "df['h_type'].value_counts()"
   ]
  },
  {
   "cell_type": "markdown",
   "metadata": {},
   "source": [
    "- 0   NON-INTERVIEW HOUSEHOLD\n",
    "- 1\tHUSBAND/WIFE PRIMARY FAMILY (NEITHER AF)\n",
    "- 2\tHUSB/WIFE PRIM. FAMILY (EITHER/BOTH AF)\n",
    "- 3\tUNMARRIED CIVILIAN MALE-PRIM. FAM HHLDER\n",
    "- 4\tUNMARRIED CIV. FEMALE-PRIM FAM HHLDER\n",
    "- 5\tPRIMARY FAMILY HHLDER-RP IN AF, UNMAR.\n",
    "- 6\tCIVILIAN MALE PRIMARY INDIVIDUAL\n",
    "- 7\tCIVILIAN FEMALE PRIMARY INDIVIDUAL\n",
    "- 8\tPRIMARY INDIVIDUAL HHLD-RP IN AF\n",
    "- 9\tGROUP QUARTERS WITH FAMILY\n",
    "- 10\tGROUP QUARTERS WITHOUT FAMILY"
   ]
  },
  {
   "cell_type": "markdown",
   "metadata": {
    "collapsed": true
   },
   "source": [
    "AF = Armed forces\n",
    "RP = Related person?"
   ]
  },
  {
   "cell_type": "code",
   "execution_count": 39,
   "metadata": {
    "collapsed": false
   },
   "outputs": [
    {
     "data": {
      "text/plain": [
       "4     64008\n",
       "1     51714\n",
       "3     37469\n",
       "2     22543\n",
       "14     4355\n",
       "5      4258\n",
       "8      3686\n",
       "6      3257\n",
       "7      2312\n",
       "16     2237\n",
       "12      977\n",
       "10      773\n",
       "18      465\n",
       "13      352\n",
       "15      346\n",
       "9       192\n",
       "17       80\n",
       "Name: perrp, dtype: int64"
      ]
     },
     "execution_count": 39,
     "metadata": {},
     "output_type": "execute_result"
    }
   ],
   "source": [
    "df['perrp'].value_counts()"
   ]
  },
  {
   "cell_type": "markdown",
   "metadata": {},
   "source": [
    "- 1\tREFERENCE PERSON W/RELS.\n",
    "- 2\tREFERENCE PERSON W/O RELS.\n",
    "- 3\tSPOUSE\n",
    "- 4\tCHILD\n",
    "- 5\tGRANDCHILD\n",
    "- 6\tPARENT\n",
    "- 7\tBROTHER/SISTER\n",
    "- 8\tOTHER REL. OR REF. PERSON\n",
    "- 9\tFOSTER CHILD\n",
    "- 10\tNONREL. OF REF. PERSON W/RELS.\n",
    "- 11\tNOT USED\n",
    "- 12\tNONREL. OF REF. PERSON W/O RELS.\n",
    "- 13\tUNMARRIED PARTNER W/RELS.\n",
    "- 14\tUNMARRIED PARTNER W/OUT RELS.\n",
    "- 15\tHOUSEMATE/ROOMMATE W/RELS.\n",
    "- 16\tHOUSEMATE/ROOMMATE W/OUT RELS.\n",
    "- 17\tROOMER/BOARDER W/RELS.\n",
    "- 18\tROOMER/BOARDER W/OUT RELS."
   ]
  },
  {
   "cell_type": "code",
   "execution_count": 18,
   "metadata": {
    "collapsed": false
   },
   "outputs": [
    {
     "data": {
      "text/html": [
       "<div>\n",
       "<table border=\"1\" class=\"dataframe\">\n",
       "  <thead>\n",
       "    <tr style=\"text-align: right;\">\n",
       "      <th></th>\n",
       "      <th>a_lineno</th>\n",
       "      <th>perrp</th>\n",
       "      <th>a_age</th>\n",
       "    </tr>\n",
       "  </thead>\n",
       "  <tbody>\n",
       "    <tr>\n",
       "      <th>13</th>\n",
       "      <td>1</td>\n",
       "      <td>1</td>\n",
       "      <td>63</td>\n",
       "    </tr>\n",
       "    <tr>\n",
       "      <th>14</th>\n",
       "      <td>2</td>\n",
       "      <td>3</td>\n",
       "      <td>61</td>\n",
       "    </tr>\n",
       "    <tr>\n",
       "      <th>15</th>\n",
       "      <td>3</td>\n",
       "      <td>4</td>\n",
       "      <td>26</td>\n",
       "    </tr>\n",
       "  </tbody>\n",
       "</table>\n",
       "</div>"
      ],
      "text/plain": [
       "    a_lineno  perrp  a_age\n",
       "13         1      1     63\n",
       "14         2      3     61\n",
       "15         3      4     26"
      ]
     },
     "execution_count": 18,
     "metadata": {},
     "output_type": "execute_result"
    }
   ],
   "source": [
    "df[df.h_seq == 10][['a_lineno', 'perrp', 'a_age']]"
   ]
  },
  {
   "cell_type": "code",
   "execution_count": 40,
   "metadata": {
    "collapsed": false
   },
   "outputs": [],
   "source": [
    "def independently(row):\n",
    "    if row['perrp'] in [1, 2, 3, 10, 12, 13, 14, 15, 16, 17 , 18]:\n",
    "        return 1\n",
    "    else:\n",
    "        return 0"
   ]
  },
  {
   "cell_type": "code",
   "execution_count": 41,
   "metadata": {
    "collapsed": true
   },
   "outputs": [],
   "source": [
    "df['Living Independently'] = df.apply(independently, axis = 1)"
   ]
  },
  {
   "cell_type": "code",
   "execution_count": 42,
   "metadata": {
    "collapsed": false
   },
   "outputs": [
    {
     "data": {
      "text/html": [
       "<div>\n",
       "<table border=\"1\" class=\"dataframe\">\n",
       "  <thead>\n",
       "    <tr style=\"text-align: right;\">\n",
       "      <th>In Sample</th>\n",
       "      <th>0</th>\n",
       "      <th>1</th>\n",
       "    </tr>\n",
       "    <tr>\n",
       "      <th>Living Independently</th>\n",
       "      <th></th>\n",
       "      <th></th>\n",
       "    </tr>\n",
       "  </thead>\n",
       "  <tbody>\n",
       "    <tr>\n",
       "      <th>0</th>\n",
       "      <td>65737</td>\n",
       "      <td>11976</td>\n",
       "    </tr>\n",
       "    <tr>\n",
       "      <th>1</th>\n",
       "      <td>95806</td>\n",
       "      <td>25505</td>\n",
       "    </tr>\n",
       "  </tbody>\n",
       "</table>\n",
       "</div>"
      ],
      "text/plain": [
       "In Sample                 0      1\n",
       "Living Independently              \n",
       "0                     65737  11976\n",
       "1                     95806  25505"
      ]
     },
     "execution_count": 42,
     "metadata": {},
     "output_type": "execute_result"
    }
   ],
   "source": [
    "pd.pivot_table(df, values='h_seq', index=['Living Independently'], columns=['In Sample'], aggfunc=np.count_nonzero)"
   ]
  },
  {
   "cell_type": "code",
   "execution_count": 27,
   "metadata": {
    "collapsed": false
   },
   "outputs": [
    {
     "data": {
      "text/plain": [
       "1     10312\n",
       "4      9516\n",
       "3      6421\n",
       "2      4463\n",
       "14     2054\n",
       "16     1211\n",
       "8       987\n",
       "7       841\n",
       "5       583\n",
       "12      390\n",
       "18      217\n",
       "13      149\n",
       "10      140\n",
       "15      122\n",
       "6        26\n",
       "17       26\n",
       "9        23\n",
       "dtype: int64"
      ]
     },
     "execution_count": 27,
     "metadata": {},
     "output_type": "execute_result"
    }
   ],
   "source": [
    "df[df['In Sample'] == 1]['perrp'].value_counts()"
   ]
  },
  {
   "cell_type": "markdown",
   "metadata": {},
   "source": [
    "heading one's own household or living in a household headed by a spouse, unmarried partner, or other non-relative."
   ]
  },
  {
   "cell_type": "code",
   "execution_count": 43,
   "metadata": {
    "collapsed": false
   },
   "outputs": [
    {
     "data": {
      "text/html": [
       "<div>\n",
       "<table border=\"1\" class=\"dataframe\">\n",
       "  <thead>\n",
       "    <tr style=\"text-align: right;\">\n",
       "      <th></th>\n",
       "      <th>a_lineno</th>\n",
       "      <th>perrp</th>\n",
       "      <th>a_age</th>\n",
       "      <th>h_seq</th>\n",
       "    </tr>\n",
       "  </thead>\n",
       "  <tbody>\n",
       "    <tr>\n",
       "      <th>13468</th>\n",
       "      <td>3</td>\n",
       "      <td>6</td>\n",
       "      <td>30</td>\n",
       "      <td>8469</td>\n",
       "    </tr>\n",
       "    <tr>\n",
       "      <th>17080</th>\n",
       "      <td>2</td>\n",
       "      <td>6</td>\n",
       "      <td>30</td>\n",
       "      <td>9656</td>\n",
       "    </tr>\n",
       "    <tr>\n",
       "      <th>22873</th>\n",
       "      <td>2</td>\n",
       "      <td>6</td>\n",
       "      <td>33</td>\n",
       "      <td>12582</td>\n",
       "    </tr>\n",
       "    <tr>\n",
       "      <th>40150</th>\n",
       "      <td>2</td>\n",
       "      <td>6</td>\n",
       "      <td>32</td>\n",
       "      <td>21098</td>\n",
       "    </tr>\n",
       "    <tr>\n",
       "      <th>55582</th>\n",
       "      <td>2</td>\n",
       "      <td>6</td>\n",
       "      <td>34</td>\n",
       "      <td>28862</td>\n",
       "    </tr>\n",
       "    <tr>\n",
       "      <th>59464</th>\n",
       "      <td>2</td>\n",
       "      <td>6</td>\n",
       "      <td>32</td>\n",
       "      <td>30592</td>\n",
       "    </tr>\n",
       "    <tr>\n",
       "      <th>66382</th>\n",
       "      <td>2</td>\n",
       "      <td>6</td>\n",
       "      <td>30</td>\n",
       "      <td>34812</td>\n",
       "    </tr>\n",
       "    <tr>\n",
       "      <th>70657</th>\n",
       "      <td>3</td>\n",
       "      <td>6</td>\n",
       "      <td>29</td>\n",
       "      <td>36483</td>\n",
       "    </tr>\n",
       "    <tr>\n",
       "      <th>71348</th>\n",
       "      <td>2</td>\n",
       "      <td>6</td>\n",
       "      <td>29</td>\n",
       "      <td>36659</td>\n",
       "    </tr>\n",
       "    <tr>\n",
       "      <th>85755</th>\n",
       "      <td>3</td>\n",
       "      <td>6</td>\n",
       "      <td>31</td>\n",
       "      <td>44696</td>\n",
       "    </tr>\n",
       "  </tbody>\n",
       "</table>\n",
       "</div>"
      ],
      "text/plain": [
       "       a_lineno  perrp  a_age  h_seq\n",
       "13468         3      6     30   8469\n",
       "17080         2      6     30   9656\n",
       "22873         2      6     33  12582\n",
       "40150         2      6     32  21098\n",
       "55582         2      6     34  28862\n",
       "59464         2      6     32  30592\n",
       "66382         2      6     30  34812\n",
       "70657         3      6     29  36483\n",
       "71348         2      6     29  36659\n",
       "85755         3      6     31  44696"
      ]
     },
     "execution_count": 43,
     "metadata": {},
     "output_type": "execute_result"
    }
   ],
   "source": [
    "#Testing if parents are living with people who are considered head of household\n",
    "df[(df['In Sample'] == 1) & (df['perrp'] == 6)][['a_lineno', 'perrp', 'a_age', 'h_seq']].head(10)"
   ]
  },
  {
   "cell_type": "code",
   "execution_count": 33,
   "metadata": {
    "collapsed": false
   },
   "outputs": [
    {
     "data": {
      "text/html": [
       "<div>\n",
       "<table border=\"1\" class=\"dataframe\">\n",
       "  <thead>\n",
       "    <tr style=\"text-align: right;\">\n",
       "      <th></th>\n",
       "      <th>a_lineno</th>\n",
       "      <th>perrp</th>\n",
       "      <th>a_age</th>\n",
       "      <th>h_seq</th>\n",
       "    </tr>\n",
       "  </thead>\n",
       "  <tbody>\n",
       "    <tr>\n",
       "      <th>22872</th>\n",
       "      <td>1</td>\n",
       "      <td>1</td>\n",
       "      <td>16</td>\n",
       "      <td>12582</td>\n",
       "    </tr>\n",
       "    <tr>\n",
       "      <th>22873</th>\n",
       "      <td>2</td>\n",
       "      <td>6</td>\n",
       "      <td>33</td>\n",
       "      <td>12582</td>\n",
       "    </tr>\n",
       "    <tr>\n",
       "      <th>22874</th>\n",
       "      <td>3</td>\n",
       "      <td>6</td>\n",
       "      <td>38</td>\n",
       "      <td>12582</td>\n",
       "    </tr>\n",
       "  </tbody>\n",
       "</table>\n",
       "</div>"
      ],
      "text/plain": [
       "       a_lineno  perrp  a_age  h_seq\n",
       "22872         1      1     16  12582\n",
       "22873         2      6     33  12582\n",
       "22874         3      6     38  12582"
      ]
     },
     "execution_count": 33,
     "metadata": {},
     "output_type": "execute_result"
    }
   ],
   "source": [
    "df[df['h_seq'] == 12582][['a_lineno', 'perrp', 'a_age', 'h_seq']]"
   ]
  },
  {
   "cell_type": "code",
   "execution_count": 37,
   "metadata": {
    "collapsed": true
   },
   "outputs": [],
   "source": [
    "df2['In Sample'] = df2.apply(in_sample, axis = 1)"
   ]
  },
  {
   "cell_type": "code",
   "execution_count": 38,
   "metadata": {
    "collapsed": true
   },
   "outputs": [],
   "source": [
    "df2['Living Independently'] = df2.apply(independently, axis = 1)"
   ]
  },
  {
   "cell_type": "code",
   "execution_count": null,
   "metadata": {
    "collapsed": true
   },
   "outputs": [],
   "source": []
  }
 ],
 "metadata": {
  "kernelspec": {
   "display_name": "Python 2",
   "language": "python",
   "name": "python2"
  },
  "language_info": {
   "codemirror_mode": {
    "name": "ipython",
    "version": 2
   },
   "file_extension": ".py",
   "mimetype": "text/x-python",
   "name": "python",
   "nbconvert_exporter": "python",
   "pygments_lexer": "ipython2",
   "version": "2.7.10"
  }
 },
 "nbformat": 4,
 "nbformat_minor": 0
}

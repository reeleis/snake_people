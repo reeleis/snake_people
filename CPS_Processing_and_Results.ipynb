{
 "cells": [
  {
   "cell_type": "code",
   "execution_count": 52,
   "metadata": {
    "collapsed": true
   },
   "outputs": [],
   "source": [
    "import pandas as pd\n",
    "import numpy as np\n",
    "import os, fnmatch\n",
    "import matplotlib.pyplot as plt\n",
    "import matplotlib.cm as cm, matplotlib.font_manager as fm\n",
    "%matplotlib inline"
   ]
  },
  {
   "cell_type": "code",
   "execution_count": 74,
   "metadata": {
    "collapsed": true
   },
   "outputs": [],
   "source": [
    "root = '/Users/Lee/Documents/jupyter/notebooks/CP207/CPS Data'\n",
    "#Get all of the cost reports\n",
    "matches = []\n",
    "for root, dirnames, filenames in os.walk(root):\n",
    "  for filename in fnmatch.filter(filenames, '*.dta'):\n",
    "    matches.append(os.path.join(root, filename))"
   ]
  },
  {
   "cell_type": "code",
   "execution_count": 75,
   "metadata": {
    "collapsed": false
   },
   "outputs": [
    {
     "data": {
      "text/plain": [
       "11"
      ]
     },
     "execution_count": 75,
     "metadata": {},
     "output_type": "execute_result"
    }
   ],
   "source": [
    "len(matches)"
   ]
  },
  {
   "cell_type": "code",
   "execution_count": null,
   "metadata": {
    "collapsed": true
   },
   "outputs": [],
   "source": [
    "#df = pd.read_stata('CPS Data/2015/cpsmar2015.dta', convert_categoricals = False)"
   ]
  },
  {
   "cell_type": "code",
   "execution_count": 29,
   "metadata": {
    "collapsed": true
   },
   "outputs": [],
   "source": [
    "columns_to_keep = ['h_year', 'a_age', 'a_hscol', 'a_ftpt', 'perrp']"
   ]
  },
  {
   "cell_type": "code",
   "execution_count": 33,
   "metadata": {
    "collapsed": true
   },
   "outputs": [],
   "source": [
    "def process_CPS_file(path):\n",
    "    print 'Processing {}'.format(path)\n",
    "    df_in = pd.read_stata(path, convert_categoricals = False, columns=columns_to_keep)\n",
    "    df_in['In Sample'] = df_in.apply(in_sample, axis = 1)\n",
    "    df_in = df_in[df_in['In Sample'] == 1]\n",
    "    return df_in"
   ]
  },
  {
   "cell_type": "code",
   "execution_count": 34,
   "metadata": {
    "collapsed": false
   },
   "outputs": [
    {
     "name": "stdout",
     "output_type": "stream",
     "text": [
      "Processing /Users/Lee/Documents/jupyter/notebooks/CP207/CPS Data/2000/cpsmar2000.dta\n",
      "Processing /Users/Lee/Documents/jupyter/notebooks/CP207/CPS Data/2001/cpsmar2001.dta\n",
      "Processing /Users/Lee/Documents/jupyter/notebooks/CP207/CPS Data/2002/cpsmar2002.dta\n",
      "Processing /Users/Lee/Documents/jupyter/notebooks/CP207/CPS Data/2003/cpsmar2003.dta\n",
      "Processing /Users/Lee/Documents/jupyter/notebooks/CP207/CPS Data/2004/cpsmar2004.dta\n",
      "Processing /Users/Lee/Documents/jupyter/notebooks/CP207/CPS Data/2005/cpsmar2005.dta\n",
      "Processing /Users/Lee/Documents/jupyter/notebooks/CP207/CPS Data/2006/cpsmar06.dta\n",
      "Processing /Users/Lee/Documents/jupyter/notebooks/CP207/CPS Data/2007/cpsmar07.dta\n",
      "Processing /Users/Lee/Documents/jupyter/notebooks/CP207/CPS Data/2008/cpsmar08.dta\n",
      "Processing /Users/Lee/Documents/jupyter/notebooks/CP207/CPS Data/2009/cpsmar09.dta\n",
      "Processing /Users/Lee/Documents/jupyter/notebooks/CP207/CPS Data/2010/cpsmar10.dta\n",
      "Processing /Users/Lee/Documents/jupyter/notebooks/CP207/CPS Data/2011/cpsmar11.dta\n",
      "Processing /Users/Lee/Documents/jupyter/notebooks/CP207/CPS Data/2012/cpsmar12.dta\n",
      "Processing /Users/Lee/Documents/jupyter/notebooks/CP207/CPS Data/2013/cpsmar2013.dta\n",
      "Processing /Users/Lee/Documents/jupyter/notebooks/CP207/CPS Data/2014/cpsmar2014.dta\n",
      "Processing /Users/Lee/Documents/jupyter/notebooks/CP207/CPS Data/2015/cpsmar2015.dta\n"
     ]
    }
   ],
   "source": [
    "df = pd.DataFrame()\n",
    "for item in matches:\n",
    "    if not df.empty:\n",
    "        df = df.append(process_CPS_file(item))\n",
    "    else:\n",
    "        df = process_CPS_file(item)"
   ]
  },
  {
   "cell_type": "code",
   "execution_count": 18,
   "metadata": {
    "collapsed": true
   },
   "outputs": [],
   "source": [
    "def in_sample(row):\n",
    "    #In sample if between 18 and 34 AND (not in college or not full time)\n",
    "    if row['a_age'] >= 18 and row['a_age'] < 35 and not (row['a_age'] < 25 and (row['a_hscol'] == 2 and row['a_ftpt'] == 1)):\n",
    "        return 1\n",
    "    else:\n",
    "        return 0"
   ]
  },
  {
   "cell_type": "code",
   "execution_count": 35,
   "metadata": {
    "collapsed": true
   },
   "outputs": [],
   "source": [
    "def independently(row):\n",
    "    if row['perrp'] in [1, 2, 3, 10, 12, 13, 14, 15, 16, 17 , 18]:\n",
    "        return 1\n",
    "    else:\n",
    "        return 0"
   ]
  },
  {
   "cell_type": "code",
   "execution_count": 22,
   "metadata": {
    "collapsed": false
   },
   "outputs": [
    {
     "data": {
      "text/plain": [
       "3027571"
      ]
     },
     "execution_count": 22,
     "metadata": {},
     "output_type": "execute_result"
    }
   ],
   "source": [
    "len(df)"
   ]
  },
  {
   "cell_type": "code",
   "execution_count": 21,
   "metadata": {
    "collapsed": false
   },
   "outputs": [
    {
     "data": {
      "text/plain": [
       "575885"
      ]
     },
     "execution_count": 21,
     "metadata": {},
     "output_type": "execute_result"
    }
   ],
   "source": [
    "len(df[df['In Sample'] == 1])"
   ]
  },
  {
   "cell_type": "code",
   "execution_count": 24,
   "metadata": {
    "collapsed": true
   },
   "outputs": [],
   "source": [
    "df = df[df['In Sample'] == 1]"
   ]
  },
  {
   "cell_type": "code",
   "execution_count": 25,
   "metadata": {
    "collapsed": false
   },
   "outputs": [
    {
     "data": {
      "text/plain": [
       "575885"
      ]
     },
     "execution_count": 25,
     "metadata": {},
     "output_type": "execute_result"
    }
   ],
   "source": [
    "len(df)"
   ]
  },
  {
   "cell_type": "code",
   "execution_count": 36,
   "metadata": {
    "collapsed": true
   },
   "outputs": [],
   "source": [
    "df['Living Independently'] = df.apply(independently, axis = 1)"
   ]
  },
  {
   "cell_type": "code",
   "execution_count": 37,
   "metadata": {
    "collapsed": false
   },
   "outputs": [
    {
     "data": {
      "text/html": [
       "<div>\n",
       "<table border=\"1\" class=\"dataframe\">\n",
       "  <thead>\n",
       "    <tr style=\"text-align: right;\">\n",
       "      <th>Living Independently</th>\n",
       "      <th>0</th>\n",
       "      <th>1</th>\n",
       "    </tr>\n",
       "    <tr>\n",
       "      <th>h_year</th>\n",
       "      <th></th>\n",
       "      <th></th>\n",
       "    </tr>\n",
       "  </thead>\n",
       "  <tbody>\n",
       "    <tr>\n",
       "      <th>2000</th>\n",
       "      <td>7284</td>\n",
       "      <td>20085</td>\n",
       "    </tr>\n",
       "    <tr>\n",
       "      <th>2001</th>\n",
       "      <td>6886</td>\n",
       "      <td>18966</td>\n",
       "    </tr>\n",
       "    <tr>\n",
       "      <th>2002</th>\n",
       "      <td>11133</td>\n",
       "      <td>31048</td>\n",
       "    </tr>\n",
       "    <tr>\n",
       "      <th>2003</th>\n",
       "      <td>11104</td>\n",
       "      <td>30438</td>\n",
       "    </tr>\n",
       "    <tr>\n",
       "      <th>2004</th>\n",
       "      <td>10914</td>\n",
       "      <td>29426</td>\n",
       "    </tr>\n",
       "    <tr>\n",
       "      <th>2005</th>\n",
       "      <td>10668</td>\n",
       "      <td>29182</td>\n",
       "    </tr>\n",
       "    <tr>\n",
       "      <th>2006</th>\n",
       "      <td>10814</td>\n",
       "      <td>28376</td>\n",
       "    </tr>\n",
       "    <tr>\n",
       "      <th>2007</th>\n",
       "      <td>10812</td>\n",
       "      <td>27766</td>\n",
       "    </tr>\n",
       "    <tr>\n",
       "      <th>2008</th>\n",
       "      <td>10987</td>\n",
       "      <td>27507</td>\n",
       "    </tr>\n",
       "    <tr>\n",
       "      <th>2009</th>\n",
       "      <td>11393</td>\n",
       "      <td>27652</td>\n",
       "    </tr>\n",
       "    <tr>\n",
       "      <th>2010</th>\n",
       "      <td>12127</td>\n",
       "      <td>27854</td>\n",
       "    </tr>\n",
       "    <tr>\n",
       "      <th>2011</th>\n",
       "      <td>12036</td>\n",
       "      <td>27082</td>\n",
       "    </tr>\n",
       "    <tr>\n",
       "      <th>2012</th>\n",
       "      <td>11745</td>\n",
       "      <td>26272</td>\n",
       "    </tr>\n",
       "    <tr>\n",
       "      <th>2013</th>\n",
       "      <td>11822</td>\n",
       "      <td>26020</td>\n",
       "    </tr>\n",
       "    <tr>\n",
       "      <th>2014</th>\n",
       "      <td>3620</td>\n",
       "      <td>7385</td>\n",
       "    </tr>\n",
       "    <tr>\n",
       "      <th>2015</th>\n",
       "      <td>11976</td>\n",
       "      <td>25505</td>\n",
       "    </tr>\n",
       "  </tbody>\n",
       "</table>\n",
       "</div>"
      ],
      "text/plain": [
       "Living Independently      0      1\n",
       "h_year                            \n",
       "2000                   7284  20085\n",
       "2001                   6886  18966\n",
       "2002                  11133  31048\n",
       "2003                  11104  30438\n",
       "2004                  10914  29426\n",
       "2005                  10668  29182\n",
       "2006                  10814  28376\n",
       "2007                  10812  27766\n",
       "2008                  10987  27507\n",
       "2009                  11393  27652\n",
       "2010                  12127  27854\n",
       "2011                  12036  27082\n",
       "2012                  11745  26272\n",
       "2013                  11822  26020\n",
       "2014                   3620   7385\n",
       "2015                  11976  25505"
      ]
     },
     "execution_count": 37,
     "metadata": {},
     "output_type": "execute_result"
    }
   ],
   "source": [
    "pd.pivot_table(df, values='a_age', index=['h_year'], columns=['Living Independently'], aggfunc=np.count_nonzero)"
   ]
  },
  {
   "cell_type": "markdown",
   "metadata": {},
   "source": [
    "## Why is 2014 low?? Do I need to process the early or late part separately?"
   ]
  },
  {
   "cell_type": "code",
   "execution_count": 38,
   "metadata": {
    "collapsed": true
   },
   "outputs": [],
   "source": [
    "df_plot = pd.pivot_table(df, values='a_age', index=['h_year'], columns=['Living Independently'], aggfunc=np.count_nonzero)"
   ]
  },
  {
   "cell_type": "code",
   "execution_count": 45,
   "metadata": {
    "collapsed": false
   },
   "outputs": [],
   "source": [
    "df_plot['Total'] = df_plot[0] + df_plot[1]"
   ]
  },
  {
   "cell_type": "code",
   "execution_count": 46,
   "metadata": {
    "collapsed": true
   },
   "outputs": [],
   "source": [
    "df_plot['pct_independent'] = df_plot[1]*1.0/df_plot['Total']"
   ]
  },
  {
   "cell_type": "code",
   "execution_count": 47,
   "metadata": {
    "collapsed": false
   },
   "outputs": [
    {
     "data": {
      "text/html": [
       "<div>\n",
       "<table border=\"1\" class=\"dataframe\">\n",
       "  <thead>\n",
       "    <tr style=\"text-align: right;\">\n",
       "      <th>Living Independently</th>\n",
       "      <th>0</th>\n",
       "      <th>1</th>\n",
       "      <th>Total</th>\n",
       "      <th>pct_independent</th>\n",
       "    </tr>\n",
       "    <tr>\n",
       "      <th>h_year</th>\n",
       "      <th></th>\n",
       "      <th></th>\n",
       "      <th></th>\n",
       "      <th></th>\n",
       "    </tr>\n",
       "  </thead>\n",
       "  <tbody>\n",
       "    <tr>\n",
       "      <th>2000</th>\n",
       "      <td>7284</td>\n",
       "      <td>20085</td>\n",
       "      <td>27369</td>\n",
       "      <td>0.733859</td>\n",
       "    </tr>\n",
       "    <tr>\n",
       "      <th>2001</th>\n",
       "      <td>6886</td>\n",
       "      <td>18966</td>\n",
       "      <td>25852</td>\n",
       "      <td>0.733638</td>\n",
       "    </tr>\n",
       "    <tr>\n",
       "      <th>2002</th>\n",
       "      <td>11133</td>\n",
       "      <td>31048</td>\n",
       "      <td>42181</td>\n",
       "      <td>0.736066</td>\n",
       "    </tr>\n",
       "    <tr>\n",
       "      <th>2003</th>\n",
       "      <td>11104</td>\n",
       "      <td>30438</td>\n",
       "      <td>41542</td>\n",
       "      <td>0.732704</td>\n",
       "    </tr>\n",
       "    <tr>\n",
       "      <th>2004</th>\n",
       "      <td>10914</td>\n",
       "      <td>29426</td>\n",
       "      <td>40340</td>\n",
       "      <td>0.729450</td>\n",
       "    </tr>\n",
       "    <tr>\n",
       "      <th>2005</th>\n",
       "      <td>10668</td>\n",
       "      <td>29182</td>\n",
       "      <td>39850</td>\n",
       "      <td>0.732296</td>\n",
       "    </tr>\n",
       "    <tr>\n",
       "      <th>2006</th>\n",
       "      <td>10814</td>\n",
       "      <td>28376</td>\n",
       "      <td>39190</td>\n",
       "      <td>0.724062</td>\n",
       "    </tr>\n",
       "    <tr>\n",
       "      <th>2007</th>\n",
       "      <td>10812</td>\n",
       "      <td>27766</td>\n",
       "      <td>38578</td>\n",
       "      <td>0.719737</td>\n",
       "    </tr>\n",
       "    <tr>\n",
       "      <th>2008</th>\n",
       "      <td>10987</td>\n",
       "      <td>27507</td>\n",
       "      <td>38494</td>\n",
       "      <td>0.714579</td>\n",
       "    </tr>\n",
       "    <tr>\n",
       "      <th>2009</th>\n",
       "      <td>11393</td>\n",
       "      <td>27652</td>\n",
       "      <td>39045</td>\n",
       "      <td>0.708208</td>\n",
       "    </tr>\n",
       "    <tr>\n",
       "      <th>2010</th>\n",
       "      <td>12127</td>\n",
       "      <td>27854</td>\n",
       "      <td>39981</td>\n",
       "      <td>0.696681</td>\n",
       "    </tr>\n",
       "    <tr>\n",
       "      <th>2011</th>\n",
       "      <td>12036</td>\n",
       "      <td>27082</td>\n",
       "      <td>39118</td>\n",
       "      <td>0.692316</td>\n",
       "    </tr>\n",
       "    <tr>\n",
       "      <th>2012</th>\n",
       "      <td>11745</td>\n",
       "      <td>26272</td>\n",
       "      <td>38017</td>\n",
       "      <td>0.691059</td>\n",
       "    </tr>\n",
       "    <tr>\n",
       "      <th>2013</th>\n",
       "      <td>11822</td>\n",
       "      <td>26020</td>\n",
       "      <td>37842</td>\n",
       "      <td>0.687596</td>\n",
       "    </tr>\n",
       "    <tr>\n",
       "      <th>2014</th>\n",
       "      <td>3620</td>\n",
       "      <td>7385</td>\n",
       "      <td>11005</td>\n",
       "      <td>0.671059</td>\n",
       "    </tr>\n",
       "    <tr>\n",
       "      <th>2015</th>\n",
       "      <td>11976</td>\n",
       "      <td>25505</td>\n",
       "      <td>37481</td>\n",
       "      <td>0.680478</td>\n",
       "    </tr>\n",
       "  </tbody>\n",
       "</table>\n",
       "</div>"
      ],
      "text/plain": [
       "Living Independently      0      1  Total  pct_independent\n",
       "h_year                                                    \n",
       "2000                   7284  20085  27369         0.733859\n",
       "2001                   6886  18966  25852         0.733638\n",
       "2002                  11133  31048  42181         0.736066\n",
       "2003                  11104  30438  41542         0.732704\n",
       "2004                  10914  29426  40340         0.729450\n",
       "2005                  10668  29182  39850         0.732296\n",
       "2006                  10814  28376  39190         0.724062\n",
       "2007                  10812  27766  38578         0.719737\n",
       "2008                  10987  27507  38494         0.714579\n",
       "2009                  11393  27652  39045         0.708208\n",
       "2010                  12127  27854  39981         0.696681\n",
       "2011                  12036  27082  39118         0.692316\n",
       "2012                  11745  26272  38017         0.691059\n",
       "2013                  11822  26020  37842         0.687596\n",
       "2014                   3620   7385  11005         0.671059\n",
       "2015                  11976  25505  37481         0.680478"
      ]
     },
     "execution_count": 47,
     "metadata": {},
     "output_type": "execute_result"
    }
   ],
   "source": [
    "df_plot"
   ]
  },
  {
   "cell_type": "code",
   "execution_count": 49,
   "metadata": {
    "collapsed": true
   },
   "outputs": [],
   "source": [
    "%matplotlib inline"
   ]
  },
  {
   "cell_type": "code",
   "execution_count": 50,
   "metadata": {
    "collapsed": false
   },
   "outputs": [
    {
     "data": {
      "text/plain": [
       "<matplotlib.axes._subplots.AxesSubplot at 0x10aacdc10>"
      ]
     },
     "execution_count": 50,
     "metadata": {},
     "output_type": "execute_result"
    },
    {
     "data": {
      "image/png": "[encoded data removed]",
      "text/plain": [
       "<matplotlib.figure.Figure at 0x10826c850>"
      ]
     },
     "metadata": {},
     "output_type": "display_data"
    }
   ],
   "source": [
    "df_plot['pct_independent'].plot()"
   ]
  },
  {
   "cell_type": "code",
   "execution_count": 53,
   "metadata": {
    "collapsed": false
   },
   "outputs": [],
   "source": [
    "# define the font styles\n",
    "title_font = fm.FontProperties(family='Bitstream Vera Sans', style='normal', size=15, weight='normal', stretch='normal')\n",
    "label_font = fm.FontProperties(family='Bitstream Vera Sans', style='normal', size=12, weight='normal', stretch='normal')\n",
    "ticks_font = fm.FontProperties(family='Bitstream Vera Sans', style='normal', size=10, weight='normal', stretch='normal')\n",
    "annotation_font = fm.FontProperties(family='Bitstream Vera Sans', style='normal', size=10, weight='normal', stretch='normal')\n",
    "axis_bgcolor = '#f0f0f0'"
   ]
  },
  {
   "cell_type": "code",
   "execution_count": 54,
   "metadata": {
    "collapsed": true
   },
   "outputs": [],
   "source": [
    "# make a re-usable function to draw nice bar charts\n",
    "def line_chart(data, title='', xlabel='', ylabel='', color='k', ylim=None):\n",
    "    \n",
    "#     ax = data.plot(kind='bar', figsize=[9, 6], width=0.6, alpha=0.6, \n",
    "#                    color=color, edgecolor='k', grid=False, ylim=ylim)\n",
    "    \n",
    "    ax = data.plot(kind='line', figsize=[9, 6], alpha=0.8, \n",
    "                    grid=False, ylim=ylim, x_compat = True,\n",
    "                   linewidth = 2, marker = 'o',\n",
    "                  color = color)\n",
    "    \n",
    "    ax.set_xticklabels(data.index, rotation=45, rotation_mode='anchor', ha='right', fontproperties=ticks_font)\n",
    "    ax.yaxis.grid(True)\n",
    "    for label in ax.get_yticklabels():\n",
    "        label.set_fontproperties(ticks_font)\n",
    "\n",
    "    plt.tick_params(\n",
    "        axis='x',          # changes apply to the x-axis\n",
    "        which='both',      # both major and minor ticks are affected\n",
    "        #bottom='off',      # ticks along the bottom edge are off\n",
    "        top='off'         # ticks along the top edge are off\n",
    "        )\n",
    "\n",
    "    plt.tick_params(\n",
    "        axis='y',          # changes apply to the x-axis\n",
    "        which='both',      # both major and minor ticks are affected\n",
    "        right='off',      # ticks along the bottom edge are off\n",
    "        )\n",
    "\n",
    "    ax.set_axis_bgcolor(axis_bgcolor)   \n",
    "    ax.set_title(title, fontproperties=title_font)\n",
    "    ax.set_xlabel(xlabel, fontproperties=label_font)\n",
    "    ax.set_ylabel(ylabel, fontproperties=label_font)\n",
    "    \n",
    "    for label in ax.get_yticklabels():\n",
    "        label.set_fontproperties(ticks_font)\n",
    "\n",
    "    plt.show()"
   ]
  },
  {
   "cell_type": "code",
   "execution_count": 58,
   "metadata": {
    "collapsed": false
   },
   "outputs": [
    {
     "data": {
      "image/png": "[encoded data removed]",
      "text/plain": [
       "<matplotlib.figure.Figure at 0x108d02250>"
      ]
     },
     "metadata": {},
     "output_type": "display_data"
    }
   ],
   "source": [
    "line_chart(df_plot['pct_independent'], ylim=[0,0.8])"
   ]
  },
  {
   "cell_type": "code",
   "execution_count": 77,
   "metadata": {
    "collapsed": false
   },
   "outputs": [
    {
     "data": {
      "text/plain": [
       "'/Users/Lee/Documents/jupyter/notebooks/CP207/CPS Data/morg14.dta'"
      ]
     },
     "execution_count": 77,
     "metadata": {},
     "output_type": "execute_result"
    }
   ],
   "source": [
    "matches[-2]"
   ]
  },
  {
   "cell_type": "code",
   "execution_count": 78,
   "metadata": {
    "collapsed": true
   },
   "outputs": [],
   "source": [
    "df2 = pd.read_stata(matches[-2], convert_categoricals = False)"
   ]
  },
  {
   "cell_type": "code",
   "execution_count": 65,
   "metadata": {
    "collapsed": false
   },
   "outputs": [
    {
     "data": {
      "text/plain": [
       "['h_year', 'a_age', 'a_hscol', 'a_ftpt', 'perrp']"
      ]
     },
     "execution_count": 65,
     "metadata": {},
     "output_type": "execute_result"
    }
   ],
   "source": [
    "columns_to_keep"
   ]
  },
  {
   "cell_type": "code",
   "execution_count": 66,
   "metadata": {
    "collapsed": true
   },
   "outputs": [],
   "source": [
    "columns_to_keep2 = ['cbsafips', 'age', 'studftpt', 'schlvl', 'relref95']"
   ]
  },
  {
   "cell_type": "code",
   "execution_count": 79,
   "metadata": {
    "collapsed": false
   },
   "outputs": [],
   "source": [
    "df2 = df2[columns_to_keep2]"
   ]
  },
  {
   "cell_type": "code",
   "execution_count": 80,
   "metadata": {
    "collapsed": false
   },
   "outputs": [
    {
     "data": {
      "text/html": [
       "<div>\n",
       "<table border=\"1\" class=\"dataframe\">\n",
       "  <thead>\n",
       "    <tr style=\"text-align: right;\">\n",
       "      <th></th>\n",
       "      <th>cbsafips</th>\n",
       "      <th>age</th>\n",
       "      <th>studftpt</th>\n",
       "      <th>schlvl</th>\n",
       "      <th>relref95</th>\n",
       "    </tr>\n",
       "  </thead>\n",
       "  <tbody>\n",
       "    <tr>\n",
       "      <th>0</th>\n",
       "      <td>26620</td>\n",
       "      <td>80</td>\n",
       "      <td>NaN</td>\n",
       "      <td>NaN</td>\n",
       "      <td>1</td>\n",
       "    </tr>\n",
       "    <tr>\n",
       "      <th>1</th>\n",
       "      <td>26620</td>\n",
       "      <td>66</td>\n",
       "      <td>NaN</td>\n",
       "      <td>NaN</td>\n",
       "      <td>3</td>\n",
       "    </tr>\n",
       "    <tr>\n",
       "      <th>2</th>\n",
       "      <td>26620</td>\n",
       "      <td>29</td>\n",
       "      <td>NaN</td>\n",
       "      <td>NaN</td>\n",
       "      <td>4</td>\n",
       "    </tr>\n",
       "    <tr>\n",
       "      <th>3</th>\n",
       "      <td>13820</td>\n",
       "      <td>85</td>\n",
       "      <td>NaN</td>\n",
       "      <td>NaN</td>\n",
       "      <td>2</td>\n",
       "    </tr>\n",
       "    <tr>\n",
       "      <th>4</th>\n",
       "      <td>33860</td>\n",
       "      <td>27</td>\n",
       "      <td>NaN</td>\n",
       "      <td>NaN</td>\n",
       "      <td>1</td>\n",
       "    </tr>\n",
       "  </tbody>\n",
       "</table>\n",
       "</div>"
      ],
      "text/plain": [
       "   cbsafips  age  studftpt  schlvl  relref95\n",
       "0     26620   80       NaN     NaN         1\n",
       "1     26620   66       NaN     NaN         3\n",
       "2     26620   29       NaN     NaN         4\n",
       "3     13820   85       NaN     NaN         2\n",
       "4     33860   27       NaN     NaN         1"
      ]
     },
     "execution_count": 80,
     "metadata": {},
     "output_type": "execute_result"
    }
   ],
   "source": [
    "df2.head()"
   ]
  },
  {
   "cell_type": "code",
   "execution_count": 113,
   "metadata": {
    "collapsed": true
   },
   "outputs": [],
   "source": [
    "def in_sample2(data):\n",
    "    #In sample if between 18 and 34 AND (not in college or not full time)\n",
    "#     if row['age'] >= 18 and row['age'] < 35 and not (row['age'] < 25 and (row['schlvl'] == 2 and row['studftpt'] == 1)):\n",
    "#         return 1\n",
    "#     else:\n",
    "#         return 0\n",
    "    return ((data['age'] >= 18) & (data['age'] < 35) & ~((data['age'] < 25) & ((data['schlvl'] == 2) & (data['studftpt'] == 1)))).apply(lambda x: 1 if x else 0)"
   ]
  },
  {
   "cell_type": "code",
   "execution_count": 111,
   "metadata": {
    "collapsed": true
   },
   "outputs": [],
   "source": [
    "def independently2(data):\n",
    "    #if row['relref95'] in [1, 2, 3, 10, 12, 13, 14, 15, 16, 17 , 18]:\n",
    "#     if row['relref95'] in [1, 2, 3, 13, 14, 15, 16, 17 , 18]:\n",
    "#         return 1\n",
    "#     else:\n",
    "#         return 0\n",
    "    return data['relref95'].isin([1, 2, 3, 13, 14, 15, 16, 17 , 18]).apply(lambda x: 1 if x else 0)"
   ]
  },
  {
   "cell_type": "code",
   "execution_count": 108,
   "metadata": {
    "collapsed": false
   },
   "outputs": [
    {
     "data": {
      "text/plain": [
       "0    1\n",
       "1    1\n",
       "2    0\n",
       "3    1\n",
       "4    1\n",
       "Name: relref95, dtype: int64"
      ]
     },
     "execution_count": 108,
     "metadata": {},
     "output_type": "execute_result"
    }
   ],
   "source": [
    "df2['relref95'].isin([1, 2, 3, 13, 14, 15, 16, 17 , 18]).apply(lambda x: 1 if x else 0)"
   ]
  },
  {
   "cell_type": "code",
   "execution_count": 103,
   "metadata": {
    "collapsed": true
   },
   "outputs": [],
   "source": [
    "df2['In Sample2'] = (df2['age'] >= 18) & (df2['age'] < 35) & ~((df2['age'] < 25) & ((df2['schlvl'] == 2) & (df2['studftpt'] == 1)))"
   ]
  },
  {
   "cell_type": "code",
   "execution_count": 81,
   "metadata": {
    "collapsed": true
   },
   "outputs": [],
   "source": [
    "df2['In Sample'] = df2.apply(in_sample2, axis = 1)"
   ]
  },
  {
   "cell_type": "code",
   "execution_count": 93,
   "metadata": {
    "collapsed": true
   },
   "outputs": [],
   "source": [
    "df2['Living Independently'] = df2.apply(independently2, axis = 1)"
   ]
  },
  {
   "cell_type": "code",
   "execution_count": 99,
   "metadata": {
    "collapsed": true
   },
   "outputs": [],
   "source": [
    "df2['Living Independently'] = df2['relref95'].isin([1, 2, 3, 13, 14, 15, 16, 17 , 18])"
   ]
  },
  {
   "cell_type": "code",
   "execution_count": 95,
   "metadata": {
    "collapsed": true
   },
   "outputs": [],
   "source": [
    "df2['Millenial'] = df2.apply(lambda row: 1 if row['age'] >= 18 and row['age'] < 35 else 0, axis = 1)"
   ]
  },
  {
   "cell_type": "code",
   "execution_count": 97,
   "metadata": {
    "collapsed": true
   },
   "outputs": [],
   "source": [
    "def pct_pivot(data, index=['In Sample'], columns=['Living Independently']):\n",
    "    table = pd.pivot_table(data, values='age', index=index, columns=columns,\n",
    "               aggfunc=np.count_nonzero,\n",
    "              margins=True)\n",
    "    return table.div( table.iloc[:,-1], axis=0 )"
   ]
  },
  {
   "cell_type": "code",
   "execution_count": 94,
   "metadata": {
    "collapsed": false
   },
   "outputs": [
    {
     "data": {
      "text/html": [
       "<div>\n",
       "<table border=\"1\" class=\"dataframe\">\n",
       "  <thead>\n",
       "    <tr style=\"text-align: right;\">\n",
       "      <th>Living Independently</th>\n",
       "      <th>0</th>\n",
       "      <th>1</th>\n",
       "      <th>All</th>\n",
       "    </tr>\n",
       "    <tr>\n",
       "      <th>In Sample</th>\n",
       "      <th></th>\n",
       "      <th></th>\n",
       "      <th></th>\n",
       "    </tr>\n",
       "  </thead>\n",
       "  <tbody>\n",
       "    <tr>\n",
       "      <th>0</th>\n",
       "      <td>0.143384</td>\n",
       "      <td>0.856616</td>\n",
       "      <td>1</td>\n",
       "    </tr>\n",
       "    <tr>\n",
       "      <th>1</th>\n",
       "      <td>0.323323</td>\n",
       "      <td>0.676677</td>\n",
       "      <td>1</td>\n",
       "    </tr>\n",
       "    <tr>\n",
       "      <th>All</th>\n",
       "      <td>0.186021</td>\n",
       "      <td>0.813979</td>\n",
       "      <td>1</td>\n",
       "    </tr>\n",
       "  </tbody>\n",
       "</table>\n",
       "</div>"
      ],
      "text/plain": [
       "Living Independently         0         1  All\n",
       "In Sample                                    \n",
       "0                     0.143384  0.856616    1\n",
       "1                     0.323323  0.676677    1\n",
       "All                   0.186021  0.813979    1"
      ]
     },
     "execution_count": 94,
     "metadata": {},
     "output_type": "execute_result"
    }
   ],
   "source": [
    "pct_pivot(df2)"
   ]
  },
  {
   "cell_type": "code",
   "execution_count": 98,
   "metadata": {
    "collapsed": false
   },
   "outputs": [
    {
     "data": {
      "text/html": [
       "<div>\n",
       "<table border=\"1\" class=\"dataframe\">\n",
       "  <thead>\n",
       "    <tr style=\"text-align: right;\">\n",
       "      <th>Living Independently</th>\n",
       "      <th>0</th>\n",
       "      <th>1</th>\n",
       "      <th>All</th>\n",
       "    </tr>\n",
       "    <tr>\n",
       "      <th>Millenial</th>\n",
       "      <th></th>\n",
       "      <th></th>\n",
       "      <th></th>\n",
       "    </tr>\n",
       "  </thead>\n",
       "  <tbody>\n",
       "    <tr>\n",
       "      <th>0</th>\n",
       "      <td>0.118851</td>\n",
       "      <td>0.881149</td>\n",
       "      <td>1</td>\n",
       "    </tr>\n",
       "    <tr>\n",
       "      <th>1</th>\n",
       "      <td>0.369496</td>\n",
       "      <td>0.630504</td>\n",
       "      <td>1</td>\n",
       "    </tr>\n",
       "    <tr>\n",
       "      <th>All</th>\n",
       "      <td>0.186021</td>\n",
       "      <td>0.813979</td>\n",
       "      <td>1</td>\n",
       "    </tr>\n",
       "  </tbody>\n",
       "</table>\n",
       "</div>"
      ],
      "text/plain": [
       "Living Independently         0         1  All\n",
       "Millenial                                    \n",
       "0                     0.118851  0.881149    1\n",
       "1                     0.369496  0.630504    1\n",
       "All                   0.186021  0.813979    1"
      ]
     },
     "execution_count": 98,
     "metadata": {},
     "output_type": "execute_result"
    }
   ],
   "source": [
    "pct_pivot(df2, index=['Millenial'])"
   ]
  },
  {
   "cell_type": "code",
   "execution_count": null,
   "metadata": {
    "collapsed": true
   },
   "outputs": [],
   "source": []
  }
 ],
 "metadata": {
  "kernelspec": {
   "display_name": "Python 2",
   "language": "python",
   "name": "python2"
  },
  "language_info": {
   "codemirror_mode": {
    "name": "ipython",
    "version": 2
   },
   "file_extension": ".py",
   "mimetype": "text/x-python",
   "name": "python",
   "nbconvert_exporter": "python",
   "pygments_lexer": "ipython2",
   "version": "2.7.10"
  }
 },
 "nbformat": 4,
 "nbformat_minor": 0
}

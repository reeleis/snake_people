{
 "cells": [
  {
   "cell_type": "code",
   "execution_count": 1,
   "metadata": {
    "collapsed": true
   },
   "outputs": [],
   "source": [
    "import pandas as pd\n",
    "import numpy as np\n",
    "import os, fnmatch\n",
    "import matplotlib.pyplot as plt\n",
    "import matplotlib.cm as cm, matplotlib.font_manager as fm\n",
    "%matplotlib inline"
   ]
  },
  {
   "cell_type": "code",
   "execution_count": 2,
   "metadata": {
    "collapsed": true
   },
   "outputs": [],
   "source": [
    "root = '/Users/Lee/Documents/jupyter/notebooks/CP207/CPS Data'\n",
    "#Get all of the cost reports\n",
    "matches = []\n",
    "for root, dirnames, filenames in os.walk(root):\n",
    "  for filename in fnmatch.filter(filenames, '*.dta'):\n",
    "    matches.append(os.path.join(root, filename))"
   ]
  },
  {
   "cell_type": "code",
   "execution_count": 3,
   "metadata": {
    "collapsed": false
   },
   "outputs": [
    {
     "data": {
      "text/plain": [
       "26"
      ]
     },
     "execution_count": 3,
     "metadata": {},
     "output_type": "execute_result"
    }
   ],
   "source": [
    "len(matches)"
   ]
  },
  {
   "cell_type": "code",
   "execution_count": null,
   "metadata": {
    "collapsed": true
   },
   "outputs": [],
   "source": [
    "#df = pd.read_stata('CPS Data/2015/cpsmar2015.dta', convert_categoricals = False)"
   ]
  },
  {
   "cell_type": "markdown",
   "metadata": {},
   "source": [
    "### CBSAs look like they are available for 2005 onwards for all entries; CMSA might be available for all time"
   ]
  },
  {
   "cell_type": "code",
   "execution_count": 4,
   "metadata": {
    "collapsed": true
   },
   "outputs": [],
   "source": [
    "columns_to_keep = ['year', 'msafips', 'cbsafips', 'age', 'studftpt', 'schlvl', 'relref95']"
   ]
  },
  {
   "cell_type": "code",
   "execution_count": 15,
   "metadata": {
    "collapsed": true
   },
   "outputs": [],
   "source": [
    "def process_CPS_file(path):\n",
    "    print 'Processing {}'.format(path)\n",
    "    df_in = pd.read_stata(path, convert_categoricals = False) #, columns=columns_to_keep)\n",
    "    df_in['In Sample'] = in_sample(df_in)\n",
    "    df_in = df_in[df_in['In Sample'] == 1]\n",
    "    return df_in"
   ]
  },
  {
   "cell_type": "code",
   "execution_count": 144,
   "metadata": {
    "collapsed": true
   },
   "outputs": [],
   "source": [
    "df = pd.read_pickle('imported_df.pickle')"
   ]
  },
  {
   "cell_type": "code",
   "execution_count": null,
   "metadata": {
    "collapsed": false,
    "scrolled": true
   },
   "outputs": [],
   "source": [
    "df = pd.DataFrame()\n",
    "for item in matches:\n",
    "    if not df.empty:\n",
    "        df = df.append(process_CPS_file(item))\n",
    "    else:\n",
    "        df = process_CPS_file(item)"
   ]
  },
  {
   "cell_type": "code",
   "execution_count": 140,
   "metadata": {
    "collapsed": true
   },
   "outputs": [],
   "source": [
    "#df.to_pickle('imported_df.pickle')"
   ]
  },
  {
   "cell_type": "code",
   "execution_count": 7,
   "metadata": {
    "collapsed": true
   },
   "outputs": [],
   "source": [
    "def in_sample(data):\n",
    "    #In sample if between 18 and 34 AND (not in college or not full time)\n",
    "#     if row['age'] >= 18 and row['age'] < 35 and not (row['age'] < 25 and (row['schlvl'] == 2 and row['studftpt'] == 1)):\n",
    "#         return 1\n",
    "#     else:\n",
    "#         return 0\n",
    "    return ((data['age'] >= 18) & (data['age'] < 35) & ~((data['age'] < 25) & ((data['schlvl'] == 2) & (data['studftpt'] == 1)))).apply(lambda x: 1 if x else 0)"
   ]
  },
  {
   "cell_type": "code",
   "execution_count": 8,
   "metadata": {
    "collapsed": true
   },
   "outputs": [],
   "source": [
    "def independently(data):\n",
    "    #if row['relref95'] in [1, 2, 3, 10, 12, 13, 14, 15, 16, 17 , 18]:\n",
    "#     if row['relref95'] in [1, 2, 3, 13, 14, 15, 16, 17 , 18]:\n",
    "#         return 1\n",
    "#     else:\n",
    "#         return 0\n",
    "    return data['relref95'].isin([1, 2, 3, 13, 14, 15, 16, 17 , 18]).apply(lambda x: 1 if x else 0)"
   ]
  },
  {
   "cell_type": "code",
   "execution_count": 9,
   "metadata": {
    "collapsed": true
   },
   "outputs": [],
   "source": [
    "def millenial(data):\n",
    "    return ((data['age'] >= 18) & (data['age'] < 35) & ~((data['age'] < 25))).apply(lambda x: 1 if x else 0)"
   ]
  },
  {
   "cell_type": "code",
   "execution_count": 10,
   "metadata": {
    "collapsed": true
   },
   "outputs": [],
   "source": [
    "def pct_pivot(data, index=['In Sample'], columns=['Living Independently']):\n",
    "    table = pd.pivot_table(data, values='age', index=index, columns=columns,\n",
    "               aggfunc=np.count_nonzero,\n",
    "              margins=True)\n",
    "    table.drop('All', inplace=True)\n",
    "    return table.div( table.iloc[:,-1], axis=0 )"
   ]
  },
  {
   "cell_type": "code",
   "execution_count": 66,
   "metadata": {
    "collapsed": false
   },
   "outputs": [
    {
     "data": {
      "text/plain": [
       "['cmsacode', 'msafips', 'smsa04', 'smsa93', 'smsastat']"
      ]
     },
     "execution_count": 66,
     "metadata": {},
     "output_type": "execute_result"
    }
   ],
   "source": [
    "[item for item in df.columns.tolist() if 'msa' in item]"
   ]
  },
  {
   "cell_type": "code",
   "execution_count": 145,
   "metadata": {
    "collapsed": false
   },
   "outputs": [],
   "source": [
    "df = df[columns_to_keep]"
   ]
  },
  {
   "cell_type": "code",
   "execution_count": 18,
   "metadata": {
    "collapsed": false
   },
   "outputs": [
    {
     "data": {
      "text/plain": [
       "1827837"
      ]
     },
     "execution_count": 18,
     "metadata": {},
     "output_type": "execute_result"
    }
   ],
   "source": [
    "len(df)"
   ]
  },
  {
   "cell_type": "code",
   "execution_count": 132,
   "metadata": {
    "collapsed": false
   },
   "outputs": [
    {
     "data": {
      "text/plain": [
       "1230607"
      ]
     },
     "execution_count": 132,
     "metadata": {},
     "output_type": "execute_result"
    }
   ],
   "source": [
    "len(df[df['In Sample'] == 1])"
   ]
  },
  {
   "cell_type": "code",
   "execution_count": 147,
   "metadata": {
    "collapsed": false
   },
   "outputs": [],
   "source": [
    "df['Living Independently'] = independently(df)"
   ]
  },
  {
   "cell_type": "code",
   "execution_count": 20,
   "metadata": {
    "collapsed": false
   },
   "outputs": [
    {
     "data": {
      "text/plain": [
       "Index([u'year', u'msafips', u'cbsafips', u'age', u'studftpt', u'schlvl',\n",
       "       u'relref95', u'Living Independently'],\n",
       "      dtype='object')"
      ]
     },
     "execution_count": 20,
     "metadata": {},
     "output_type": "execute_result"
    }
   ],
   "source": [
    "df.columns"
   ]
  },
  {
   "cell_type": "code",
   "execution_count": 21,
   "metadata": {
    "collapsed": false
   },
   "outputs": [
    {
     "data": {
      "text/html": [
       "<div>\n",
       "<table border=\"1\" class=\"dataframe\">\n",
       "  <thead>\n",
       "    <tr style=\"text-align: right;\">\n",
       "      <th>Living Independently</th>\n",
       "      <th>0</th>\n",
       "      <th>1</th>\n",
       "      <th>All</th>\n",
       "    </tr>\n",
       "    <tr>\n",
       "      <th>year</th>\n",
       "      <th></th>\n",
       "      <th></th>\n",
       "      <th></th>\n",
       "    </tr>\n",
       "  </thead>\n",
       "  <tbody>\n",
       "    <tr>\n",
       "      <th>1990</th>\n",
       "      <td>1.000000</td>\n",
       "      <td>NaN</td>\n",
       "      <td>1</td>\n",
       "    </tr>\n",
       "    <tr>\n",
       "      <th>1991</th>\n",
       "      <td>1.000000</td>\n",
       "      <td>NaN</td>\n",
       "      <td>1</td>\n",
       "    </tr>\n",
       "    <tr>\n",
       "      <th>1992</th>\n",
       "      <td>1.000000</td>\n",
       "      <td>NaN</td>\n",
       "      <td>1</td>\n",
       "    </tr>\n",
       "    <tr>\n",
       "      <th>1993</th>\n",
       "      <td>1.000000</td>\n",
       "      <td>NaN</td>\n",
       "      <td>1</td>\n",
       "    </tr>\n",
       "    <tr>\n",
       "      <th>1994</th>\n",
       "      <td>1.000000</td>\n",
       "      <td>NaN</td>\n",
       "      <td>1</td>\n",
       "    </tr>\n",
       "    <tr>\n",
       "      <th>1995</th>\n",
       "      <td>0.399922</td>\n",
       "      <td>0.600078</td>\n",
       "      <td>1</td>\n",
       "    </tr>\n",
       "    <tr>\n",
       "      <th>2000</th>\n",
       "      <td>0.281176</td>\n",
       "      <td>0.718824</td>\n",
       "      <td>1</td>\n",
       "    </tr>\n",
       "    <tr>\n",
       "      <th>2001</th>\n",
       "      <td>0.278979</td>\n",
       "      <td>0.721021</td>\n",
       "      <td>1</td>\n",
       "    </tr>\n",
       "    <tr>\n",
       "      <th>2002</th>\n",
       "      <td>0.272757</td>\n",
       "      <td>0.727243</td>\n",
       "      <td>1</td>\n",
       "    </tr>\n",
       "    <tr>\n",
       "      <th>2003</th>\n",
       "      <td>0.279923</td>\n",
       "      <td>0.720077</td>\n",
       "      <td>1</td>\n",
       "    </tr>\n",
       "    <tr>\n",
       "      <th>2004</th>\n",
       "      <td>0.279969</td>\n",
       "      <td>0.720031</td>\n",
       "      <td>1</td>\n",
       "    </tr>\n",
       "    <tr>\n",
       "      <th>2005</th>\n",
       "      <td>0.282945</td>\n",
       "      <td>0.717055</td>\n",
       "      <td>1</td>\n",
       "    </tr>\n",
       "    <tr>\n",
       "      <th>2006</th>\n",
       "      <td>0.284986</td>\n",
       "      <td>0.715014</td>\n",
       "      <td>1</td>\n",
       "    </tr>\n",
       "    <tr>\n",
       "      <th>2007</th>\n",
       "      <td>0.287557</td>\n",
       "      <td>0.712443</td>\n",
       "      <td>1</td>\n",
       "    </tr>\n",
       "    <tr>\n",
       "      <th>2008</th>\n",
       "      <td>0.296685</td>\n",
       "      <td>0.703315</td>\n",
       "      <td>1</td>\n",
       "    </tr>\n",
       "    <tr>\n",
       "      <th>2009</th>\n",
       "      <td>0.306751</td>\n",
       "      <td>0.693249</td>\n",
       "      <td>1</td>\n",
       "    </tr>\n",
       "    <tr>\n",
       "      <th>2010</th>\n",
       "      <td>0.311596</td>\n",
       "      <td>0.688404</td>\n",
       "      <td>1</td>\n",
       "    </tr>\n",
       "    <tr>\n",
       "      <th>2011</th>\n",
       "      <td>0.316867</td>\n",
       "      <td>0.683133</td>\n",
       "      <td>1</td>\n",
       "    </tr>\n",
       "    <tr>\n",
       "      <th>2012</th>\n",
       "      <td>0.315637</td>\n",
       "      <td>0.684363</td>\n",
       "      <td>1</td>\n",
       "    </tr>\n",
       "    <tr>\n",
       "      <th>2013</th>\n",
       "      <td>0.323396</td>\n",
       "      <td>0.676604</td>\n",
       "      <td>1</td>\n",
       "    </tr>\n",
       "    <tr>\n",
       "      <th>2014</th>\n",
       "      <td>0.323323</td>\n",
       "      <td>0.676677</td>\n",
       "      <td>1</td>\n",
       "    </tr>\n",
       "    <tr>\n",
       "      <th>2015</th>\n",
       "      <td>0.322637</td>\n",
       "      <td>0.677363</td>\n",
       "      <td>1</td>\n",
       "    </tr>\n",
       "  </tbody>\n",
       "</table>\n",
       "</div>"
      ],
      "text/plain": [
       "Living Independently         0         1  All\n",
       "year                                         \n",
       "1990                  1.000000       NaN    1\n",
       "1991                  1.000000       NaN    1\n",
       "1992                  1.000000       NaN    1\n",
       "1993                  1.000000       NaN    1\n",
       "1994                  1.000000       NaN    1\n",
       "1995                  0.399922  0.600078    1\n",
       "2000                  0.281176  0.718824    1\n",
       "2001                  0.278979  0.721021    1\n",
       "2002                  0.272757  0.727243    1\n",
       "2003                  0.279923  0.720077    1\n",
       "2004                  0.279969  0.720031    1\n",
       "2005                  0.282945  0.717055    1\n",
       "2006                  0.284986  0.715014    1\n",
       "2007                  0.287557  0.712443    1\n",
       "2008                  0.296685  0.703315    1\n",
       "2009                  0.306751  0.693249    1\n",
       "2010                  0.311596  0.688404    1\n",
       "2011                  0.316867  0.683133    1\n",
       "2012                  0.315637  0.684363    1\n",
       "2013                  0.323396  0.676604    1\n",
       "2014                  0.323323  0.676677    1\n",
       "2015                  0.322637  0.677363    1"
      ]
     },
     "execution_count": 21,
     "metadata": {},
     "output_type": "execute_result"
    }
   ],
   "source": [
    "pct_pivot(df, index=['year'], columns=['Living Independently'])"
   ]
  },
  {
   "cell_type": "code",
   "execution_count": 15,
   "metadata": {
    "collapsed": false
   },
   "outputs": [
    {
     "data": {
      "text/html": [
       "<div>\n",
       "<table border=\"1\" class=\"dataframe\">\n",
       "  <thead>\n",
       "    <tr style=\"text-align: right;\">\n",
       "      <th>Living Independently</th>\n",
       "      <th>0</th>\n",
       "      <th>1</th>\n",
       "      <th>All</th>\n",
       "    </tr>\n",
       "    <tr>\n",
       "      <th>year</th>\n",
       "      <th></th>\n",
       "      <th></th>\n",
       "      <th></th>\n",
       "    </tr>\n",
       "  </thead>\n",
       "  <tbody>\n",
       "    <tr>\n",
       "      <th>2000</th>\n",
       "      <td>20665</td>\n",
       "      <td>52830</td>\n",
       "      <td>73495</td>\n",
       "    </tr>\n",
       "    <tr>\n",
       "      <th>2001</th>\n",
       "      <td>21487</td>\n",
       "      <td>55533</td>\n",
       "      <td>77020</td>\n",
       "    </tr>\n",
       "    <tr>\n",
       "      <th>2002</th>\n",
       "      <td>22494</td>\n",
       "      <td>59975</td>\n",
       "      <td>82469</td>\n",
       "    </tr>\n",
       "    <tr>\n",
       "      <th>2003</th>\n",
       "      <td>22767</td>\n",
       "      <td>58566</td>\n",
       "      <td>81333</td>\n",
       "    </tr>\n",
       "    <tr>\n",
       "      <th>2004</th>\n",
       "      <td>22213</td>\n",
       "      <td>57128</td>\n",
       "      <td>79341</td>\n",
       "    </tr>\n",
       "    <tr>\n",
       "      <th>2005</th>\n",
       "      <td>22336</td>\n",
       "      <td>56605</td>\n",
       "      <td>78941</td>\n",
       "    </tr>\n",
       "    <tr>\n",
       "      <th>2006</th>\n",
       "      <td>22034</td>\n",
       "      <td>55282</td>\n",
       "      <td>77316</td>\n",
       "    </tr>\n",
       "    <tr>\n",
       "      <th>2007</th>\n",
       "      <td>21825</td>\n",
       "      <td>54073</td>\n",
       "      <td>75898</td>\n",
       "    </tr>\n",
       "    <tr>\n",
       "      <th>2008</th>\n",
       "      <td>22489</td>\n",
       "      <td>53312</td>\n",
       "      <td>75801</td>\n",
       "    </tr>\n",
       "    <tr>\n",
       "      <th>2009</th>\n",
       "      <td>23599</td>\n",
       "      <td>53333</td>\n",
       "      <td>76932</td>\n",
       "    </tr>\n",
       "    <tr>\n",
       "      <th>2010</th>\n",
       "      <td>24101</td>\n",
       "      <td>53246</td>\n",
       "      <td>77347</td>\n",
       "    </tr>\n",
       "    <tr>\n",
       "      <th>2011</th>\n",
       "      <td>24163</td>\n",
       "      <td>52093</td>\n",
       "      <td>76256</td>\n",
       "    </tr>\n",
       "    <tr>\n",
       "      <th>2012</th>\n",
       "      <td>23663</td>\n",
       "      <td>51306</td>\n",
       "      <td>74969</td>\n",
       "    </tr>\n",
       "    <tr>\n",
       "      <th>2013</th>\n",
       "      <td>24094</td>\n",
       "      <td>50409</td>\n",
       "      <td>74503</td>\n",
       "    </tr>\n",
       "    <tr>\n",
       "      <th>2014</th>\n",
       "      <td>24290</td>\n",
       "      <td>50836</td>\n",
       "      <td>75126</td>\n",
       "    </tr>\n",
       "    <tr>\n",
       "      <th>2015</th>\n",
       "      <td>23830</td>\n",
       "      <td>50030</td>\n",
       "      <td>73860</td>\n",
       "    </tr>\n",
       "    <tr>\n",
       "      <th>All</th>\n",
       "      <td>366050</td>\n",
       "      <td>864557</td>\n",
       "      <td>1230607</td>\n",
       "    </tr>\n",
       "  </tbody>\n",
       "</table>\n",
       "</div>"
      ],
      "text/plain": [
       "Living Independently       0       1      All\n",
       "year                                         \n",
       "2000                   20665   52830    73495\n",
       "2001                   21487   55533    77020\n",
       "2002                   22494   59975    82469\n",
       "2003                   22767   58566    81333\n",
       "2004                   22213   57128    79341\n",
       "2005                   22336   56605    78941\n",
       "2006                   22034   55282    77316\n",
       "2007                   21825   54073    75898\n",
       "2008                   22489   53312    75801\n",
       "2009                   23599   53333    76932\n",
       "2010                   24101   53246    77347\n",
       "2011                   24163   52093    76256\n",
       "2012                   23663   51306    74969\n",
       "2013                   24094   50409    74503\n",
       "2014                   24290   50836    75126\n",
       "2015                   23830   50030    73860\n",
       "All                   366050  864557  1230607"
      ]
     },
     "execution_count": 15,
     "metadata": {},
     "output_type": "execute_result"
    }
   ],
   "source": [
    "pd.pivot_table(df, values='age', index=['year'], columns=['Living Independently'],\n",
    "               aggfunc=np.count_nonzero,\n",
    "              margins=True)"
   ]
  },
  {
   "cell_type": "code",
   "execution_count": 26,
   "metadata": {
    "collapsed": false
   },
   "outputs": [],
   "source": [
    "# define the font styles\n",
    "title_font = fm.FontProperties(family='Bitstream Vera Sans', style='normal', size=15, weight='normal', stretch='normal')\n",
    "label_font = fm.FontProperties(family='Bitstream Vera Sans', style='normal', size=12, weight='normal', stretch='normal')\n",
    "ticks_font = fm.FontProperties(family='Bitstream Vera Sans', style='normal', size=10, weight='normal', stretch='normal')\n",
    "annotation_font = fm.FontProperties(family='Bitstream Vera Sans', style='normal', size=10, weight='normal', stretch='normal')\n",
    "axis_bgcolor = '#f0f0f0'"
   ]
  },
  {
   "cell_type": "code",
   "execution_count": 236,
   "metadata": {
    "collapsed": true
   },
   "outputs": [],
   "source": [
    "# make a re-usable function to draw nice bar charts\n",
    "def line_chart(data, title='', xlabel='', ylabel='', color='k', ylim=None, filename=''):\n",
    "    \n",
    "#     ax = data.plot(kind='bar', figsize=[9, 6], width=0.6, alpha=0.6, \n",
    "#                    color=color, edgecolor='k', grid=False, ylim=ylim)\n",
    "    \n",
    "    ax = data.plot(kind='line', figsize=[9, 6], alpha=0.8, \n",
    "                    grid=False, ylim=ylim, x_compat = True,\n",
    "                   linewidth = 2, marker = 'o',\n",
    "                  color = color)\n",
    "    \n",
    "    #ax.set_xticklabels(data.index, rotation=45, rotation_mode='anchor', ha='right', fontproperties=ticks_font)\n",
    "    ax.yaxis.grid(True)\n",
    "    for label in ax.get_yticklabels():\n",
    "        label.set_fontproperties(ticks_font)\n",
    "\n",
    "    plt.tick_params(\n",
    "        axis='x',          # changes apply to the x-axis\n",
    "        which='both',      # both major and minor ticks are affected\n",
    "        #bottom='off',      # ticks along the bottom edge are off\n",
    "        top='off'         # ticks along the top edge are off\n",
    "        )\n",
    "\n",
    "    plt.tick_params(\n",
    "        axis='y',          # changes apply to the x-axis\n",
    "        which='both',      # both major and minor ticks are affected\n",
    "        right='off',      # ticks along the bottom edge are off\n",
    "        )\n",
    "\n",
    "    ax.set_axis_bgcolor(axis_bgcolor)   \n",
    "    ax.set_title(title, fontproperties=title_font)\n",
    "    ax.set_xlabel(xlabel, fontproperties=label_font)\n",
    "    ax.set_ylabel(ylabel, fontproperties=label_font)\n",
    "    \n",
    "    for label in ax.get_yticklabels():\n",
    "        label.set_fontproperties(ticks_font)\n",
    "\n",
    "    if filename: plt.savefig(filename, format='pdf')\n",
    "    plt.show()"
   ]
  },
  {
   "cell_type": "code",
   "execution_count": 231,
   "metadata": {
    "collapsed": false
   },
   "outputs": [
    {
     "data": {
      "text/plain": [
       "<matplotlib.axes._subplots.AxesSubplot at 0x1122c6b50>"
      ]
     },
     "execution_count": 231,
     "metadata": {},
     "output_type": "execute_result"
    },
    {
     "data": {
      "image/png": "[encoded data removed]",
      "text/plain": [
       "<matplotlib.figure.Figure at 0x118b99fd0>"
      ]
     },
     "metadata": {},
     "output_type": "display_data"
    }
   ],
   "source": [
    "df_plot = pct_pivot(df, index=['year'], columns=['Living Independently'])\n",
    "df_plot.head()\n",
    "df_plot[1].plot()"
   ]
  },
  {
   "cell_type": "code",
   "execution_count": 237,
   "metadata": {
    "collapsed": false
   },
   "outputs": [
    {
     "data": {
      "image/png": "[encoded data removed]",
      "text/plain": [
       "<matplotlib.figure.Figure at 0x1122d0950>"
      ]
     },
     "metadata": {},
     "output_type": "display_data"
    }
   ],
   "source": [
    "line_chart(df_plot[1], ylim=[0,0.8],\n",
    "          title = '% Living Independently, Nationally, 2000-2015',\n",
    "          filename='National.pdf')"
   ]
  },
  {
   "cell_type": "code",
   "execution_count": 23,
   "metadata": {
    "collapsed": true
   },
   "outputs": [],
   "source": [
    "df2 = pd.read_stata(matches[0], convert_categoricals = False)"
   ]
  },
  {
   "cell_type": "code",
   "execution_count": 94,
   "metadata": {
    "collapsed": false
   },
   "outputs": [
    {
     "data": {
      "text/html": [
       "<div>\n",
       "<table border=\"1\" class=\"dataframe\">\n",
       "  <thead>\n",
       "    <tr style=\"text-align: right;\">\n",
       "      <th>Living Independently</th>\n",
       "      <th>0</th>\n",
       "      <th>1</th>\n",
       "      <th>All</th>\n",
       "    </tr>\n",
       "    <tr>\n",
       "      <th>In Sample</th>\n",
       "      <th></th>\n",
       "      <th></th>\n",
       "      <th></th>\n",
       "    </tr>\n",
       "  </thead>\n",
       "  <tbody>\n",
       "    <tr>\n",
       "      <th>0</th>\n",
       "      <td>0.143384</td>\n",
       "      <td>0.856616</td>\n",
       "      <td>1</td>\n",
       "    </tr>\n",
       "    <tr>\n",
       "      <th>1</th>\n",
       "      <td>0.323323</td>\n",
       "      <td>0.676677</td>\n",
       "      <td>1</td>\n",
       "    </tr>\n",
       "    <tr>\n",
       "      <th>All</th>\n",
       "      <td>0.186021</td>\n",
       "      <td>0.813979</td>\n",
       "      <td>1</td>\n",
       "    </tr>\n",
       "  </tbody>\n",
       "</table>\n",
       "</div>"
      ],
      "text/plain": [
       "Living Independently         0         1  All\n",
       "In Sample                                    \n",
       "0                     0.143384  0.856616    1\n",
       "1                     0.323323  0.676677    1\n",
       "All                   0.186021  0.813979    1"
      ]
     },
     "execution_count": 94,
     "metadata": {},
     "output_type": "execute_result"
    }
   ],
   "source": [
    "pct_pivot(df2)"
   ]
  },
  {
   "cell_type": "code",
   "execution_count": 98,
   "metadata": {
    "collapsed": false
   },
   "outputs": [
    {
     "data": {
      "text/html": [
       "<div>\n",
       "<table border=\"1\" class=\"dataframe\">\n",
       "  <thead>\n",
       "    <tr style=\"text-align: right;\">\n",
       "      <th>Living Independently</th>\n",
       "      <th>0</th>\n",
       "      <th>1</th>\n",
       "      <th>All</th>\n",
       "    </tr>\n",
       "    <tr>\n",
       "      <th>Millenial</th>\n",
       "      <th></th>\n",
       "      <th></th>\n",
       "      <th></th>\n",
       "    </tr>\n",
       "  </thead>\n",
       "  <tbody>\n",
       "    <tr>\n",
       "      <th>0</th>\n",
       "      <td>0.118851</td>\n",
       "      <td>0.881149</td>\n",
       "      <td>1</td>\n",
       "    </tr>\n",
       "    <tr>\n",
       "      <th>1</th>\n",
       "      <td>0.369496</td>\n",
       "      <td>0.630504</td>\n",
       "      <td>1</td>\n",
       "    </tr>\n",
       "    <tr>\n",
       "      <th>All</th>\n",
       "      <td>0.186021</td>\n",
       "      <td>0.813979</td>\n",
       "      <td>1</td>\n",
       "    </tr>\n",
       "  </tbody>\n",
       "</table>\n",
       "</div>"
      ],
      "text/plain": [
       "Living Independently         0         1  All\n",
       "Millenial                                    \n",
       "0                     0.118851  0.881149    1\n",
       "1                     0.369496  0.630504    1\n",
       "All                   0.186021  0.813979    1"
      ]
     },
     "execution_count": 98,
     "metadata": {},
     "output_type": "execute_result"
    }
   ],
   "source": [
    "pct_pivot(df2, index=['Millenial'])"
   ]
  },
  {
   "cell_type": "code",
   "execution_count": 63,
   "metadata": {
    "collapsed": true
   },
   "outputs": [],
   "source": [
    "df_2014 = df[df['year'] == 2014]"
   ]
  },
  {
   "cell_type": "code",
   "execution_count": 244,
   "metadata": {
    "collapsed": true
   },
   "outputs": [],
   "source": [
    "t = df_2014.groupby('cbsafips').count()\n",
    "t = t[t.year > 100]\n",
    "df_plot = pct_pivot(df_2014, index=['cbsafips'], columns=['Living Independently'])\n",
    "df_plot = t.merge(df_plot, left_index=True, right_index=True, how='left')\n",
    "#df_plot = pct_pivot(df, index=['msafips'], columns=['Living Independently'])\n",
    "df_plot.rename(columns={0:'Not_Independent', 1:'Independent'}, inplace=True)\n",
    "df_plot = df_plot.merge(df_rent, how='left', right_on='cbsafips', left_index=True)"
   ]
  },
  {
   "cell_type": "code",
   "execution_count": 245,
   "metadata": {
    "collapsed": false
   },
   "outputs": [
    {
     "data": {
      "text/html": [
       "<div>\n",
       "<table border=\"1\" class=\"dataframe\">\n",
       "  <thead>\n",
       "    <tr style=\"text-align: right;\">\n",
       "      <th></th>\n",
       "      <th>year</th>\n",
       "      <th>msafips</th>\n",
       "      <th>age</th>\n",
       "      <th>studftpt</th>\n",
       "      <th>schlvl</th>\n",
       "      <th>relref95</th>\n",
       "      <th>Living Independently</th>\n",
       "      <th>Not_Independent</th>\n",
       "      <th>Independent</th>\n",
       "      <th>All</th>\n",
       "      <th>cbsafips</th>\n",
       "      <th>GEO.display-label</th>\n",
       "      <th>Median_Rent</th>\n",
       "      <th>Median_Rent_MOE</th>\n",
       "    </tr>\n",
       "  </thead>\n",
       "  <tbody>\n",
       "    <tr>\n",
       "      <th>507</th>\n",
       "      <td>18399</td>\n",
       "      <td>0</td>\n",
       "      <td>18399</td>\n",
       "      <td>1903</td>\n",
       "      <td>1903</td>\n",
       "      <td>18399</td>\n",
       "      <td>18399</td>\n",
       "      <td>0.297407</td>\n",
       "      <td>0.702593</td>\n",
       "      <td>1</td>\n",
       "      <td>0</td>\n",
       "      <td>NaN</td>\n",
       "      <td>NaN</td>\n",
       "      <td>NaN</td>\n",
       "    </tr>\n",
       "    <tr>\n",
       "      <th>3</th>\n",
       "      <td>120</td>\n",
       "      <td>0</td>\n",
       "      <td>120</td>\n",
       "      <td>13</td>\n",
       "      <td>13</td>\n",
       "      <td>120</td>\n",
       "      <td>120</td>\n",
       "      <td>0.341667</td>\n",
       "      <td>0.658333</td>\n",
       "      <td>1</td>\n",
       "      <td>10420</td>\n",
       "      <td>Akron, OH Metro Area</td>\n",
       "      <td>756</td>\n",
       "      <td>20</td>\n",
       "    </tr>\n",
       "    <tr>\n",
       "      <th>7</th>\n",
       "      <td>144</td>\n",
       "      <td>0</td>\n",
       "      <td>144</td>\n",
       "      <td>20</td>\n",
       "      <td>20</td>\n",
       "      <td>144</td>\n",
       "      <td>144</td>\n",
       "      <td>0.340278</td>\n",
       "      <td>0.659722</td>\n",
       "      <td>1</td>\n",
       "      <td>10580</td>\n",
       "      <td>Albany-Schenectady-Troy, NY Metro Area</td>\n",
       "      <td>931</td>\n",
       "      <td>16</td>\n",
       "    </tr>\n",
       "  </tbody>\n",
       "</table>\n",
       "</div>"
      ],
      "text/plain": [
       "      year  msafips    age  studftpt  schlvl  relref95  Living Independently  \\\n",
       "507  18399        0  18399      1903    1903     18399                 18399   \n",
       "3      120        0    120        13      13       120                   120   \n",
       "7      144        0    144        20      20       144                   144   \n",
       "\n",
       "     Not_Independent  Independent  All  cbsafips  \\\n",
       "507         0.297407     0.702593    1         0   \n",
       "3           0.341667     0.658333    1     10420   \n",
       "7           0.340278     0.659722    1     10580   \n",
       "\n",
       "                          GEO.display-label  Median_Rent  Median_Rent_MOE  \n",
       "507                                     NaN          NaN              NaN  \n",
       "3                      Akron, OH Metro Area          756               20  \n",
       "7    Albany-Schenectady-Troy, NY Metro Area          931               16  "
      ]
     },
     "execution_count": 245,
     "metadata": {},
     "output_type": "execute_result"
    }
   ],
   "source": [
    "df_plot.head(3)"
   ]
  },
  {
   "cell_type": "code",
   "execution_count": 225,
   "metadata": {
    "collapsed": false
   },
   "outputs": [
    {
     "data": {
      "text/plain": [
       "<matplotlib.axes._subplots.AxesSubplot at 0x111b4dd90>"
      ]
     },
     "execution_count": 225,
     "metadata": {},
     "output_type": "execute_result"
    },
    {
     "data": {
      "image/png": "[encoded data removed]",
      "text/plain": [
       "<matplotlib.figure.Figure at 0x111ff85d0>"
      ]
     },
     "metadata": {},
     "output_type": "display_data"
    }
   ],
   "source": [
    "df_plot.plot(x='Median_Rent',\n",
    "             y= 'Independent',\n",
    "             title = '% Independent versus Median Rent for CBSAs with >100 samples',\n",
    "             kind='scatter',\n",
    "             ylim=[0,1],\n",
    "             xlim=[0,2000],\n",
    "            figsize=[9,6],\n",
    "            alpha=0.8)"
   ]
  },
  {
   "cell_type": "code",
   "execution_count": 254,
   "metadata": {
    "collapsed": false
   },
   "outputs": [
    {
     "data": {
      "image/png": "[encoded data removed]",
      "text/plain": [
       "<matplotlib.figure.Figure at 0x10f6eb8d0>"
      ]
     },
     "metadata": {},
     "output_type": "display_data"
    }
   ],
   "source": [
    "#df3.plot(kind='scatter', x='disadvantage_weighted', y='lane_miles_repaving')\n",
    "\n",
    "fig, ax = plt.subplots()\n",
    "fig.set_size_inches(9, 6)\n",
    "rs_scatter = ax.scatter(x=df_plot['Median_Rent'], y=df_plot['Independent'],\n",
    "                        #c=point_color, edgecolor=edge_color,\n",
    "                        alpha=1, s=50,\n",
    "                       )\n",
    "\n",
    "ax.set_xlim([0,2000])\n",
    "ax.set_ylim([0, 1])\n",
    "# set font of tick labels\n",
    "for label in ax.get_xticklabels():\n",
    "    label.set_fontproperties(ticks_font)\n",
    "for label in ax.get_yticklabels():\n",
    "    label.set_fontproperties(ticks_font)\n",
    "\n",
    "plt.tick_params(\n",
    "    axis='x',          # changes apply to the x-axis\n",
    "    which='both',      # both major and minor ticks are affected\n",
    "    #bottom='off',      # ticks along the bottom edge are off\n",
    "    top='off'         # ticks along the top edge are off\n",
    "    )\n",
    "\n",
    "plt.tick_params(\n",
    "    axis='y',          # changes apply to the x-axis\n",
    "    which='both',      # both major and minor ticks are affected\n",
    "    right='off',      # ticks along the bottom edge are off\n",
    "    )\n",
    "\n",
    "# bbox_style = {'boxstyle':'round', 'color':'k', 'fc':'w', 'alpha':0.8}\n",
    "# arrowprops_style = {'arrowstyle':'->', 'connectionstyle':'arc3,rad=0.5', 'color':'k', 'alpha':0.8}\n",
    "# def annotate_district(row):\n",
    "#     return ax.annotate(row.name, xy=(row['disadvantage_weighted'], row['repaving_percent']), xytext=(row['disadvantage_weighted'] + .01, row['repaving_percent'] + 1),\n",
    "#             fontproperties=annotation_font,\n",
    "#             bbox=bbox_style,\n",
    "#             xycoords='data',\n",
    "#             arrowprops=arrowprops_style)\n",
    "# df2.apply(annotate_district, axis=1)\n",
    "\n",
    "# set title, axis labels, background color\n",
    "ax.set_title('% Independent versus Median Rent for CBSAs with >100 samples', fontproperties=title_font)\n",
    "ax.set_xlabel('Median Rent', fontproperties=label_font)\n",
    "ax.set_ylabel('% Independent', fontproperties=label_font)\n",
    "ax.set_axis_bgcolor(axis_bgcolor)\n",
    "    \n",
    "#plt.show()\n",
    "plt.savefig('Median Rent Scatter.pdf', format='pdf')"
   ]
  },
  {
   "cell_type": "code",
   "execution_count": 95,
   "metadata": {
    "collapsed": false
   },
   "outputs": [
    {
     "data": {
      "text/plain": [
       "326"
      ]
     },
     "execution_count": 95,
     "metadata": {},
     "output_type": "execute_result"
    }
   ],
   "source": [
    "len(df_plot)"
   ]
  },
  {
   "cell_type": "code",
   "execution_count": 77,
   "metadata": {
    "collapsed": false
   },
   "outputs": [
    {
     "data": {
      "text/html": [
       "<div>\n",
       "<table border=\"1\" class=\"dataframe\">\n",
       "  <thead>\n",
       "    <tr style=\"text-align: right;\">\n",
       "      <th>Living Independently</th>\n",
       "      <th>0</th>\n",
       "      <th>1</th>\n",
       "      <th>All</th>\n",
       "    </tr>\n",
       "    <tr>\n",
       "      <th>msafips</th>\n",
       "      <th></th>\n",
       "      <th></th>\n",
       "      <th></th>\n",
       "    </tr>\n",
       "  </thead>\n",
       "  <tbody>\n",
       "    <tr>\n",
       "      <th>80</th>\n",
       "      <td>0.246341</td>\n",
       "      <td>0.753659</td>\n",
       "      <td>1</td>\n",
       "    </tr>\n",
       "    <tr>\n",
       "      <th>160</th>\n",
       "      <td>0.263533</td>\n",
       "      <td>0.736467</td>\n",
       "      <td>1</td>\n",
       "    </tr>\n",
       "    <tr>\n",
       "      <th>200</th>\n",
       "      <td>0.236257</td>\n",
       "      <td>0.763743</td>\n",
       "      <td>1</td>\n",
       "    </tr>\n",
       "    <tr>\n",
       "      <th>240</th>\n",
       "      <td>0.326656</td>\n",
       "      <td>0.673344</td>\n",
       "      <td>1</td>\n",
       "    </tr>\n",
       "    <tr>\n",
       "      <th>380</th>\n",
       "      <td>0.240901</td>\n",
       "      <td>0.759099</td>\n",
       "      <td>1</td>\n",
       "    </tr>\n",
       "  </tbody>\n",
       "</table>\n",
       "</div>"
      ],
      "text/plain": [
       "Living Independently         0         1  All\n",
       "msafips                                      \n",
       "80                    0.246341  0.753659    1\n",
       "160                   0.263533  0.736467    1\n",
       "200                   0.236257  0.763743    1\n",
       "240                   0.326656  0.673344    1\n",
       "380                   0.240901  0.759099    1"
      ]
     },
     "execution_count": 77,
     "metadata": {},
     "output_type": "execute_result"
    }
   ],
   "source": [
    "df_plot.head()"
   ]
  },
  {
   "cell_type": "code",
   "execution_count": 50,
   "metadata": {
    "collapsed": false
   },
   "outputs": [],
   "source": [
    "df_cbsa = pd.pivot_table(df_2015, values='age', index=['cbsafips'], columns=['Living Independently'],\n",
    "               aggfunc=np.count_nonzero,\n",
    "              margins=True)"
   ]
  },
  {
   "cell_type": "code",
   "execution_count": 53,
   "metadata": {
    "collapsed": false
   },
   "outputs": [
    {
     "data": {
      "text/plain": [
       "297"
      ]
     },
     "execution_count": 53,
     "metadata": {},
     "output_type": "execute_result"
    }
   ],
   "source": [
    "len(df_cbsa)"
   ]
  },
  {
   "cell_type": "code",
   "execution_count": 55,
   "metadata": {
    "collapsed": false
   },
   "outputs": [
    {
     "data": {
      "text/plain": [
       "292"
      ]
     },
     "execution_count": 55,
     "metadata": {},
     "output_type": "execute_result"
    }
   ],
   "source": [
    "len(df_cbsa[df_cbsa['All'] > 10])"
   ]
  },
  {
   "cell_type": "code",
   "execution_count": 85,
   "metadata": {
    "collapsed": true
   },
   "outputs": [],
   "source": [
    "root = '/Users/Lee/Documents/jupyter/notebooks/CP207/Census_Data/'\n",
    "#Get all of the cost reports\n",
    "matches = []\n",
    "for root, dirnames, filenames in os.walk(root):\n",
    "  for filename in fnmatch.filter(filenames, '*_with_ann.csv'):\n",
    "    matches.append(os.path.join(root, filename))"
   ]
  },
  {
   "cell_type": "code",
   "execution_count": 86,
   "metadata": {
    "collapsed": false
   },
   "outputs": [
    {
     "data": {
      "text/plain": [
       "1"
      ]
     },
     "execution_count": 86,
     "metadata": {},
     "output_type": "execute_result"
    }
   ],
   "source": [
    "len(matches)"
   ]
  },
  {
   "cell_type": "code",
   "execution_count": 87,
   "metadata": {
    "collapsed": true
   },
   "outputs": [],
   "source": [
    "df_rent = pd.read_csv(matches[0])"
   ]
  },
  {
   "cell_type": "code",
   "execution_count": 88,
   "metadata": {
    "collapsed": false
   },
   "outputs": [],
   "source": [
    "df_rent.rename(columns={'GEO.id2':'cbsafips', 'HD01_VD01':'Median_Rent', 'HD02_VD01':'Median_Rent_MOE'},inplace=True)"
   ]
  },
  {
   "cell_type": "code",
   "execution_count": 89,
   "metadata": {
    "collapsed": false
   },
   "outputs": [],
   "source": [
    "df_rent.drop('GEO.id', axis=1, inplace=True)"
   ]
  },
  {
   "cell_type": "code",
   "execution_count": 90,
   "metadata": {
    "collapsed": false
   },
   "outputs": [
    {
     "data": {
      "text/html": [
       "<div>\n",
       "<table border=\"1\" class=\"dataframe\">\n",
       "  <thead>\n",
       "    <tr style=\"text-align: right;\">\n",
       "      <th></th>\n",
       "      <th>cbsafips</th>\n",
       "      <th>GEO.display-label</th>\n",
       "      <th>Median_Rent</th>\n",
       "      <th>Median_Rent_MOE</th>\n",
       "    </tr>\n",
       "  </thead>\n",
       "  <tbody>\n",
       "    <tr>\n",
       "      <th>0</th>\n",
       "      <td>10140</td>\n",
       "      <td>Aberdeen, WA Micro Area</td>\n",
       "      <td>819</td>\n",
       "      <td>57</td>\n",
       "    </tr>\n",
       "    <tr>\n",
       "      <th>1</th>\n",
       "      <td>10180</td>\n",
       "      <td>Abilene, TX Metro Area</td>\n",
       "      <td>814</td>\n",
       "      <td>44</td>\n",
       "    </tr>\n",
       "    <tr>\n",
       "      <th>2</th>\n",
       "      <td>10300</td>\n",
       "      <td>Adrian, MI Micro Area</td>\n",
       "      <td>728</td>\n",
       "      <td>57</td>\n",
       "    </tr>\n",
       "    <tr>\n",
       "      <th>3</th>\n",
       "      <td>10420</td>\n",
       "      <td>Akron, OH Metro Area</td>\n",
       "      <td>756</td>\n",
       "      <td>20</td>\n",
       "    </tr>\n",
       "    <tr>\n",
       "      <th>4</th>\n",
       "      <td>10460</td>\n",
       "      <td>Alamogordo, NM Micro Area</td>\n",
       "      <td>845</td>\n",
       "      <td>142</td>\n",
       "    </tr>\n",
       "  </tbody>\n",
       "</table>\n",
       "</div>"
      ],
      "text/plain": [
       "   cbsafips          GEO.display-label  Median_Rent  Median_Rent_MOE\n",
       "0     10140    Aberdeen, WA Micro Area          819               57\n",
       "1     10180     Abilene, TX Metro Area          814               44\n",
       "2     10300      Adrian, MI Micro Area          728               57\n",
       "3     10420       Akron, OH Metro Area          756               20\n",
       "4     10460  Alamogordo, NM Micro Area          845              142"
      ]
     },
     "execution_count": 90,
     "metadata": {},
     "output_type": "execute_result"
    }
   ],
   "source": [
    "df_rent.head()"
   ]
  },
  {
   "cell_type": "code",
   "execution_count": 87,
   "metadata": {
    "collapsed": false
   },
   "outputs": [
    {
     "data": {
      "text/html": [
       "<div>\n",
       "<table border=\"1\" class=\"dataframe\">\n",
       "  <thead>\n",
       "    <tr style=\"text-align: right;\">\n",
       "      <th></th>\n",
       "      <th>msafips</th>\n",
       "      <th>cbsafips</th>\n",
       "      <th>age</th>\n",
       "      <th>studftpt</th>\n",
       "      <th>schlvl</th>\n",
       "      <th>relref95</th>\n",
       "      <th>Living Independently</th>\n",
       "    </tr>\n",
       "    <tr>\n",
       "      <th>year</th>\n",
       "      <th></th>\n",
       "      <th></th>\n",
       "      <th></th>\n",
       "      <th></th>\n",
       "      <th></th>\n",
       "      <th></th>\n",
       "      <th></th>\n",
       "    </tr>\n",
       "  </thead>\n",
       "  <tbody>\n",
       "    <tr>\n",
       "      <th>2004</th>\n",
       "      <td>0</td>\n",
       "      <td>419</td>\n",
       "      <td>419</td>\n",
       "      <td>29</td>\n",
       "      <td>29</td>\n",
       "      <td>419</td>\n",
       "      <td>419</td>\n",
       "    </tr>\n",
       "    <tr>\n",
       "      <th>2005</th>\n",
       "      <td>0</td>\n",
       "      <td>823</td>\n",
       "      <td>823</td>\n",
       "      <td>33</td>\n",
       "      <td>33</td>\n",
       "      <td>823</td>\n",
       "      <td>823</td>\n",
       "    </tr>\n",
       "    <tr>\n",
       "      <th>2006</th>\n",
       "      <td>0</td>\n",
       "      <td>798</td>\n",
       "      <td>798</td>\n",
       "      <td>43</td>\n",
       "      <td>43</td>\n",
       "      <td>798</td>\n",
       "      <td>798</td>\n",
       "    </tr>\n",
       "    <tr>\n",
       "      <th>2007</th>\n",
       "      <td>0</td>\n",
       "      <td>709</td>\n",
       "      <td>709</td>\n",
       "      <td>43</td>\n",
       "      <td>43</td>\n",
       "      <td>709</td>\n",
       "      <td>709</td>\n",
       "    </tr>\n",
       "    <tr>\n",
       "      <th>2008</th>\n",
       "      <td>0</td>\n",
       "      <td>816</td>\n",
       "      <td>816</td>\n",
       "      <td>42</td>\n",
       "      <td>42</td>\n",
       "      <td>816</td>\n",
       "      <td>816</td>\n",
       "    </tr>\n",
       "    <tr>\n",
       "      <th>2009</th>\n",
       "      <td>0</td>\n",
       "      <td>815</td>\n",
       "      <td>815</td>\n",
       "      <td>56</td>\n",
       "      <td>56</td>\n",
       "      <td>815</td>\n",
       "      <td>815</td>\n",
       "    </tr>\n",
       "    <tr>\n",
       "      <th>2010</th>\n",
       "      <td>0</td>\n",
       "      <td>843</td>\n",
       "      <td>843</td>\n",
       "      <td>49</td>\n",
       "      <td>49</td>\n",
       "      <td>843</td>\n",
       "      <td>843</td>\n",
       "    </tr>\n",
       "    <tr>\n",
       "      <th>2011</th>\n",
       "      <td>0</td>\n",
       "      <td>839</td>\n",
       "      <td>839</td>\n",
       "      <td>55</td>\n",
       "      <td>55</td>\n",
       "      <td>839</td>\n",
       "      <td>839</td>\n",
       "    </tr>\n",
       "    <tr>\n",
       "      <th>2012</th>\n",
       "      <td>0</td>\n",
       "      <td>857</td>\n",
       "      <td>857</td>\n",
       "      <td>59</td>\n",
       "      <td>59</td>\n",
       "      <td>857</td>\n",
       "      <td>857</td>\n",
       "    </tr>\n",
       "    <tr>\n",
       "      <th>2013</th>\n",
       "      <td>0</td>\n",
       "      <td>871</td>\n",
       "      <td>871</td>\n",
       "      <td>110</td>\n",
       "      <td>110</td>\n",
       "      <td>871</td>\n",
       "      <td>871</td>\n",
       "    </tr>\n",
       "    <tr>\n",
       "      <th>2014</th>\n",
       "      <td>0</td>\n",
       "      <td>863</td>\n",
       "      <td>863</td>\n",
       "      <td>109</td>\n",
       "      <td>109</td>\n",
       "      <td>863</td>\n",
       "      <td>863</td>\n",
       "    </tr>\n",
       "    <tr>\n",
       "      <th>2015</th>\n",
       "      <td>0</td>\n",
       "      <td>773</td>\n",
       "      <td>773</td>\n",
       "      <td>104</td>\n",
       "      <td>104</td>\n",
       "      <td>773</td>\n",
       "      <td>773</td>\n",
       "    </tr>\n",
       "  </tbody>\n",
       "</table>\n",
       "</div>"
      ],
      "text/plain": [
       "      msafips  cbsafips  age  studftpt  schlvl  relref95  Living Independently\n",
       "year                                                                          \n",
       "2004        0       419  419        29      29       419                   419\n",
       "2005        0       823  823        33      33       823                   823\n",
       "2006        0       798  798        43      43       798                   798\n",
       "2007        0       709  709        43      43       709                   709\n",
       "2008        0       816  816        42      42       816                   816\n",
       "2009        0       815  815        56      56       815                   815\n",
       "2010        0       843  843        49      49       843                   843\n",
       "2011        0       839  839        55      55       839                   839\n",
       "2012        0       857  857        59      59       857                   857\n",
       "2013        0       871  871       110     110       871                   871\n",
       "2014        0       863  863       109     109       863                   863\n",
       "2015        0       773  773       104     104       773                   773"
      ]
     },
     "execution_count": 87,
     "metadata": {},
     "output_type": "execute_result"
    }
   ],
   "source": [
    "df[df.cbsafips == 41860].groupby('year').count()"
   ]
  },
  {
   "cell_type": "code",
   "execution_count": 105,
   "metadata": {
    "collapsed": false
   },
   "outputs": [
    {
     "data": {
      "text/html": [
       "<div>\n",
       "<table border=\"1\" class=\"dataframe\">\n",
       "  <thead>\n",
       "    <tr style=\"text-align: right;\">\n",
       "      <th></th>\n",
       "      <th>year</th>\n",
       "      <th>cbsafips</th>\n",
       "      <th>age</th>\n",
       "      <th>studftpt</th>\n",
       "      <th>schlvl</th>\n",
       "      <th>relref95</th>\n",
       "      <th>Living Independently</th>\n",
       "    </tr>\n",
       "  </thead>\n",
       "  <tbody>\n",
       "    <tr>\n",
       "      <th>6</th>\n",
       "      <td>2015</td>\n",
       "      <td>13820</td>\n",
       "      <td>27</td>\n",
       "      <td>NaN</td>\n",
       "      <td>NaN</td>\n",
       "      <td>2</td>\n",
       "      <td>1</td>\n",
       "    </tr>\n",
       "    <tr>\n",
       "      <th>10</th>\n",
       "      <td>2015</td>\n",
       "      <td>33660</td>\n",
       "      <td>22</td>\n",
       "      <td>NaN</td>\n",
       "      <td>NaN</td>\n",
       "      <td>1</td>\n",
       "      <td>1</td>\n",
       "    </tr>\n",
       "    <tr>\n",
       "      <th>11</th>\n",
       "      <td>2015</td>\n",
       "      <td>33660</td>\n",
       "      <td>27</td>\n",
       "      <td>NaN</td>\n",
       "      <td>NaN</td>\n",
       "      <td>14</td>\n",
       "      <td>1</td>\n",
       "    </tr>\n",
       "    <tr>\n",
       "      <th>18</th>\n",
       "      <td>2015</td>\n",
       "      <td>33860</td>\n",
       "      <td>18</td>\n",
       "      <td>1</td>\n",
       "      <td>1</td>\n",
       "      <td>4</td>\n",
       "      <td>0</td>\n",
       "    </tr>\n",
       "    <tr>\n",
       "      <th>19</th>\n",
       "      <td>2015</td>\n",
       "      <td>33860</td>\n",
       "      <td>20</td>\n",
       "      <td>NaN</td>\n",
       "      <td>NaN</td>\n",
       "      <td>4</td>\n",
       "      <td>0</td>\n",
       "    </tr>\n",
       "  </tbody>\n",
       "</table>\n",
       "</div>"
      ],
      "text/plain": [
       "    year  cbsafips  age  studftpt  schlvl  relref95  Living Independently\n",
       "6   2015     13820   27       NaN     NaN         2                     1\n",
       "10  2015     33660   22       NaN     NaN         1                     1\n",
       "11  2015     33660   27       NaN     NaN        14                     1\n",
       "18  2015     33860   18         1       1         4                     0\n",
       "19  2015     33860   20       NaN     NaN         4                     0"
      ]
     },
     "execution_count": 105,
     "metadata": {},
     "output_type": "execute_result"
    }
   ],
   "source": [
    "df_2015.head()"
   ]
  },
  {
   "cell_type": "code",
   "execution_count": 106,
   "metadata": {
    "collapsed": false
   },
   "outputs": [
    {
     "data": {
      "text/html": [
       "<div>\n",
       "<table border=\"1\" class=\"dataframe\">\n",
       "  <thead>\n",
       "    <tr style=\"text-align: right;\">\n",
       "      <th></th>\n",
       "      <th>cbsafips</th>\n",
       "      <th>GEO.display-label</th>\n",
       "      <th>Median_Rent</th>\n",
       "      <th>Median_Rent_MOE</th>\n",
       "    </tr>\n",
       "  </thead>\n",
       "  <tbody>\n",
       "    <tr>\n",
       "      <th>0</th>\n",
       "      <td>10140</td>\n",
       "      <td>Aberdeen, WA Micro Area</td>\n",
       "      <td>819</td>\n",
       "      <td>57</td>\n",
       "    </tr>\n",
       "    <tr>\n",
       "      <th>1</th>\n",
       "      <td>10180</td>\n",
       "      <td>Abilene, TX Metro Area</td>\n",
       "      <td>814</td>\n",
       "      <td>44</td>\n",
       "    </tr>\n",
       "    <tr>\n",
       "      <th>2</th>\n",
       "      <td>10300</td>\n",
       "      <td>Adrian, MI Micro Area</td>\n",
       "      <td>728</td>\n",
       "      <td>57</td>\n",
       "    </tr>\n",
       "    <tr>\n",
       "      <th>3</th>\n",
       "      <td>10420</td>\n",
       "      <td>Akron, OH Metro Area</td>\n",
       "      <td>756</td>\n",
       "      <td>20</td>\n",
       "    </tr>\n",
       "    <tr>\n",
       "      <th>4</th>\n",
       "      <td>10460</td>\n",
       "      <td>Alamogordo, NM Micro Area</td>\n",
       "      <td>845</td>\n",
       "      <td>142</td>\n",
       "    </tr>\n",
       "  </tbody>\n",
       "</table>\n",
       "</div>"
      ],
      "text/plain": [
       "   cbsafips          GEO.display-label  Median_Rent  Median_Rent_MOE\n",
       "0     10140    Aberdeen, WA Micro Area          819               57\n",
       "1     10180     Abilene, TX Metro Area          814               44\n",
       "2     10300      Adrian, MI Micro Area          728               57\n",
       "3     10420       Akron, OH Metro Area          756               20\n",
       "4     10460  Alamogordo, NM Micro Area          845              142"
      ]
     },
     "execution_count": 106,
     "metadata": {},
     "output_type": "execute_result"
    }
   ],
   "source": [
    "df_rent.head()"
   ]
  },
  {
   "cell_type": "code",
   "execution_count": 138,
   "metadata": {
    "collapsed": false
   },
   "outputs": [],
   "source": [
    "df_cbsa = pct_pivot(df_2014, index=['cbsafips'], columns=['Living Independently'])\n",
    "df_cbsa.drop('All', axis = 1, inplace = True)\n",
    "df_cbsa.rename(columns={0:'Not_Independent', 1:'Independent'}, inplace=True)"
   ]
  },
  {
   "cell_type": "code",
   "execution_count": 139,
   "metadata": {
    "collapsed": false
   },
   "outputs": [
    {
     "data": {
      "text/html": [
       "<div>\n",
       "<table border=\"1\" class=\"dataframe\">\n",
       "  <thead>\n",
       "    <tr style=\"text-align: right;\">\n",
       "      <th>Living Independently</th>\n",
       "      <th>Not_Independent</th>\n",
       "      <th>Independent</th>\n",
       "    </tr>\n",
       "    <tr>\n",
       "      <th>cbsafips</th>\n",
       "      <th></th>\n",
       "      <th></th>\n",
       "    </tr>\n",
       "  </thead>\n",
       "  <tbody>\n",
       "    <tr>\n",
       "      <th>0</th>\n",
       "      <td>0.297407</td>\n",
       "      <td>0.702593</td>\n",
       "    </tr>\n",
       "    <tr>\n",
       "      <th>10180</th>\n",
       "      <td>0.500000</td>\n",
       "      <td>0.500000</td>\n",
       "    </tr>\n",
       "    <tr>\n",
       "      <th>10420</th>\n",
       "      <td>0.341667</td>\n",
       "      <td>0.658333</td>\n",
       "    </tr>\n",
       "    <tr>\n",
       "      <th>10500</th>\n",
       "      <td>0.354167</td>\n",
       "      <td>0.645833</td>\n",
       "    </tr>\n",
       "    <tr>\n",
       "      <th>10580</th>\n",
       "      <td>0.340278</td>\n",
       "      <td>0.659722</td>\n",
       "    </tr>\n",
       "  </tbody>\n",
       "</table>\n",
       "</div>"
      ],
      "text/plain": [
       "Living Independently  Not_Independent  Independent\n",
       "cbsafips                                          \n",
       "0                            0.297407     0.702593\n",
       "10180                        0.500000     0.500000\n",
       "10420                        0.341667     0.658333\n",
       "10500                        0.354167     0.645833\n",
       "10580                        0.340278     0.659722"
      ]
     },
     "execution_count": 139,
     "metadata": {},
     "output_type": "execute_result"
    }
   ],
   "source": [
    "df_cbsa.head()"
   ]
  },
  {
   "cell_type": "code",
   "execution_count": 140,
   "metadata": {
    "collapsed": false
   },
   "outputs": [],
   "source": [
    "df_plot = df_cbsa.merge(df_rent, how='left', right_on='cbsafips', left_index=True)"
   ]
  },
  {
   "cell_type": "code",
   "execution_count": 141,
   "metadata": {
    "collapsed": false
   },
   "outputs": [
    {
     "data": {
      "text/html": [
       "<div>\n",
       "<table border=\"1\" class=\"dataframe\">\n",
       "  <thead>\n",
       "    <tr style=\"text-align: right;\">\n",
       "      <th>Living Independently</th>\n",
       "      <th>Not_Independent</th>\n",
       "      <th>Independent</th>\n",
       "      <th>cbsafips</th>\n",
       "      <th>GEO.display-label</th>\n",
       "      <th>Median_Rent</th>\n",
       "      <th>Median_Rent_MOE</th>\n",
       "    </tr>\n",
       "  </thead>\n",
       "  <tbody>\n",
       "    <tr>\n",
       "      <th>507</th>\n",
       "      <td>0.297407</td>\n",
       "      <td>0.702593</td>\n",
       "      <td>0</td>\n",
       "      <td>NaN</td>\n",
       "      <td>NaN</td>\n",
       "      <td>NaN</td>\n",
       "    </tr>\n",
       "    <tr>\n",
       "      <th>1</th>\n",
       "      <td>0.500000</td>\n",
       "      <td>0.500000</td>\n",
       "      <td>10180</td>\n",
       "      <td>Abilene, TX Metro Area</td>\n",
       "      <td>814</td>\n",
       "      <td>44</td>\n",
       "    </tr>\n",
       "    <tr>\n",
       "      <th>3</th>\n",
       "      <td>0.341667</td>\n",
       "      <td>0.658333</td>\n",
       "      <td>10420</td>\n",
       "      <td>Akron, OH Metro Area</td>\n",
       "      <td>756</td>\n",
       "      <td>20</td>\n",
       "    </tr>\n",
       "    <tr>\n",
       "      <th>5</th>\n",
       "      <td>0.354167</td>\n",
       "      <td>0.645833</td>\n",
       "      <td>10500</td>\n",
       "      <td>Albany, GA Metro Area</td>\n",
       "      <td>712</td>\n",
       "      <td>22</td>\n",
       "    </tr>\n",
       "    <tr>\n",
       "      <th>7</th>\n",
       "      <td>0.340278</td>\n",
       "      <td>0.659722</td>\n",
       "      <td>10580</td>\n",
       "      <td>Albany-Schenectady-Troy, NY Metro Area</td>\n",
       "      <td>931</td>\n",
       "      <td>16</td>\n",
       "    </tr>\n",
       "  </tbody>\n",
       "</table>\n",
       "</div>"
      ],
      "text/plain": [
       "Living Independently  Not_Independent  Independent  cbsafips  \\\n",
       "507                          0.297407     0.702593         0   \n",
       "1                            0.500000     0.500000     10180   \n",
       "3                            0.341667     0.658333     10420   \n",
       "5                            0.354167     0.645833     10500   \n",
       "7                            0.340278     0.659722     10580   \n",
       "\n",
       "Living Independently                       GEO.display-label  Median_Rent  \\\n",
       "507                                                      NaN          NaN   \n",
       "1                                     Abilene, TX Metro Area          814   \n",
       "3                                       Akron, OH Metro Area          756   \n",
       "5                                      Albany, GA Metro Area          712   \n",
       "7                     Albany-Schenectady-Troy, NY Metro Area          931   \n",
       "\n",
       "Living Independently  Median_Rent_MOE  \n",
       "507                               NaN  \n",
       "1                                  44  \n",
       "3                                  20  \n",
       "5                                  22  \n",
       "7                                  16  "
      ]
     },
     "execution_count": 141,
     "metadata": {},
     "output_type": "execute_result"
    }
   ],
   "source": [
    "df_plot.head()"
   ]
  },
  {
   "cell_type": "code",
   "execution_count": 142,
   "metadata": {
    "collapsed": true
   },
   "outputs": [],
   "source": [
    "df_plot = df_plot[~pd.isnull(df_plot['Median_Rent'])]"
   ]
  },
  {
   "cell_type": "code",
   "execution_count": 143,
   "metadata": {
    "collapsed": false
   },
   "outputs": [
    {
     "data": {
      "text/plain": [
       "<matplotlib.axes._subplots.AxesSubplot at 0x15c0fc610>"
      ]
     },
     "execution_count": 143,
     "metadata": {},
     "output_type": "execute_result"
    },
    {
     "data": {
      "image/png": "[encoded data removed]",
      "text/plain": [
       "<matplotlib.figure.Figure at 0x1146e32d0>"
      ]
     },
     "metadata": {},
     "output_type": "display_data"
    }
   ],
   "source": [
    "df_plot.plot(x='Median_Rent', y= 'Independent', kind='scatter')"
   ]
  },
  {
   "cell_type": "code",
   "execution_count": 144,
   "metadata": {
    "collapsed": false
   },
   "outputs": [
    {
     "data": {
      "text/html": [
       "<div>\n",
       "<table border=\"1\" class=\"dataframe\">\n",
       "  <thead>\n",
       "    <tr style=\"text-align: right;\">\n",
       "      <th>Living Independently</th>\n",
       "      <th>Not_Independent</th>\n",
       "      <th>Independent</th>\n",
       "      <th>cbsafips</th>\n",
       "      <th>GEO.display-label</th>\n",
       "      <th>Median_Rent</th>\n",
       "      <th>Median_Rent_MOE</th>\n",
       "    </tr>\n",
       "  </thead>\n",
       "  <tbody>\n",
       "    <tr>\n",
       "      <th>168</th>\n",
       "      <td>0.857143</td>\n",
       "      <td>0.142857</td>\n",
       "      <td>24140</td>\n",
       "      <td>Goldsboro, NC Metro Area</td>\n",
       "      <td>703</td>\n",
       "      <td>36</td>\n",
       "    </tr>\n",
       "  </tbody>\n",
       "</table>\n",
       "</div>"
      ],
      "text/plain": [
       "Living Independently  Not_Independent  Independent  cbsafips  \\\n",
       "168                          0.857143     0.142857     24140   \n",
       "\n",
       "Living Independently         GEO.display-label  Median_Rent  Median_Rent_MOE  \n",
       "168                   Goldsboro, NC Metro Area          703               36  "
      ]
     },
     "execution_count": 144,
     "metadata": {},
     "output_type": "execute_result"
    }
   ],
   "source": [
    "df_plot[df_plot.Independent < 0.2]"
   ]
  },
  {
   "cell_type": "code",
   "execution_count": 194,
   "metadata": {
    "collapsed": true
   },
   "outputs": [],
   "source": [
    "df_cbsa = df[df.cbsafips == 38900]"
   ]
  },
  {
   "cell_type": "code",
   "execution_count": 195,
   "metadata": {
    "collapsed": false
   },
   "outputs": [
    {
     "data": {
      "text/html": [
       "<div>\n",
       "<table border=\"1\" class=\"dataframe\">\n",
       "  <thead>\n",
       "    <tr style=\"text-align: right;\">\n",
       "      <th></th>\n",
       "      <th>msafips</th>\n",
       "      <th>cbsafips</th>\n",
       "      <th>age</th>\n",
       "      <th>studftpt</th>\n",
       "      <th>schlvl</th>\n",
       "      <th>relref95</th>\n",
       "      <th>Living Independently</th>\n",
       "    </tr>\n",
       "    <tr>\n",
       "      <th>year</th>\n",
       "      <th></th>\n",
       "      <th></th>\n",
       "      <th></th>\n",
       "      <th></th>\n",
       "      <th></th>\n",
       "      <th></th>\n",
       "      <th></th>\n",
       "    </tr>\n",
       "  </thead>\n",
       "  <tbody>\n",
       "    <tr>\n",
       "      <th>2004</th>\n",
       "      <td>0</td>\n",
       "      <td>468</td>\n",
       "      <td>468</td>\n",
       "      <td>21</td>\n",
       "      <td>21</td>\n",
       "      <td>468</td>\n",
       "      <td>468</td>\n",
       "    </tr>\n",
       "    <tr>\n",
       "      <th>2005</th>\n",
       "      <td>0</td>\n",
       "      <td>652</td>\n",
       "      <td>652</td>\n",
       "      <td>28</td>\n",
       "      <td>28</td>\n",
       "      <td>652</td>\n",
       "      <td>652</td>\n",
       "    </tr>\n",
       "    <tr>\n",
       "      <th>2006</th>\n",
       "      <td>0</td>\n",
       "      <td>580</td>\n",
       "      <td>580</td>\n",
       "      <td>34</td>\n",
       "      <td>34</td>\n",
       "      <td>580</td>\n",
       "      <td>580</td>\n",
       "    </tr>\n",
       "    <tr>\n",
       "      <th>2007</th>\n",
       "      <td>0</td>\n",
       "      <td>626</td>\n",
       "      <td>626</td>\n",
       "      <td>37</td>\n",
       "      <td>37</td>\n",
       "      <td>626</td>\n",
       "      <td>626</td>\n",
       "    </tr>\n",
       "    <tr>\n",
       "      <th>2008</th>\n",
       "      <td>0</td>\n",
       "      <td>605</td>\n",
       "      <td>605</td>\n",
       "      <td>20</td>\n",
       "      <td>20</td>\n",
       "      <td>605</td>\n",
       "      <td>605</td>\n",
       "    </tr>\n",
       "    <tr>\n",
       "      <th>2009</th>\n",
       "      <td>0</td>\n",
       "      <td>631</td>\n",
       "      <td>631</td>\n",
       "      <td>22</td>\n",
       "      <td>22</td>\n",
       "      <td>631</td>\n",
       "      <td>631</td>\n",
       "    </tr>\n",
       "    <tr>\n",
       "      <th>2010</th>\n",
       "      <td>0</td>\n",
       "      <td>611</td>\n",
       "      <td>611</td>\n",
       "      <td>39</td>\n",
       "      <td>39</td>\n",
       "      <td>611</td>\n",
       "      <td>611</td>\n",
       "    </tr>\n",
       "    <tr>\n",
       "      <th>2011</th>\n",
       "      <td>0</td>\n",
       "      <td>598</td>\n",
       "      <td>598</td>\n",
       "      <td>28</td>\n",
       "      <td>28</td>\n",
       "      <td>598</td>\n",
       "      <td>598</td>\n",
       "    </tr>\n",
       "    <tr>\n",
       "      <th>2012</th>\n",
       "      <td>0</td>\n",
       "      <td>580</td>\n",
       "      <td>580</td>\n",
       "      <td>32</td>\n",
       "      <td>32</td>\n",
       "      <td>580</td>\n",
       "      <td>580</td>\n",
       "    </tr>\n",
       "    <tr>\n",
       "      <th>2013</th>\n",
       "      <td>0</td>\n",
       "      <td>600</td>\n",
       "      <td>600</td>\n",
       "      <td>83</td>\n",
       "      <td>83</td>\n",
       "      <td>600</td>\n",
       "      <td>600</td>\n",
       "    </tr>\n",
       "    <tr>\n",
       "      <th>2014</th>\n",
       "      <td>0</td>\n",
       "      <td>597</td>\n",
       "      <td>597</td>\n",
       "      <td>87</td>\n",
       "      <td>87</td>\n",
       "      <td>597</td>\n",
       "      <td>597</td>\n",
       "    </tr>\n",
       "    <tr>\n",
       "      <th>2015</th>\n",
       "      <td>0</td>\n",
       "      <td>634</td>\n",
       "      <td>634</td>\n",
       "      <td>75</td>\n",
       "      <td>75</td>\n",
       "      <td>634</td>\n",
       "      <td>634</td>\n",
       "    </tr>\n",
       "  </tbody>\n",
       "</table>\n",
       "</div>"
      ],
      "text/plain": [
       "      msafips  cbsafips  age  studftpt  schlvl  relref95  Living Independently\n",
       "year                                                                          \n",
       "2004        0       468  468        21      21       468                   468\n",
       "2005        0       652  652        28      28       652                   652\n",
       "2006        0       580  580        34      34       580                   580\n",
       "2007        0       626  626        37      37       626                   626\n",
       "2008        0       605  605        20      20       605                   605\n",
       "2009        0       631  631        22      22       631                   631\n",
       "2010        0       611  611        39      39       611                   611\n",
       "2011        0       598  598        28      28       598                   598\n",
       "2012        0       580  580        32      32       580                   580\n",
       "2013        0       600  600        83      83       600                   600\n",
       "2014        0       597  597        87      87       597                   597\n",
       "2015        0       634  634        75      75       634                   634"
      ]
     },
     "execution_count": 195,
     "metadata": {},
     "output_type": "execute_result"
    }
   ],
   "source": [
    "df[df.cbsafips == 38900].groupby('year').count()"
   ]
  },
  {
   "cell_type": "code",
   "execution_count": 196,
   "metadata": {
    "collapsed": false
   },
   "outputs": [],
   "source": [
    "df_plot = pct_pivot(df_cbsa, index=['year'], columns=['Living Independently'])"
   ]
  },
  {
   "cell_type": "code",
   "execution_count": 197,
   "metadata": {
    "collapsed": false
   },
   "outputs": [
    {
     "data": {
      "image/png": "[encoded data removed]",
      "text/plain": [
       "<matplotlib.figure.Figure at 0x112245210>"
      ]
     },
     "metadata": {},
     "output_type": "display_data"
    }
   ],
   "source": [
    "line_chart(df_plot[1], ylim=[0,0.8])"
   ]
  },
  {
   "cell_type": "code",
   "execution_count": 239,
   "metadata": {
    "collapsed": false
   },
   "outputs": [],
   "source": [
    "df_plot = pct_pivot(df, index=['cbsafips', 'year'], columns=['Living Independently'])\n",
    "df_plot = df_plot.unstack(level=0)[1][[41860,35620, 18140, 38900]].rename(columns={41860:'SF/Oakland',\n",
    "                                                                        35620:'NYC',\n",
    "                                                                        18140:'Columbus, OH',\n",
    "                                                                        38900:'Portland, OR'})"
   ]
  },
  {
   "cell_type": "code",
   "execution_count": 240,
   "metadata": {
    "collapsed": false
   },
   "outputs": [
    {
     "data": {
      "image/png": "[encoded data removed]",
      "text/plain": [
       "<matplotlib.figure.Figure at 0x111081590>"
      ]
     },
     "metadata": {},
     "output_type": "display_data"
    }
   ],
   "source": [
    "line_chart(df_plot, #SF/Oakland, NYC, Columbus, Portland\n",
    "           ylim=[0,1],\n",
    "           color='gbrc',\n",
    "          title='% Independent by Year for selected CBSAs, 2004-2015',\n",
    "          filename = 'Selected CBSAs.pdf')"
   ]
  },
  {
   "cell_type": "code",
   "execution_count": 116,
   "metadata": {
    "collapsed": false
   },
   "outputs": [
    {
     "data": {
      "text/plain": [
       "Index([u'year', u'msafips', u'cbsafips', u'age', u'studftpt', u'schlvl',\n",
       "       u'relref95', u'Living Independently'],\n",
       "      dtype='object')"
      ]
     },
     "execution_count": 116,
     "metadata": {},
     "output_type": "execute_result"
    }
   ],
   "source": [
    "df.columns"
   ]
  },
  {
   "cell_type": "code",
   "execution_count": 117,
   "metadata": {
    "collapsed": true
   },
   "outputs": [],
   "source": [
    "def pct_pivot(data, index=['In Sample'], columns=['Living Independently']):\n",
    "    table = pd.pivot_table(data, values='studftpt', index=index, columns=columns,\n",
    "               aggfunc=np.count_nonzero,\n",
    "              margins=True)\n",
    "    table.drop('All', inplace=True)\n",
    "    return table.div( table.iloc[:,-1], axis=0 )"
   ]
  },
  {
   "cell_type": "code",
   "execution_count": 241,
   "metadata": {
    "collapsed": false
   },
   "outputs": [],
   "source": [
    "df_plot = pct_pivot(df, index=['year', 'age'], columns=['Living Independently'])"
   ]
  },
  {
   "cell_type": "code",
   "execution_count": 242,
   "metadata": {
    "collapsed": false
   },
   "outputs": [
    {
     "data": {
      "text/html": [
       "<div>\n",
       "<table border=\"1\" class=\"dataframe\">\n",
       "  <thead>\n",
       "    <tr style=\"text-align: right;\">\n",
       "      <th></th>\n",
       "      <th>Living Independently</th>\n",
       "      <th>0</th>\n",
       "      <th>1</th>\n",
       "      <th>All</th>\n",
       "    </tr>\n",
       "    <tr>\n",
       "      <th>year</th>\n",
       "      <th>age</th>\n",
       "      <th></th>\n",
       "      <th></th>\n",
       "      <th></th>\n",
       "    </tr>\n",
       "  </thead>\n",
       "  <tbody>\n",
       "    <tr>\n",
       "      <th rowspan=\"5\" valign=\"top\">2000</th>\n",
       "      <th>18</th>\n",
       "      <td>0.898737</td>\n",
       "      <td>0.101263</td>\n",
       "      <td>1</td>\n",
       "    </tr>\n",
       "    <tr>\n",
       "      <th>19</th>\n",
       "      <td>0.752355</td>\n",
       "      <td>0.247645</td>\n",
       "      <td>1</td>\n",
       "    </tr>\n",
       "    <tr>\n",
       "      <th>20</th>\n",
       "      <td>0.626037</td>\n",
       "      <td>0.373963</td>\n",
       "      <td>1</td>\n",
       "    </tr>\n",
       "    <tr>\n",
       "      <th>21</th>\n",
       "      <td>0.523211</td>\n",
       "      <td>0.476789</td>\n",
       "      <td>1</td>\n",
       "    </tr>\n",
       "    <tr>\n",
       "      <th>22</th>\n",
       "      <td>0.439115</td>\n",
       "      <td>0.560885</td>\n",
       "      <td>1</td>\n",
       "    </tr>\n",
       "  </tbody>\n",
       "</table>\n",
       "</div>"
      ],
      "text/plain": [
       "Living Independently         0         1  All\n",
       "year age                                     \n",
       "2000 18               0.898737  0.101263    1\n",
       "     19               0.752355  0.247645    1\n",
       "     20               0.626037  0.373963    1\n",
       "     21               0.523211  0.476789    1\n",
       "     22               0.439115  0.560885    1"
      ]
     },
     "execution_count": 242,
     "metadata": {},
     "output_type": "execute_result"
    }
   ],
   "source": [
    "df_plot.head()"
   ]
  },
  {
   "cell_type": "code",
   "execution_count": 243,
   "metadata": {
    "collapsed": false
   },
   "outputs": [
    {
     "data": {
      "image/png": "[encoded data removed]",
      "text/plain": [
       "<matplotlib.figure.Figure at 0x10f5a1190>"
      ]
     },
     "metadata": {},
     "output_type": "display_data"
    }
   ],
   "source": [
    "line_chart(df_plot.unstack(level=0)[1][[2000,2009,2014]],\n",
    "           ylim=[0,1], color='rbk',\n",
    "           title='% Living Independently By Age, Sample Years',\n",
    "          filename='Age Distributions.pdf')"
   ]
  },
  {
   "cell_type": "markdown",
   "metadata": {},
   "source": [
    "Next steps:\n",
    "- discrete choice models?\n",
    "- Regresions on other variables?\n",
    "- trends for specific CBSA's over time?"
   ]
  },
  {
   "cell_type": "markdown",
   "metadata": {},
   "source": [
    "To have for Tuesday:\n",
    "- National graph\n",
    "- Trends - Bay Area Graph, NY, Columbus, Portland (Selected)\n",
    "- Scatter plots (2014) - Median Rent\n",
    "- Line graph of age, 2014 (if possible, over time)\n",
    "\n",
    "For presentation: what are potential next steps?\n",
    "- Weak trends overall\n",
    "- Will consider a discrete choice model of choice factors"
   ]
  },
  {
   "cell_type": "markdown",
   "metadata": {},
   "source": [
    "Sample code from http://statsmodels.sourceforge.net/stable/examples/notebooks/generated/discrete_choice_example.html"
   ]
  },
  {
   "cell_type": "code",
   "execution_count": null,
   "metadata": {
    "collapsed": true
   },
   "outputs": [],
   "source": [
    "for column in ['Time1', 'Time2']:\n",
    "    df = df[df[column] <> 9999]"
   ]
  },
  {
   "cell_type": "code",
   "execution_count": null,
   "metadata": {
    "collapsed": true
   },
   "outputs": [],
   "source": [
    "from __future__ import print_function\n",
    "import numpy as np\n",
    "from scipy import stats\n",
    "#import matplotlib.pyplot as plt\n",
    "import statsmodels.api as sm\n",
    "from statsmodels.formula.api import logit, probit, poisson, ols\n",
    "\n",
    "\n",
    "affair_mod = logit(\"affair ~ occupation + educ + occupation_husb\"\n",
    "                   \"+ rate_marriage + age + yrs_married + children\"\n",
    "                   \" + religious\", dta).fit()\n",
    "\n",
    "print(affair_mod.summary())"
   ]
  }
 ],
 "metadata": {
  "kernelspec": {
   "display_name": "Python 2",
   "language": "python",
   "name": "python2"
  },
  "language_info": {
   "codemirror_mode": {
    "name": "ipython",
    "version": 2
   },
   "file_extension": ".py",
   "mimetype": "text/x-python",
   "name": "python",
   "nbconvert_exporter": "python",
   "pygments_lexer": "ipython2",
   "version": "2.7.10"
  }
 },
 "nbformat": 4,
 "nbformat_minor": 0
}

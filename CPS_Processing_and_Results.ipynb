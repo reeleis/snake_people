{
 "cells": [
  {
   "cell_type": "code",
   "execution_count": 1,
   "metadata": {
    "collapsed": true
   },
   "outputs": [],
   "source": [
    "import pandas as pd\n",
    "import numpy as np\n",
    "import os, fnmatch\n",
    "import matplotlib\n",
    "import matplotlib.pyplot as plt\n",
    "import matplotlib.cm as cm, matplotlib.font_manager as fm\n",
    "from matplotlib.ticker import FuncFormatter\n",
    "%matplotlib inline"
   ]
  },
  {
   "cell_type": "code",
   "execution_count": 2,
   "metadata": {
    "collapsed": true
   },
   "outputs": [],
   "source": [
    "def in_sample(data):\n",
    "    #In sample if between 18 and 34 AND (not in college or not full time)\n",
    "#     if row['age'] >= 18 and row['age'] < 35 and not (row['age'] < 25 and (row['schlvl'] == 2 and row['studftpt'] == 1)):\n",
    "#         return 1\n",
    "#     else:\n",
    "#         return 0\n",
    "    return ((data['age'] >= 18) & (data['age'] < 35) & ~((data['age'] < 25) & ((data['schlvl'] == 2) & (data['studftpt'] == 1)))).apply(lambda x: 1 if x else 0)"
   ]
  },
  {
   "cell_type": "code",
   "execution_count": 3,
   "metadata": {
    "collapsed": true
   },
   "outputs": [],
   "source": [
    "def independently(data):\n",
    "    #if row['relref95'] in [1, 2, 3, 10, 12, 13, 14, 15, 16, 17 , 18]:\n",
    "#     if row['relref95'] in [1, 2, 3, 13, 14, 15, 16, 17 , 18]:\n",
    "#         return 1\n",
    "#     else:\n",
    "#         return 0\n",
    "\n",
    "#     if 'relref95' in data.columns.tolist():\n",
    "#         return data['relref95'].isin([1, 2, 3, 13, 14, 15, 16, 17 , 18]).apply(lambda x: 1 if x else 0)\n",
    "#     elif 'relref94' in data.columns.tolist():\n",
    "#         return data['relref94'].isin([1, 2, 3, 11]).apply(lambda x: 1 if x else 0)\n",
    "#     elif 'relaref' in data.columns.tolist():\n",
    "#         return data['relaref'].isin([1, 2, 3, 4, 9, 10]).apply(lambda x: 1 if x else 0)\n",
    "#     else:\n",
    "#         print \"No relationship column found\"\n",
    "#         return np.nan\n",
    "    return (data['relref95'].isin([1, 2, 3, 12, 13, 14, 15, 16, 17 , 18]) |\n",
    "     data['relref94'].isin([1, 2, 3, 11, 12]) |\n",
    "     data['relaref'].isin([1, 2, 3, 4, 10])).apply(lambda x: 1 if x else 0)"
   ]
  },
  {
   "cell_type": "code",
   "execution_count": 4,
   "metadata": {
    "collapsed": true
   },
   "outputs": [],
   "source": [
    "root = '/Users/Lee/Documents/jupyter/notebooks/CP207/CPS Data'\n",
    "#Get all of the cost reports\n",
    "matches = []\n",
    "for root, dirnames, filenames in os.walk(root):\n",
    "  for filename in fnmatch.filter(filenames, '*.dta'):\n",
    "    matches.append(os.path.join(root, filename))"
   ]
  },
  {
   "cell_type": "code",
   "execution_count": 15,
   "metadata": {
    "collapsed": false
   },
   "outputs": [
    {
     "data": {
      "text/plain": [
       "26"
      ]
     },
     "execution_count": 15,
     "metadata": {},
     "output_type": "execute_result"
    }
   ],
   "source": [
    "len(matches)"
   ]
  },
  {
   "cell_type": "code",
   "execution_count": null,
   "metadata": {
    "collapsed": true
   },
   "outputs": [],
   "source": [
    "#df = pd.read_stata('CPS Data/2015/cpsmar2015.dta', convert_categoricals = False)"
   ]
  },
  {
   "cell_type": "markdown",
   "metadata": {},
   "source": [
    "### CBSAs look like they are available for 2005 onwards for all entries; CMSA might be available for all time"
   ]
  },
  {
   "cell_type": "code",
   "execution_count": 4,
   "metadata": {
    "collapsed": true
   },
   "outputs": [],
   "source": [
    "columns_to_keep = ['year', 'msafips', 'cbsafips', 'age', 'studftpt', 'schlvl', 'relref95', 'relref94', 'relaref']"
   ]
  },
  {
   "cell_type": "code",
   "execution_count": 10,
   "metadata": {
    "collapsed": true
   },
   "outputs": [],
   "source": [
    "def process_CPS_file(path, limit_columns=True):\n",
    "    print 'Processing {}'.format(path)\n",
    "    df_in = pd.read_stata(path, convert_categoricals = False) #, columns=columns_to_keep)\n",
    "    if limit_columns:\n",
    "        keep = [c for c in df_in.columns.tolist() if c in columns_to_keep]\n",
    "        df_in = df_in[keep]\n",
    "    df_in['In Sample'] = in_sample(df_in)\n",
    "    df_in = df_in[df_in['In Sample'] == 1]\n",
    "    return df_in"
   ]
  },
  {
   "cell_type": "code",
   "execution_count": 6,
   "metadata": {
    "collapsed": true
   },
   "outputs": [],
   "source": [
    "#df = pd.read_pickle('imported_df_1990-2015.pickle')"
   ]
  },
  {
   "cell_type": "code",
   "execution_count": 15,
   "metadata": {
    "collapsed": false,
    "scrolled": true
   },
   "outputs": [
    {
     "name": "stdout",
     "output_type": "stream",
     "text": [
      "Processing /Users/Lee/Documents/jupyter/notebooks/CP207/CPS Data/morg00.dta\n",
      "Processing /Users/Lee/Documents/jupyter/notebooks/CP207/CPS Data/morg01.dta\n",
      "Processing /Users/Lee/Documents/jupyter/notebooks/CP207/CPS Data/morg02.dta\n",
      "Processing /Users/Lee/Documents/jupyter/notebooks/CP207/CPS Data/morg03.dta\n",
      "Processing /Users/Lee/Documents/jupyter/notebooks/CP207/CPS Data/morg04.dta\n",
      "Processing /Users/Lee/Documents/jupyter/notebooks/CP207/CPS Data/morg05.dta\n",
      "Processing /Users/Lee/Documents/jupyter/notebooks/CP207/CPS Data/morg06.dta\n",
      "Processing /Users/Lee/Documents/jupyter/notebooks/CP207/CPS Data/morg07.dta\n",
      "Processing /Users/Lee/Documents/jupyter/notebooks/CP207/CPS Data/morg08.dta\n",
      "Processing /Users/Lee/Documents/jupyter/notebooks/CP207/CPS Data/morg09.dta\n",
      "Processing /Users/Lee/Documents/jupyter/notebooks/CP207/CPS Data/morg10.dta\n",
      "Processing /Users/Lee/Documents/jupyter/notebooks/CP207/CPS Data/morg11.dta\n",
      "Processing /Users/Lee/Documents/jupyter/notebooks/CP207/CPS Data/morg12.dta\n",
      "Processing /Users/Lee/Documents/jupyter/notebooks/CP207/CPS Data/morg13.dta\n",
      "Processing /Users/Lee/Documents/jupyter/notebooks/CP207/CPS Data/morg14.dta\n",
      "Processing /Users/Lee/Documents/jupyter/notebooks/CP207/CPS Data/morg15.dta\n",
      "Processing /Users/Lee/Documents/jupyter/notebooks/CP207/CPS Data/morg90.dta\n",
      "Processing /Users/Lee/Documents/jupyter/notebooks/CP207/CPS Data/morg91.dta\n",
      "Processing /Users/Lee/Documents/jupyter/notebooks/CP207/CPS Data/morg92.dta\n",
      "Processing /Users/Lee/Documents/jupyter/notebooks/CP207/CPS Data/morg93.dta\n",
      "Processing /Users/Lee/Documents/jupyter/notebooks/CP207/CPS Data/morg94.dta\n",
      "Processing /Users/Lee/Documents/jupyter/notebooks/CP207/CPS Data/morg95.dta\n",
      "Processing /Users/Lee/Documents/jupyter/notebooks/CP207/CPS Data/morg96.dta\n",
      "Processing /Users/Lee/Documents/jupyter/notebooks/CP207/CPS Data/morg97.dta\n",
      "Processing /Users/Lee/Documents/jupyter/notebooks/CP207/CPS Data/morg98.dta\n",
      "Processing /Users/Lee/Documents/jupyter/notebooks/CP207/CPS Data/morg99.dta\n"
     ]
    }
   ],
   "source": [
    "df = pd.DataFrame()\n",
    "for item in matches:\n",
    "    if not df.empty:\n",
    "        df = df.append(process_CPS_file(item))\n",
    "    else:\n",
    "        df = process_CPS_file(item)"
   ]
  },
  {
   "cell_type": "code",
   "execution_count": 40,
   "metadata": {
    "collapsed": false
   },
   "outputs": [
    {
     "data": {
      "text/plain": [
       "2130010"
      ]
     },
     "execution_count": 40,
     "metadata": {},
     "output_type": "execute_result"
    }
   ],
   "source": [
    "len(df)"
   ]
  },
  {
   "cell_type": "code",
   "execution_count": 41,
   "metadata": {
    "collapsed": false
   },
   "outputs": [
    {
     "data": {
      "text/html": [
       "<div>\n",
       "<table border=\"1\" class=\"dataframe\">\n",
       "  <thead>\n",
       "    <tr style=\"text-align: right;\">\n",
       "      <th></th>\n",
       "      <th>In Sample</th>\n",
       "      <th>age</th>\n",
       "      <th>cbsafips</th>\n",
       "      <th>msafips</th>\n",
       "      <th>relaref</th>\n",
       "      <th>relref94</th>\n",
       "      <th>relref95</th>\n",
       "      <th>schlvl</th>\n",
       "      <th>studftpt</th>\n",
       "      <th>year</th>\n",
       "    </tr>\n",
       "  </thead>\n",
       "  <tbody>\n",
       "    <tr>\n",
       "      <th>2</th>\n",
       "      <td>1</td>\n",
       "      <td>27</td>\n",
       "      <td>NaN</td>\n",
       "      <td>5160</td>\n",
       "      <td>NaN</td>\n",
       "      <td>NaN</td>\n",
       "      <td>1</td>\n",
       "      <td>NaN</td>\n",
       "      <td>NaN</td>\n",
       "      <td>2000</td>\n",
       "    </tr>\n",
       "    <tr>\n",
       "      <th>3</th>\n",
       "      <td>1</td>\n",
       "      <td>21</td>\n",
       "      <td>NaN</td>\n",
       "      <td>5160</td>\n",
       "      <td>NaN</td>\n",
       "      <td>NaN</td>\n",
       "      <td>1</td>\n",
       "      <td>2</td>\n",
       "      <td>2</td>\n",
       "      <td>2000</td>\n",
       "    </tr>\n",
       "    <tr>\n",
       "      <th>7</th>\n",
       "      <td>1</td>\n",
       "      <td>33</td>\n",
       "      <td>NaN</td>\n",
       "      <td>5240</td>\n",
       "      <td>NaN</td>\n",
       "      <td>NaN</td>\n",
       "      <td>2</td>\n",
       "      <td>NaN</td>\n",
       "      <td>NaN</td>\n",
       "      <td>2000</td>\n",
       "    </tr>\n",
       "    <tr>\n",
       "      <th>13</th>\n",
       "      <td>1</td>\n",
       "      <td>20</td>\n",
       "      <td>NaN</td>\n",
       "      <td>5240</td>\n",
       "      <td>NaN</td>\n",
       "      <td>NaN</td>\n",
       "      <td>4</td>\n",
       "      <td>NaN</td>\n",
       "      <td>NaN</td>\n",
       "      <td>2000</td>\n",
       "    </tr>\n",
       "    <tr>\n",
       "      <th>14</th>\n",
       "      <td>1</td>\n",
       "      <td>21</td>\n",
       "      <td>NaN</td>\n",
       "      <td>5240</td>\n",
       "      <td>NaN</td>\n",
       "      <td>NaN</td>\n",
       "      <td>4</td>\n",
       "      <td>NaN</td>\n",
       "      <td>NaN</td>\n",
       "      <td>2000</td>\n",
       "    </tr>\n",
       "  </tbody>\n",
       "</table>\n",
       "</div>"
      ],
      "text/plain": [
       "    In Sample  age  cbsafips  msafips  relaref  relref94  relref95  schlvl  \\\n",
       "2           1   27       NaN     5160      NaN       NaN         1     NaN   \n",
       "3           1   21       NaN     5160      NaN       NaN         1       2   \n",
       "7           1   33       NaN     5240      NaN       NaN         2     NaN   \n",
       "13          1   20       NaN     5240      NaN       NaN         4     NaN   \n",
       "14          1   21       NaN     5240      NaN       NaN         4     NaN   \n",
       "\n",
       "    studftpt  year  \n",
       "2        NaN  2000  \n",
       "3          2  2000  \n",
       "7        NaN  2000  \n",
       "13       NaN  2000  \n",
       "14       NaN  2000  "
      ]
     },
     "execution_count": 41,
     "metadata": {},
     "output_type": "execute_result"
    }
   ],
   "source": [
    "df.head()"
   ]
  },
  {
   "cell_type": "code",
   "execution_count": 16,
   "metadata": {
    "collapsed": true
   },
   "outputs": [],
   "source": [
    "#df.to_pickle('imported_df_1990-2015.pickle')"
   ]
  },
  {
   "cell_type": "code",
   "execution_count": 140,
   "metadata": {
    "collapsed": true
   },
   "outputs": [],
   "source": [
    "#df.to_pickle('imported_df.pickle')"
   ]
  },
  {
   "cell_type": "code",
   "execution_count": 7,
   "metadata": {
    "collapsed": true
   },
   "outputs": [],
   "source": [
    "def millenial(data):\n",
    "    return ((data['age'] >= 18) & (data['age'] < 35) & ~((data['age'] < 25))).apply(lambda x: 1 if x else 0)"
   ]
  },
  {
   "cell_type": "code",
   "execution_count": 8,
   "metadata": {
    "collapsed": true
   },
   "outputs": [],
   "source": [
    "def pct_pivot(data, index=['In Sample'], columns=['Living Independently']):\n",
    "    table = pd.pivot_table(data, values='age', index=index, columns=columns,\n",
    "               aggfunc=np.count_nonzero,\n",
    "              margins=True)\n",
    "    table.drop('All', inplace=True)\n",
    "    return table.div( table.iloc[:,-1], axis=0 )"
   ]
  },
  {
   "cell_type": "code",
   "execution_count": 9,
   "metadata": {
    "collapsed": false
   },
   "outputs": [
    {
     "data": {
      "text/plain": [
       "['msafips']"
      ]
     },
     "execution_count": 9,
     "metadata": {},
     "output_type": "execute_result"
    }
   ],
   "source": [
    "[item for item in df.columns.tolist() if 'msa' in item]"
   ]
  },
  {
   "cell_type": "code",
   "execution_count": 10,
   "metadata": {
    "collapsed": false
   },
   "outputs": [],
   "source": [
    "df = df[columns_to_keep]"
   ]
  },
  {
   "cell_type": "code",
   "execution_count": 11,
   "metadata": {
    "collapsed": false
   },
   "outputs": [
    {
     "data": {
      "text/plain": [
       "2130010"
      ]
     },
     "execution_count": 11,
     "metadata": {},
     "output_type": "execute_result"
    }
   ],
   "source": [
    "len(df)"
   ]
  },
  {
   "cell_type": "code",
   "execution_count": 12,
   "metadata": {
    "collapsed": false
   },
   "outputs": [],
   "source": [
    "df['Living Independently'] = independently(df)"
   ]
  },
  {
   "cell_type": "code",
   "execution_count": 20,
   "metadata": {
    "collapsed": false
   },
   "outputs": [
    {
     "data": {
      "text/plain": [
       "Index([u'year', u'msafips', u'cbsafips', u'age', u'studftpt', u'schlvl',\n",
       "       u'relref95', u'Living Independently'],\n",
       "      dtype='object')"
      ]
     },
     "execution_count": 20,
     "metadata": {},
     "output_type": "execute_result"
    }
   ],
   "source": [
    "df.columns"
   ]
  },
  {
   "cell_type": "code",
   "execution_count": 13,
   "metadata": {
    "collapsed": false
   },
   "outputs": [
    {
     "data": {
      "text/html": [
       "<div>\n",
       "<table border=\"1\" class=\"dataframe\">\n",
       "  <thead>\n",
       "    <tr style=\"text-align: right;\">\n",
       "      <th>Living Independently</th>\n",
       "      <th>0</th>\n",
       "      <th>1</th>\n",
       "      <th>All</th>\n",
       "    </tr>\n",
       "    <tr>\n",
       "      <th>year</th>\n",
       "      <th></th>\n",
       "      <th></th>\n",
       "      <th></th>\n",
       "    </tr>\n",
       "  </thead>\n",
       "  <tbody>\n",
       "    <tr>\n",
       "      <th>1990</th>\n",
       "      <td>0.266897</td>\n",
       "      <td>0.733103</td>\n",
       "      <td>1</td>\n",
       "    </tr>\n",
       "    <tr>\n",
       "      <th>1991</th>\n",
       "      <td>0.270122</td>\n",
       "      <td>0.729878</td>\n",
       "      <td>1</td>\n",
       "    </tr>\n",
       "    <tr>\n",
       "      <th>1992</th>\n",
       "      <td>0.271314</td>\n",
       "      <td>0.728686</td>\n",
       "      <td>1</td>\n",
       "    </tr>\n",
       "    <tr>\n",
       "      <th>1993</th>\n",
       "      <td>0.268323</td>\n",
       "      <td>0.731677</td>\n",
       "      <td>1</td>\n",
       "    </tr>\n",
       "    <tr>\n",
       "      <th>1994</th>\n",
       "      <td>0.273185</td>\n",
       "      <td>0.726815</td>\n",
       "      <td>1</td>\n",
       "    </tr>\n",
       "    <tr>\n",
       "      <th>1995</th>\n",
       "      <td>0.265632</td>\n",
       "      <td>0.734368</td>\n",
       "      <td>1</td>\n",
       "    </tr>\n",
       "    <tr>\n",
       "      <th>1996</th>\n",
       "      <td>0.261041</td>\n",
       "      <td>0.738959</td>\n",
       "      <td>1</td>\n",
       "    </tr>\n",
       "    <tr>\n",
       "      <th>1997</th>\n",
       "      <td>0.263203</td>\n",
       "      <td>0.736797</td>\n",
       "      <td>1</td>\n",
       "    </tr>\n",
       "    <tr>\n",
       "      <th>1998</th>\n",
       "      <td>0.262806</td>\n",
       "      <td>0.737194</td>\n",
       "      <td>1</td>\n",
       "    </tr>\n",
       "    <tr>\n",
       "      <th>1999</th>\n",
       "      <td>0.266320</td>\n",
       "      <td>0.733680</td>\n",
       "      <td>1</td>\n",
       "    </tr>\n",
       "    <tr>\n",
       "      <th>2000</th>\n",
       "      <td>0.268168</td>\n",
       "      <td>0.731832</td>\n",
       "      <td>1</td>\n",
       "    </tr>\n",
       "    <tr>\n",
       "      <th>2001</th>\n",
       "      <td>0.266333</td>\n",
       "      <td>0.733667</td>\n",
       "      <td>1</td>\n",
       "    </tr>\n",
       "    <tr>\n",
       "      <th>2002</th>\n",
       "      <td>0.260170</td>\n",
       "      <td>0.739830</td>\n",
       "      <td>1</td>\n",
       "    </tr>\n",
       "    <tr>\n",
       "      <th>2003</th>\n",
       "      <td>0.268169</td>\n",
       "      <td>0.731831</td>\n",
       "      <td>1</td>\n",
       "    </tr>\n",
       "    <tr>\n",
       "      <th>2004</th>\n",
       "      <td>0.268058</td>\n",
       "      <td>0.731942</td>\n",
       "      <td>1</td>\n",
       "    </tr>\n",
       "    <tr>\n",
       "      <th>2005</th>\n",
       "      <td>0.269885</td>\n",
       "      <td>0.730115</td>\n",
       "      <td>1</td>\n",
       "    </tr>\n",
       "    <tr>\n",
       "      <th>2006</th>\n",
       "      <td>0.272065</td>\n",
       "      <td>0.727935</td>\n",
       "      <td>1</td>\n",
       "    </tr>\n",
       "    <tr>\n",
       "      <th>2007</th>\n",
       "      <td>0.275435</td>\n",
       "      <td>0.724565</td>\n",
       "      <td>1</td>\n",
       "    </tr>\n",
       "    <tr>\n",
       "      <th>2008</th>\n",
       "      <td>0.284508</td>\n",
       "      <td>0.715492</td>\n",
       "      <td>1</td>\n",
       "    </tr>\n",
       "    <tr>\n",
       "      <th>2009</th>\n",
       "      <td>0.292908</td>\n",
       "      <td>0.707092</td>\n",
       "      <td>1</td>\n",
       "    </tr>\n",
       "    <tr>\n",
       "      <th>2010</th>\n",
       "      <td>0.297387</td>\n",
       "      <td>0.702613</td>\n",
       "      <td>1</td>\n",
       "    </tr>\n",
       "    <tr>\n",
       "      <th>2011</th>\n",
       "      <td>0.304265</td>\n",
       "      <td>0.695735</td>\n",
       "      <td>1</td>\n",
       "    </tr>\n",
       "    <tr>\n",
       "      <th>2012</th>\n",
       "      <td>0.304299</td>\n",
       "      <td>0.695701</td>\n",
       "      <td>1</td>\n",
       "    </tr>\n",
       "    <tr>\n",
       "      <th>2013</th>\n",
       "      <td>0.311907</td>\n",
       "      <td>0.688093</td>\n",
       "      <td>1</td>\n",
       "    </tr>\n",
       "    <tr>\n",
       "      <th>2014</th>\n",
       "      <td>0.312062</td>\n",
       "      <td>0.687938</td>\n",
       "      <td>1</td>\n",
       "    </tr>\n",
       "    <tr>\n",
       "      <th>2015</th>\n",
       "      <td>0.311942</td>\n",
       "      <td>0.688058</td>\n",
       "      <td>1</td>\n",
       "    </tr>\n",
       "  </tbody>\n",
       "</table>\n",
       "</div>"
      ],
      "text/plain": [
       "Living Independently         0         1  All\n",
       "year                                         \n",
       "1990                  0.266897  0.733103    1\n",
       "1991                  0.270122  0.729878    1\n",
       "1992                  0.271314  0.728686    1\n",
       "1993                  0.268323  0.731677    1\n",
       "1994                  0.273185  0.726815    1\n",
       "1995                  0.265632  0.734368    1\n",
       "1996                  0.261041  0.738959    1\n",
       "1997                  0.263203  0.736797    1\n",
       "1998                  0.262806  0.737194    1\n",
       "1999                  0.266320  0.733680    1\n",
       "2000                  0.268168  0.731832    1\n",
       "2001                  0.266333  0.733667    1\n",
       "2002                  0.260170  0.739830    1\n",
       "2003                  0.268169  0.731831    1\n",
       "2004                  0.268058  0.731942    1\n",
       "2005                  0.269885  0.730115    1\n",
       "2006                  0.272065  0.727935    1\n",
       "2007                  0.275435  0.724565    1\n",
       "2008                  0.284508  0.715492    1\n",
       "2009                  0.292908  0.707092    1\n",
       "2010                  0.297387  0.702613    1\n",
       "2011                  0.304265  0.695735    1\n",
       "2012                  0.304299  0.695701    1\n",
       "2013                  0.311907  0.688093    1\n",
       "2014                  0.312062  0.687938    1\n",
       "2015                  0.311942  0.688058    1"
      ]
     },
     "execution_count": 13,
     "metadata": {},
     "output_type": "execute_result"
    }
   ],
   "source": [
    "pct_pivot(df, index=['year'], columns=['Living Independently'])"
   ]
  },
  {
   "cell_type": "code",
   "execution_count": 63,
   "metadata": {
    "collapsed": false
   },
   "outputs": [
    {
     "data": {
      "text/html": [
       "<div>\n",
       "<table border=\"1\" class=\"dataframe\">\n",
       "  <thead>\n",
       "    <tr style=\"text-align: right;\">\n",
       "      <th>Living Independently</th>\n",
       "      <th>0</th>\n",
       "      <th>1</th>\n",
       "      <th>All</th>\n",
       "    </tr>\n",
       "    <tr>\n",
       "      <th>year</th>\n",
       "      <th></th>\n",
       "      <th></th>\n",
       "      <th></th>\n",
       "    </tr>\n",
       "  </thead>\n",
       "  <tbody>\n",
       "    <tr>\n",
       "      <th>1990</th>\n",
       "      <td>29174</td>\n",
       "      <td>80134</td>\n",
       "      <td>109308</td>\n",
       "    </tr>\n",
       "    <tr>\n",
       "      <th>1991</th>\n",
       "      <td>28630</td>\n",
       "      <td>77359</td>\n",
       "      <td>105989</td>\n",
       "    </tr>\n",
       "    <tr>\n",
       "      <th>1992</th>\n",
       "      <td>27546</td>\n",
       "      <td>73982</td>\n",
       "      <td>101528</td>\n",
       "    </tr>\n",
       "    <tr>\n",
       "      <th>1993</th>\n",
       "      <td>26316</td>\n",
       "      <td>71760</td>\n",
       "      <td>98076</td>\n",
       "    </tr>\n",
       "    <tr>\n",
       "      <th>1994</th>\n",
       "      <td>25339</td>\n",
       "      <td>67415</td>\n",
       "      <td>92754</td>\n",
       "    </tr>\n",
       "    <tr>\n",
       "      <th>1995</th>\n",
       "      <td>23794</td>\n",
       "      <td>65781</td>\n",
       "      <td>89575</td>\n",
       "    </tr>\n",
       "    <tr>\n",
       "      <th>1996</th>\n",
       "      <td>20180</td>\n",
       "      <td>57126</td>\n",
       "      <td>77306</td>\n",
       "    </tr>\n",
       "    <tr>\n",
       "      <th>1997</th>\n",
       "      <td>20185</td>\n",
       "      <td>56505</td>\n",
       "      <td>76690</td>\n",
       "    </tr>\n",
       "    <tr>\n",
       "      <th>1998</th>\n",
       "      <td>19630</td>\n",
       "      <td>55064</td>\n",
       "      <td>74694</td>\n",
       "    </tr>\n",
       "    <tr>\n",
       "      <th>1999</th>\n",
       "      <td>19570</td>\n",
       "      <td>53913</td>\n",
       "      <td>73483</td>\n",
       "    </tr>\n",
       "    <tr>\n",
       "      <th>2000</th>\n",
       "      <td>19709</td>\n",
       "      <td>53786</td>\n",
       "      <td>73495</td>\n",
       "    </tr>\n",
       "    <tr>\n",
       "      <th>2001</th>\n",
       "      <td>20513</td>\n",
       "      <td>56507</td>\n",
       "      <td>77020</td>\n",
       "    </tr>\n",
       "    <tr>\n",
       "      <th>2002</th>\n",
       "      <td>21456</td>\n",
       "      <td>61013</td>\n",
       "      <td>82469</td>\n",
       "    </tr>\n",
       "    <tr>\n",
       "      <th>2003</th>\n",
       "      <td>21811</td>\n",
       "      <td>59522</td>\n",
       "      <td>81333</td>\n",
       "    </tr>\n",
       "    <tr>\n",
       "      <th>2004</th>\n",
       "      <td>21268</td>\n",
       "      <td>58073</td>\n",
       "      <td>79341</td>\n",
       "    </tr>\n",
       "    <tr>\n",
       "      <th>2005</th>\n",
       "      <td>21305</td>\n",
       "      <td>57636</td>\n",
       "      <td>78941</td>\n",
       "    </tr>\n",
       "    <tr>\n",
       "      <th>2006</th>\n",
       "      <td>21035</td>\n",
       "      <td>56281</td>\n",
       "      <td>77316</td>\n",
       "    </tr>\n",
       "    <tr>\n",
       "      <th>2007</th>\n",
       "      <td>20905</td>\n",
       "      <td>54993</td>\n",
       "      <td>75898</td>\n",
       "    </tr>\n",
       "    <tr>\n",
       "      <th>2008</th>\n",
       "      <td>21566</td>\n",
       "      <td>54235</td>\n",
       "      <td>75801</td>\n",
       "    </tr>\n",
       "    <tr>\n",
       "      <th>2009</th>\n",
       "      <td>22534</td>\n",
       "      <td>54398</td>\n",
       "      <td>76932</td>\n",
       "    </tr>\n",
       "    <tr>\n",
       "      <th>2010</th>\n",
       "      <td>23002</td>\n",
       "      <td>54345</td>\n",
       "      <td>77347</td>\n",
       "    </tr>\n",
       "    <tr>\n",
       "      <th>2011</th>\n",
       "      <td>23202</td>\n",
       "      <td>53054</td>\n",
       "      <td>76256</td>\n",
       "    </tr>\n",
       "    <tr>\n",
       "      <th>2012</th>\n",
       "      <td>22813</td>\n",
       "      <td>52156</td>\n",
       "      <td>74969</td>\n",
       "    </tr>\n",
       "    <tr>\n",
       "      <th>2013</th>\n",
       "      <td>23238</td>\n",
       "      <td>51265</td>\n",
       "      <td>74503</td>\n",
       "    </tr>\n",
       "    <tr>\n",
       "      <th>2014</th>\n",
       "      <td>23444</td>\n",
       "      <td>51682</td>\n",
       "      <td>75126</td>\n",
       "    </tr>\n",
       "    <tr>\n",
       "      <th>2015</th>\n",
       "      <td>23040</td>\n",
       "      <td>50820</td>\n",
       "      <td>73860</td>\n",
       "    </tr>\n",
       "    <tr>\n",
       "      <th>All</th>\n",
       "      <td>591205</td>\n",
       "      <td>1538805</td>\n",
       "      <td>2130010</td>\n",
       "    </tr>\n",
       "  </tbody>\n",
       "</table>\n",
       "</div>"
      ],
      "text/plain": [
       "Living Independently       0        1      All\n",
       "year                                          \n",
       "1990                   29174    80134   109308\n",
       "1991                   28630    77359   105989\n",
       "1992                   27546    73982   101528\n",
       "1993                   26316    71760    98076\n",
       "1994                   25339    67415    92754\n",
       "1995                   23794    65781    89575\n",
       "1996                   20180    57126    77306\n",
       "1997                   20185    56505    76690\n",
       "1998                   19630    55064    74694\n",
       "1999                   19570    53913    73483\n",
       "2000                   19709    53786    73495\n",
       "2001                   20513    56507    77020\n",
       "2002                   21456    61013    82469\n",
       "2003                   21811    59522    81333\n",
       "2004                   21268    58073    79341\n",
       "2005                   21305    57636    78941\n",
       "2006                   21035    56281    77316\n",
       "2007                   20905    54993    75898\n",
       "2008                   21566    54235    75801\n",
       "2009                   22534    54398    76932\n",
       "2010                   23002    54345    77347\n",
       "2011                   23202    53054    76256\n",
       "2012                   22813    52156    74969\n",
       "2013                   23238    51265    74503\n",
       "2014                   23444    51682    75126\n",
       "2015                   23040    50820    73860\n",
       "All                   591205  1538805  2130010"
      ]
     },
     "execution_count": 63,
     "metadata": {},
     "output_type": "execute_result"
    }
   ],
   "source": [
    "pd.pivot_table(df, values='age', index=['year'], columns=['Living Independently'],\n",
    "               aggfunc=np.count_nonzero,\n",
    "              margins=True)"
   ]
  },
  {
   "cell_type": "code",
   "execution_count": 27,
   "metadata": {
    "collapsed": false
   },
   "outputs": [],
   "source": [
    "# define the font styles\n",
    "title_font = fm.FontProperties(family='Bitstream Vera Sans', style='normal', size=15, weight='normal', stretch='normal')\n",
    "label_font = fm.FontProperties(family='Bitstream Vera Sans', style='normal', size=12, weight='normal', stretch='normal')\n",
    "ticks_font = fm.FontProperties(family='Bitstream Vera Sans', style='normal', size=10, weight='normal', stretch='normal')\n",
    "annotation_font = fm.FontProperties(family='Bitstream Vera Sans', style='normal', size=10, weight='normal', stretch='normal')\n",
    "axis_bgcolor = '#f0f0f0'"
   ]
  },
  {
   "cell_type": "code",
   "execution_count": 92,
   "metadata": {
    "collapsed": true
   },
   "outputs": [],
   "source": [
    "# make a re-usable function to draw nice bar charts\n",
    "def line_chart(data, title='', xlabel='', ylabel='', color='k', ylim=None, filename='', legend_title='', legend_loc=''):\n",
    "    \n",
    "#     ax = data.plot(kind='bar', figsize=[9, 6], width=0.6, alpha=0.6, \n",
    "#                    color=color, edgecolor='k', grid=False, ylim=ylim)\n",
    "    \n",
    "    ax = data.plot(kind='line', figsize=[9, 6], alpha=0.8, \n",
    "                    grid=False, ylim=ylim, x_compat = True,\n",
    "                   linewidth = 2, marker = 'o',\n",
    "                  color = color)\n",
    "    \n",
    "    #ax.set_xticklabels(data.index, rotation=45, rotation_mode='anchor', ha='right', fontproperties=ticks_font)\n",
    "    ax.yaxis.grid(True)\n",
    "    for label in ax.get_yticklabels():\n",
    "        label.set_fontproperties(ticks_font)\n",
    "\n",
    "    plt.tick_params(\n",
    "        axis='x',          # changes apply to the x-axis\n",
    "        which='both',      # both major and minor ticks are affected\n",
    "        #bottom='off',      # ticks along the bottom edge are off\n",
    "        top='off'         # ticks along the top edge are off\n",
    "        )\n",
    "\n",
    "    plt.tick_params(\n",
    "        axis='y',          # changes apply to the x-axis\n",
    "        which='both',      # both major and minor ticks are affected\n",
    "        right='off',      # ticks along the bottom edge are off\n",
    "        )\n",
    "\n",
    "    ax.set_axis_bgcolor(axis_bgcolor)   \n",
    "    ax.set_title(title, fontproperties=title_font)\n",
    "    ax.set_xlabel(xlabel, fontproperties=label_font)\n",
    "    ax.set_ylabel(ylabel, fontproperties=label_font)\n",
    "    \n",
    "    vals = ax.get_yticks()\n",
    "    ax.set_yticklabels(['{:3.0f}%'.format(x*100) for x in vals])\n",
    "    \n",
    "    if legend_title: plt.legend(title=legend_title, loc=legend_loc)\n",
    "    \n",
    "    for label in ax.get_yticklabels():\n",
    "        label.set_fontproperties(ticks_font)\n",
    "\n",
    "    if filename: plt.savefig(filename, format='pdf')\n",
    "    plt.show()"
   ]
  },
  {
   "cell_type": "code",
   "execution_count": 80,
   "metadata": {
    "collapsed": false
   },
   "outputs": [
    {
     "data": {
      "text/plain": [
       "<matplotlib.axes._subplots.AxesSubplot at 0x10b2671d0>"
      ]
     },
     "execution_count": 80,
     "metadata": {},
     "output_type": "execute_result"
    },
    {
     "data": {
      "image/png": "[encoded data removed]",
      "text/plain": [
       "<matplotlib.figure.Figure at 0x10b267510>"
      ]
     },
     "metadata": {},
     "output_type": "display_data"
    }
   ],
   "source": [
    "df_plot = pct_pivot(df, index=['year'], columns=['Living Independently'])\n",
    "df_plot.head()\n",
    "df_plot[1].plot()"
   ]
  },
  {
   "cell_type": "code",
   "execution_count": 81,
   "metadata": {
    "collapsed": false
   },
   "outputs": [
    {
     "data": {
      "image/png": "[encoded data removed]",
      "text/plain": [
       "<matplotlib.figure.Figure at 0x11075c190>"
      ]
     },
     "metadata": {},
     "output_type": "display_data"
    }
   ],
   "source": [
    "line_chart(df_plot[1], ylim=[0,0.8],\n",
    "          title = '% Living Independently, Nationally, 1990-2015',\n",
    "          filename='National.pdf')"
   ]
  },
  {
   "cell_type": "markdown",
   "metadata": {},
   "source": [
    "## Important note: definitions changed in 1994 through part of 1995, when it changed again. Most comparable is 1995 onwards"
   ]
  },
  {
   "cell_type": "code",
   "execution_count": null,
   "metadata": {
    "collapsed": false
   },
   "outputs": [],
   "source": [
    "df2 = pd.read_stata(matches[0], convert_categoricals = False)"
   ]
  },
  {
   "cell_type": "code",
   "execution_count": 94,
   "metadata": {
    "collapsed": false
   },
   "outputs": [
    {
     "data": {
      "text/html": [
       "<div>\n",
       "<table border=\"1\" class=\"dataframe\">\n",
       "  <thead>\n",
       "    <tr style=\"text-align: right;\">\n",
       "      <th>Living Independently</th>\n",
       "      <th>0</th>\n",
       "      <th>1</th>\n",
       "      <th>All</th>\n",
       "    </tr>\n",
       "    <tr>\n",
       "      <th>In Sample</th>\n",
       "      <th></th>\n",
       "      <th></th>\n",
       "      <th></th>\n",
       "    </tr>\n",
       "  </thead>\n",
       "  <tbody>\n",
       "    <tr>\n",
       "      <th>0</th>\n",
       "      <td>0.143384</td>\n",
       "      <td>0.856616</td>\n",
       "      <td>1</td>\n",
       "    </tr>\n",
       "    <tr>\n",
       "      <th>1</th>\n",
       "      <td>0.323323</td>\n",
       "      <td>0.676677</td>\n",
       "      <td>1</td>\n",
       "    </tr>\n",
       "    <tr>\n",
       "      <th>All</th>\n",
       "      <td>0.186021</td>\n",
       "      <td>0.813979</td>\n",
       "      <td>1</td>\n",
       "    </tr>\n",
       "  </tbody>\n",
       "</table>\n",
       "</div>"
      ],
      "text/plain": [
       "Living Independently         0         1  All\n",
       "In Sample                                    \n",
       "0                     0.143384  0.856616    1\n",
       "1                     0.323323  0.676677    1\n",
       "All                   0.186021  0.813979    1"
      ]
     },
     "execution_count": 94,
     "metadata": {},
     "output_type": "execute_result"
    }
   ],
   "source": [
    "pct_pivot(df2)"
   ]
  },
  {
   "cell_type": "code",
   "execution_count": 98,
   "metadata": {
    "collapsed": false
   },
   "outputs": [
    {
     "data": {
      "text/html": [
       "<div>\n",
       "<table border=\"1\" class=\"dataframe\">\n",
       "  <thead>\n",
       "    <tr style=\"text-align: right;\">\n",
       "      <th>Living Independently</th>\n",
       "      <th>0</th>\n",
       "      <th>1</th>\n",
       "      <th>All</th>\n",
       "    </tr>\n",
       "    <tr>\n",
       "      <th>Millenial</th>\n",
       "      <th></th>\n",
       "      <th></th>\n",
       "      <th></th>\n",
       "    </tr>\n",
       "  </thead>\n",
       "  <tbody>\n",
       "    <tr>\n",
       "      <th>0</th>\n",
       "      <td>0.118851</td>\n",
       "      <td>0.881149</td>\n",
       "      <td>1</td>\n",
       "    </tr>\n",
       "    <tr>\n",
       "      <th>1</th>\n",
       "      <td>0.369496</td>\n",
       "      <td>0.630504</td>\n",
       "      <td>1</td>\n",
       "    </tr>\n",
       "    <tr>\n",
       "      <th>All</th>\n",
       "      <td>0.186021</td>\n",
       "      <td>0.813979</td>\n",
       "      <td>1</td>\n",
       "    </tr>\n",
       "  </tbody>\n",
       "</table>\n",
       "</div>"
      ],
      "text/plain": [
       "Living Independently         0         1  All\n",
       "Millenial                                    \n",
       "0                     0.118851  0.881149    1\n",
       "1                     0.369496  0.630504    1\n",
       "All                   0.186021  0.813979    1"
      ]
     },
     "execution_count": 98,
     "metadata": {},
     "output_type": "execute_result"
    }
   ],
   "source": [
    "pct_pivot(df2, index=['Millenial'])"
   ]
  },
  {
   "cell_type": "code",
   "execution_count": 51,
   "metadata": {
    "collapsed": true
   },
   "outputs": [],
   "source": [
    "df_2014 = df[df['year'] == 2014]"
   ]
  },
  {
   "cell_type": "code",
   "execution_count": 52,
   "metadata": {
    "collapsed": true
   },
   "outputs": [],
   "source": [
    "root = '/Users/Lee/Documents/jupyter/notebooks/CP207/Census_Data/'\n",
    "#Get all of the cost reports\n",
    "matches = []\n",
    "for root, dirnames, filenames in os.walk(root):\n",
    "  for filename in fnmatch.filter(filenames, '*_with_ann.csv'):\n",
    "    matches.append(os.path.join(root, filename))"
   ]
  },
  {
   "cell_type": "code",
   "execution_count": 54,
   "metadata": {
    "collapsed": false
   },
   "outputs": [
    {
     "data": {
      "text/plain": [
       "'/Users/Lee/Documents/jupyter/notebooks/CP207/Census_Data/Median_Rent/ACS_14_1YR_B25064/ACS_14_1YR_B25064_with_ann.csv'"
      ]
     },
     "execution_count": 54,
     "metadata": {},
     "output_type": "execute_result"
    }
   ],
   "source": [
    "matches[-1]"
   ]
  },
  {
   "cell_type": "code",
   "execution_count": 55,
   "metadata": {
    "collapsed": false
   },
   "outputs": [
    {
     "data": {
      "text/html": [
       "<div>\n",
       "<table border=\"1\" class=\"dataframe\">\n",
       "  <thead>\n",
       "    <tr style=\"text-align: right;\">\n",
       "      <th></th>\n",
       "      <th>cbsafips</th>\n",
       "      <th>GEO.display-label</th>\n",
       "      <th>Median_Rent</th>\n",
       "      <th>Median_Rent_MOE</th>\n",
       "    </tr>\n",
       "  </thead>\n",
       "  <tbody>\n",
       "    <tr>\n",
       "      <th>0</th>\n",
       "      <td>10140</td>\n",
       "      <td>Aberdeen, WA Micro Area</td>\n",
       "      <td>819</td>\n",
       "      <td>57</td>\n",
       "    </tr>\n",
       "    <tr>\n",
       "      <th>1</th>\n",
       "      <td>10180</td>\n",
       "      <td>Abilene, TX Metro Area</td>\n",
       "      <td>814</td>\n",
       "      <td>44</td>\n",
       "    </tr>\n",
       "    <tr>\n",
       "      <th>2</th>\n",
       "      <td>10300</td>\n",
       "      <td>Adrian, MI Micro Area</td>\n",
       "      <td>728</td>\n",
       "      <td>57</td>\n",
       "    </tr>\n",
       "    <tr>\n",
       "      <th>3</th>\n",
       "      <td>10420</td>\n",
       "      <td>Akron, OH Metro Area</td>\n",
       "      <td>756</td>\n",
       "      <td>20</td>\n",
       "    </tr>\n",
       "    <tr>\n",
       "      <th>4</th>\n",
       "      <td>10460</td>\n",
       "      <td>Alamogordo, NM Micro Area</td>\n",
       "      <td>845</td>\n",
       "      <td>142</td>\n",
       "    </tr>\n",
       "  </tbody>\n",
       "</table>\n",
       "</div>"
      ],
      "text/plain": [
       "   cbsafips          GEO.display-label  Median_Rent  Median_Rent_MOE\n",
       "0     10140    Aberdeen, WA Micro Area          819               57\n",
       "1     10180     Abilene, TX Metro Area          814               44\n",
       "2     10300      Adrian, MI Micro Area          728               57\n",
       "3     10420       Akron, OH Metro Area          756               20\n",
       "4     10460  Alamogordo, NM Micro Area          845              142"
      ]
     },
     "execution_count": 55,
     "metadata": {},
     "output_type": "execute_result"
    }
   ],
   "source": [
    "df_rent = pd.read_csv(matches[-1])\n",
    "df_rent.rename(columns={'GEO.id2':'cbsafips', 'HD01_VD01':'Median_Rent', 'HD02_VD01':'Median_Rent_MOE'},inplace=True)\n",
    "df_rent.drop('GEO.id', axis=1, inplace=True)\n",
    "df_rent.head()"
   ]
  },
  {
   "cell_type": "code",
   "execution_count": 102,
   "metadata": {
    "collapsed": true
   },
   "outputs": [],
   "source": [
    "t = df_2014.groupby('cbsafips').count()\n",
    "t = t[t.year > 100]\n",
    "df_plot = pct_pivot(df_2014, index=['cbsafips'], columns=['Living Independently'])\n",
    "df_plot = t.merge(df_plot, left_index=True, right_index=True, how='left')\n",
    "#df_plot = pct_pivot(df, index=['msafips'], columns=['Living Independently'])\n",
    "df_plot.rename(columns={0:'Not_Independent', 1:'Independent'}, inplace=True)\n",
    "df_plot = df_plot.merge(df_rent, how='left', right_on='cbsafips', left_index=True)"
   ]
  },
  {
   "cell_type": "code",
   "execution_count": 57,
   "metadata": {
    "collapsed": false
   },
   "outputs": [
    {
     "data": {
      "text/html": [
       "<div>\n",
       "<table border=\"1\" class=\"dataframe\">\n",
       "  <thead>\n",
       "    <tr style=\"text-align: right;\">\n",
       "      <th></th>\n",
       "      <th>In Sample</th>\n",
       "      <th>age</th>\n",
       "      <th>msafips</th>\n",
       "      <th>relaref</th>\n",
       "      <th>relref94</th>\n",
       "      <th>relref95</th>\n",
       "      <th>schlvl</th>\n",
       "      <th>studftpt</th>\n",
       "      <th>year</th>\n",
       "      <th>Living Independently</th>\n",
       "      <th>Not_Independent</th>\n",
       "      <th>Independent</th>\n",
       "      <th>All</th>\n",
       "      <th>cbsafips</th>\n",
       "      <th>GEO.display-label</th>\n",
       "      <th>Median_Rent</th>\n",
       "      <th>Median_Rent_MOE</th>\n",
       "    </tr>\n",
       "  </thead>\n",
       "  <tbody>\n",
       "    <tr>\n",
       "      <th>507</th>\n",
       "      <td>18399</td>\n",
       "      <td>18399</td>\n",
       "      <td>0</td>\n",
       "      <td>0</td>\n",
       "      <td>0</td>\n",
       "      <td>18399</td>\n",
       "      <td>1903</td>\n",
       "      <td>1903</td>\n",
       "      <td>18399</td>\n",
       "      <td>18399</td>\n",
       "      <td>0.284689</td>\n",
       "      <td>0.715311</td>\n",
       "      <td>1</td>\n",
       "      <td>0</td>\n",
       "      <td>NaN</td>\n",
       "      <td>NaN</td>\n",
       "      <td>NaN</td>\n",
       "    </tr>\n",
       "    <tr>\n",
       "      <th>3</th>\n",
       "      <td>120</td>\n",
       "      <td>120</td>\n",
       "      <td>0</td>\n",
       "      <td>0</td>\n",
       "      <td>0</td>\n",
       "      <td>120</td>\n",
       "      <td>13</td>\n",
       "      <td>13</td>\n",
       "      <td>120</td>\n",
       "      <td>120</td>\n",
       "      <td>0.341667</td>\n",
       "      <td>0.658333</td>\n",
       "      <td>1</td>\n",
       "      <td>10420</td>\n",
       "      <td>Akron, OH Metro Area</td>\n",
       "      <td>756</td>\n",
       "      <td>20</td>\n",
       "    </tr>\n",
       "    <tr>\n",
       "      <th>7</th>\n",
       "      <td>144</td>\n",
       "      <td>144</td>\n",
       "      <td>0</td>\n",
       "      <td>0</td>\n",
       "      <td>0</td>\n",
       "      <td>144</td>\n",
       "      <td>20</td>\n",
       "      <td>20</td>\n",
       "      <td>144</td>\n",
       "      <td>144</td>\n",
       "      <td>0.319444</td>\n",
       "      <td>0.680556</td>\n",
       "      <td>1</td>\n",
       "      <td>10580</td>\n",
       "      <td>Albany-Schenectady-Troy, NY Metro Area</td>\n",
       "      <td>931</td>\n",
       "      <td>16</td>\n",
       "    </tr>\n",
       "  </tbody>\n",
       "</table>\n",
       "</div>"
      ],
      "text/plain": [
       "     In Sample    age  msafips  relaref  relref94  relref95  schlvl  studftpt  \\\n",
       "507      18399  18399        0        0         0     18399    1903      1903   \n",
       "3          120    120        0        0         0       120      13        13   \n",
       "7          144    144        0        0         0       144      20        20   \n",
       "\n",
       "      year  Living Independently  Not_Independent  Independent  All  cbsafips  \\\n",
       "507  18399                 18399         0.284689     0.715311    1         0   \n",
       "3      120                   120         0.341667     0.658333    1     10420   \n",
       "7      144                   144         0.319444     0.680556    1     10580   \n",
       "\n",
       "                          GEO.display-label  Median_Rent  Median_Rent_MOE  \n",
       "507                                     NaN          NaN              NaN  \n",
       "3                      Akron, OH Metro Area          756               20  \n",
       "7    Albany-Schenectady-Troy, NY Metro Area          931               16  "
      ]
     },
     "execution_count": 57,
     "metadata": {},
     "output_type": "execute_result"
    }
   ],
   "source": [
    "df_plot.head(3)"
   ]
  },
  {
   "cell_type": "code",
   "execution_count": 58,
   "metadata": {
    "collapsed": false
   },
   "outputs": [
    {
     "data": {
      "text/plain": [
       "<matplotlib.axes._subplots.AxesSubplot at 0x107b42bd0>"
      ]
     },
     "execution_count": 58,
     "metadata": {},
     "output_type": "execute_result"
    },
    {
     "data": {
      "image/png": "[encoded data removed]",
      "text/plain": [
       "<matplotlib.figure.Figure at 0x108379f90>"
      ]
     },
     "metadata": {},
     "output_type": "display_data"
    }
   ],
   "source": [
    "df_plot.plot(x='Median_Rent',\n",
    "             y= 'Independent',\n",
    "             title = '% Independent versus Median Rent for CBSAs with >100 samples',\n",
    "             kind='scatter',\n",
    "             ylim=[0,1],\n",
    "             xlim=[0,2000],\n",
    "            figsize=[9,6],\n",
    "            alpha=0.8)"
   ]
  },
  {
   "cell_type": "code",
   "execution_count": 104,
   "metadata": {
    "collapsed": false
   },
   "outputs": [
    {
     "data": {
      "image/png": "[encoded data removed]",
      "text/plain": [
       "<matplotlib.figure.Figure at 0x108251090>"
      ]
     },
     "metadata": {},
     "output_type": "display_data"
    }
   ],
   "source": [
    "#df3.plot(kind='scatter', x='disadvantage_weighted', y='lane_miles_repaving')\n",
    "\n",
    "fig, ax = plt.subplots()\n",
    "fig.set_size_inches(9, 6)\n",
    "rs_scatter = ax.scatter(x=df_plot['Median_Rent'], y=df_plot['Independent'],\n",
    "                        #c=point_color, edgecolor=edge_color,\n",
    "                        alpha=1, s=50,\n",
    "                       )\n",
    "\n",
    "ax.yaxis.grid(True)\n",
    "\n",
    "ax.set_xlim([0,2000])\n",
    "ax.set_ylim([0, 1])\n",
    "# set font of tick labels\n",
    "for label in ax.get_xticklabels():\n",
    "    label.set_fontproperties(ticks_font)\n",
    "for label in ax.get_yticklabels():\n",
    "    label.set_fontproperties(ticks_font)\n",
    "\n",
    "plt.tick_params(\n",
    "    axis='x',          # changes apply to the x-axis\n",
    "    which='both',      # both major and minor ticks are affected\n",
    "    #bottom='off',      # ticks along the bottom edge are off\n",
    "    top='off'         # ticks along the top edge are off\n",
    "    )\n",
    "\n",
    "plt.tick_params(\n",
    "    axis='y',          # changes apply to the x-axis\n",
    "    which='both',      # both major and minor ticks are affected\n",
    "    right='off',      # ticks along the bottom edge are off\n",
    "    )\n",
    "\n",
    "vals = ax.get_yticks()\n",
    "ax.set_yticklabels(['{:3.0f}%'.format(x*100) for x in vals])\n",
    "\n",
    "# set title, axis labels, background color\n",
    "ax.set_title('% Independent versus Median Rent for CBSAs with >100 samples', fontproperties=title_font)\n",
    "ax.set_xlabel('Median Rent', fontproperties=label_font)\n",
    "ax.set_ylabel('% Independent', fontproperties=label_font)\n",
    "ax.set_axis_bgcolor(axis_bgcolor)\n",
    "    \n",
    "#plt.show()\n",
    "plt.savefig('Median Rent Scatter.pdf', format='pdf')"
   ]
  },
  {
   "cell_type": "code",
   "execution_count": 60,
   "metadata": {
    "collapsed": false
   },
   "outputs": [
    {
     "data": {
      "text/plain": [
       "110"
      ]
     },
     "execution_count": 60,
     "metadata": {},
     "output_type": "execute_result"
    }
   ],
   "source": [
    "len(df_plot)"
   ]
  },
  {
   "cell_type": "code",
   "execution_count": 77,
   "metadata": {
    "collapsed": false
   },
   "outputs": [
    {
     "data": {
      "text/html": [
       "<div>\n",
       "<table border=\"1\" class=\"dataframe\">\n",
       "  <thead>\n",
       "    <tr style=\"text-align: right;\">\n",
       "      <th>Living Independently</th>\n",
       "      <th>0</th>\n",
       "      <th>1</th>\n",
       "      <th>All</th>\n",
       "    </tr>\n",
       "    <tr>\n",
       "      <th>msafips</th>\n",
       "      <th></th>\n",
       "      <th></th>\n",
       "      <th></th>\n",
       "    </tr>\n",
       "  </thead>\n",
       "  <tbody>\n",
       "    <tr>\n",
       "      <th>80</th>\n",
       "      <td>0.246341</td>\n",
       "      <td>0.753659</td>\n",
       "      <td>1</td>\n",
       "    </tr>\n",
       "    <tr>\n",
       "      <th>160</th>\n",
       "      <td>0.263533</td>\n",
       "      <td>0.736467</td>\n",
       "      <td>1</td>\n",
       "    </tr>\n",
       "    <tr>\n",
       "      <th>200</th>\n",
       "      <td>0.236257</td>\n",
       "      <td>0.763743</td>\n",
       "      <td>1</td>\n",
       "    </tr>\n",
       "    <tr>\n",
       "      <th>240</th>\n",
       "      <td>0.326656</td>\n",
       "      <td>0.673344</td>\n",
       "      <td>1</td>\n",
       "    </tr>\n",
       "    <tr>\n",
       "      <th>380</th>\n",
       "      <td>0.240901</td>\n",
       "      <td>0.759099</td>\n",
       "      <td>1</td>\n",
       "    </tr>\n",
       "  </tbody>\n",
       "</table>\n",
       "</div>"
      ],
      "text/plain": [
       "Living Independently         0         1  All\n",
       "msafips                                      \n",
       "80                    0.246341  0.753659    1\n",
       "160                   0.263533  0.736467    1\n",
       "200                   0.236257  0.763743    1\n",
       "240                   0.326656  0.673344    1\n",
       "380                   0.240901  0.759099    1"
      ]
     },
     "execution_count": 77,
     "metadata": {},
     "output_type": "execute_result"
    }
   ],
   "source": [
    "df_plot.head()"
   ]
  },
  {
   "cell_type": "code",
   "execution_count": 50,
   "metadata": {
    "collapsed": false
   },
   "outputs": [],
   "source": [
    "df_cbsa = pd.pivot_table(df_2015, values='age', index=['cbsafips'], columns=['Living Independently'],\n",
    "               aggfunc=np.count_nonzero,\n",
    "              margins=True)"
   ]
  },
  {
   "cell_type": "code",
   "execution_count": 53,
   "metadata": {
    "collapsed": false
   },
   "outputs": [
    {
     "data": {
      "text/plain": [
       "297"
      ]
     },
     "execution_count": 53,
     "metadata": {},
     "output_type": "execute_result"
    }
   ],
   "source": [
    "len(df_cbsa)"
   ]
  },
  {
   "cell_type": "code",
   "execution_count": 55,
   "metadata": {
    "collapsed": false
   },
   "outputs": [
    {
     "data": {
      "text/plain": [
       "292"
      ]
     },
     "execution_count": 55,
     "metadata": {},
     "output_type": "execute_result"
    }
   ],
   "source": [
    "len(df_cbsa[df_cbsa['All'] > 10])"
   ]
  },
  {
   "cell_type": "code",
   "execution_count": 87,
   "metadata": {
    "collapsed": false
   },
   "outputs": [
    {
     "data": {
      "text/html": [
       "<div>\n",
       "<table border=\"1\" class=\"dataframe\">\n",
       "  <thead>\n",
       "    <tr style=\"text-align: right;\">\n",
       "      <th></th>\n",
       "      <th>msafips</th>\n",
       "      <th>cbsafips</th>\n",
       "      <th>age</th>\n",
       "      <th>studftpt</th>\n",
       "      <th>schlvl</th>\n",
       "      <th>relref95</th>\n",
       "      <th>Living Independently</th>\n",
       "    </tr>\n",
       "    <tr>\n",
       "      <th>year</th>\n",
       "      <th></th>\n",
       "      <th></th>\n",
       "      <th></th>\n",
       "      <th></th>\n",
       "      <th></th>\n",
       "      <th></th>\n",
       "      <th></th>\n",
       "    </tr>\n",
       "  </thead>\n",
       "  <tbody>\n",
       "    <tr>\n",
       "      <th>2004</th>\n",
       "      <td>0</td>\n",
       "      <td>419</td>\n",
       "      <td>419</td>\n",
       "      <td>29</td>\n",
       "      <td>29</td>\n",
       "      <td>419</td>\n",
       "      <td>419</td>\n",
       "    </tr>\n",
       "    <tr>\n",
       "      <th>2005</th>\n",
       "      <td>0</td>\n",
       "      <td>823</td>\n",
       "      <td>823</td>\n",
       "      <td>33</td>\n",
       "      <td>33</td>\n",
       "      <td>823</td>\n",
       "      <td>823</td>\n",
       "    </tr>\n",
       "    <tr>\n",
       "      <th>2006</th>\n",
       "      <td>0</td>\n",
       "      <td>798</td>\n",
       "      <td>798</td>\n",
       "      <td>43</td>\n",
       "      <td>43</td>\n",
       "      <td>798</td>\n",
       "      <td>798</td>\n",
       "    </tr>\n",
       "    <tr>\n",
       "      <th>2007</th>\n",
       "      <td>0</td>\n",
       "      <td>709</td>\n",
       "      <td>709</td>\n",
       "      <td>43</td>\n",
       "      <td>43</td>\n",
       "      <td>709</td>\n",
       "      <td>709</td>\n",
       "    </tr>\n",
       "    <tr>\n",
       "      <th>2008</th>\n",
       "      <td>0</td>\n",
       "      <td>816</td>\n",
       "      <td>816</td>\n",
       "      <td>42</td>\n",
       "      <td>42</td>\n",
       "      <td>816</td>\n",
       "      <td>816</td>\n",
       "    </tr>\n",
       "    <tr>\n",
       "      <th>2009</th>\n",
       "      <td>0</td>\n",
       "      <td>815</td>\n",
       "      <td>815</td>\n",
       "      <td>56</td>\n",
       "      <td>56</td>\n",
       "      <td>815</td>\n",
       "      <td>815</td>\n",
       "    </tr>\n",
       "    <tr>\n",
       "      <th>2010</th>\n",
       "      <td>0</td>\n",
       "      <td>843</td>\n",
       "      <td>843</td>\n",
       "      <td>49</td>\n",
       "      <td>49</td>\n",
       "      <td>843</td>\n",
       "      <td>843</td>\n",
       "    </tr>\n",
       "    <tr>\n",
       "      <th>2011</th>\n",
       "      <td>0</td>\n",
       "      <td>839</td>\n",
       "      <td>839</td>\n",
       "      <td>55</td>\n",
       "      <td>55</td>\n",
       "      <td>839</td>\n",
       "      <td>839</td>\n",
       "    </tr>\n",
       "    <tr>\n",
       "      <th>2012</th>\n",
       "      <td>0</td>\n",
       "      <td>857</td>\n",
       "      <td>857</td>\n",
       "      <td>59</td>\n",
       "      <td>59</td>\n",
       "      <td>857</td>\n",
       "      <td>857</td>\n",
       "    </tr>\n",
       "    <tr>\n",
       "      <th>2013</th>\n",
       "      <td>0</td>\n",
       "      <td>871</td>\n",
       "      <td>871</td>\n",
       "      <td>110</td>\n",
       "      <td>110</td>\n",
       "      <td>871</td>\n",
       "      <td>871</td>\n",
       "    </tr>\n",
       "    <tr>\n",
       "      <th>2014</th>\n",
       "      <td>0</td>\n",
       "      <td>863</td>\n",
       "      <td>863</td>\n",
       "      <td>109</td>\n",
       "      <td>109</td>\n",
       "      <td>863</td>\n",
       "      <td>863</td>\n",
       "    </tr>\n",
       "    <tr>\n",
       "      <th>2015</th>\n",
       "      <td>0</td>\n",
       "      <td>773</td>\n",
       "      <td>773</td>\n",
       "      <td>104</td>\n",
       "      <td>104</td>\n",
       "      <td>773</td>\n",
       "      <td>773</td>\n",
       "    </tr>\n",
       "  </tbody>\n",
       "</table>\n",
       "</div>"
      ],
      "text/plain": [
       "      msafips  cbsafips  age  studftpt  schlvl  relref95  Living Independently\n",
       "year                                                                          \n",
       "2004        0       419  419        29      29       419                   419\n",
       "2005        0       823  823        33      33       823                   823\n",
       "2006        0       798  798        43      43       798                   798\n",
       "2007        0       709  709        43      43       709                   709\n",
       "2008        0       816  816        42      42       816                   816\n",
       "2009        0       815  815        56      56       815                   815\n",
       "2010        0       843  843        49      49       843                   843\n",
       "2011        0       839  839        55      55       839                   839\n",
       "2012        0       857  857        59      59       857                   857\n",
       "2013        0       871  871       110     110       871                   871\n",
       "2014        0       863  863       109     109       863                   863\n",
       "2015        0       773  773       104     104       773                   773"
      ]
     },
     "execution_count": 87,
     "metadata": {},
     "output_type": "execute_result"
    }
   ],
   "source": [
    "df[df.cbsafips == 41860].groupby('year').count()"
   ]
  },
  {
   "cell_type": "code",
   "execution_count": 105,
   "metadata": {
    "collapsed": false
   },
   "outputs": [
    {
     "data": {
      "text/html": [
       "<div>\n",
       "<table border=\"1\" class=\"dataframe\">\n",
       "  <thead>\n",
       "    <tr style=\"text-align: right;\">\n",
       "      <th></th>\n",
       "      <th>year</th>\n",
       "      <th>cbsafips</th>\n",
       "      <th>age</th>\n",
       "      <th>studftpt</th>\n",
       "      <th>schlvl</th>\n",
       "      <th>relref95</th>\n",
       "      <th>Living Independently</th>\n",
       "    </tr>\n",
       "  </thead>\n",
       "  <tbody>\n",
       "    <tr>\n",
       "      <th>6</th>\n",
       "      <td>2015</td>\n",
       "      <td>13820</td>\n",
       "      <td>27</td>\n",
       "      <td>NaN</td>\n",
       "      <td>NaN</td>\n",
       "      <td>2</td>\n",
       "      <td>1</td>\n",
       "    </tr>\n",
       "    <tr>\n",
       "      <th>10</th>\n",
       "      <td>2015</td>\n",
       "      <td>33660</td>\n",
       "      <td>22</td>\n",
       "      <td>NaN</td>\n",
       "      <td>NaN</td>\n",
       "      <td>1</td>\n",
       "      <td>1</td>\n",
       "    </tr>\n",
       "    <tr>\n",
       "      <th>11</th>\n",
       "      <td>2015</td>\n",
       "      <td>33660</td>\n",
       "      <td>27</td>\n",
       "      <td>NaN</td>\n",
       "      <td>NaN</td>\n",
       "      <td>14</td>\n",
       "      <td>1</td>\n",
       "    </tr>\n",
       "    <tr>\n",
       "      <th>18</th>\n",
       "      <td>2015</td>\n",
       "      <td>33860</td>\n",
       "      <td>18</td>\n",
       "      <td>1</td>\n",
       "      <td>1</td>\n",
       "      <td>4</td>\n",
       "      <td>0</td>\n",
       "    </tr>\n",
       "    <tr>\n",
       "      <th>19</th>\n",
       "      <td>2015</td>\n",
       "      <td>33860</td>\n",
       "      <td>20</td>\n",
       "      <td>NaN</td>\n",
       "      <td>NaN</td>\n",
       "      <td>4</td>\n",
       "      <td>0</td>\n",
       "    </tr>\n",
       "  </tbody>\n",
       "</table>\n",
       "</div>"
      ],
      "text/plain": [
       "    year  cbsafips  age  studftpt  schlvl  relref95  Living Independently\n",
       "6   2015     13820   27       NaN     NaN         2                     1\n",
       "10  2015     33660   22       NaN     NaN         1                     1\n",
       "11  2015     33660   27       NaN     NaN        14                     1\n",
       "18  2015     33860   18         1       1         4                     0\n",
       "19  2015     33860   20       NaN     NaN         4                     0"
      ]
     },
     "execution_count": 105,
     "metadata": {},
     "output_type": "execute_result"
    }
   ],
   "source": [
    "df_2015.head()"
   ]
  },
  {
   "cell_type": "code",
   "execution_count": 106,
   "metadata": {
    "collapsed": false
   },
   "outputs": [
    {
     "data": {
      "text/html": [
       "<div>\n",
       "<table border=\"1\" class=\"dataframe\">\n",
       "  <thead>\n",
       "    <tr style=\"text-align: right;\">\n",
       "      <th></th>\n",
       "      <th>cbsafips</th>\n",
       "      <th>GEO.display-label</th>\n",
       "      <th>Median_Rent</th>\n",
       "      <th>Median_Rent_MOE</th>\n",
       "    </tr>\n",
       "  </thead>\n",
       "  <tbody>\n",
       "    <tr>\n",
       "      <th>0</th>\n",
       "      <td>10140</td>\n",
       "      <td>Aberdeen, WA Micro Area</td>\n",
       "      <td>819</td>\n",
       "      <td>57</td>\n",
       "    </tr>\n",
       "    <tr>\n",
       "      <th>1</th>\n",
       "      <td>10180</td>\n",
       "      <td>Abilene, TX Metro Area</td>\n",
       "      <td>814</td>\n",
       "      <td>44</td>\n",
       "    </tr>\n",
       "    <tr>\n",
       "      <th>2</th>\n",
       "      <td>10300</td>\n",
       "      <td>Adrian, MI Micro Area</td>\n",
       "      <td>728</td>\n",
       "      <td>57</td>\n",
       "    </tr>\n",
       "    <tr>\n",
       "      <th>3</th>\n",
       "      <td>10420</td>\n",
       "      <td>Akron, OH Metro Area</td>\n",
       "      <td>756</td>\n",
       "      <td>20</td>\n",
       "    </tr>\n",
       "    <tr>\n",
       "      <th>4</th>\n",
       "      <td>10460</td>\n",
       "      <td>Alamogordo, NM Micro Area</td>\n",
       "      <td>845</td>\n",
       "      <td>142</td>\n",
       "    </tr>\n",
       "  </tbody>\n",
       "</table>\n",
       "</div>"
      ],
      "text/plain": [
       "   cbsafips          GEO.display-label  Median_Rent  Median_Rent_MOE\n",
       "0     10140    Aberdeen, WA Micro Area          819               57\n",
       "1     10180     Abilene, TX Metro Area          814               44\n",
       "2     10300      Adrian, MI Micro Area          728               57\n",
       "3     10420       Akron, OH Metro Area          756               20\n",
       "4     10460  Alamogordo, NM Micro Area          845              142"
      ]
     },
     "execution_count": 106,
     "metadata": {},
     "output_type": "execute_result"
    }
   ],
   "source": [
    "df_rent.head()"
   ]
  },
  {
   "cell_type": "code",
   "execution_count": 62,
   "metadata": {
    "collapsed": false
   },
   "outputs": [],
   "source": [
    "df_cbsa = pct_pivot(df_2014, index=['cbsafips'], columns=['Living Independently'])\n",
    "df_cbsa.drop('All', axis = 1, inplace = True)\n",
    "df_cbsa.rename(columns={0:'Not_Independent', 1:'Independent'}, inplace=True)"
   ]
  },
  {
   "cell_type": "code",
   "execution_count": 63,
   "metadata": {
    "collapsed": false
   },
   "outputs": [
    {
     "data": {
      "text/html": [
       "<div>\n",
       "<table border=\"1\" class=\"dataframe\">\n",
       "  <thead>\n",
       "    <tr style=\"text-align: right;\">\n",
       "      <th>Living Independently</th>\n",
       "      <th>Not_Independent</th>\n",
       "      <th>Independent</th>\n",
       "    </tr>\n",
       "    <tr>\n",
       "      <th>cbsafips</th>\n",
       "      <th></th>\n",
       "      <th></th>\n",
       "    </tr>\n",
       "  </thead>\n",
       "  <tbody>\n",
       "    <tr>\n",
       "      <th>0</th>\n",
       "      <td>0.284689</td>\n",
       "      <td>0.715311</td>\n",
       "    </tr>\n",
       "    <tr>\n",
       "      <th>10180</th>\n",
       "      <td>0.500000</td>\n",
       "      <td>0.500000</td>\n",
       "    </tr>\n",
       "    <tr>\n",
       "      <th>10420</th>\n",
       "      <td>0.341667</td>\n",
       "      <td>0.658333</td>\n",
       "    </tr>\n",
       "    <tr>\n",
       "      <th>10500</th>\n",
       "      <td>0.354167</td>\n",
       "      <td>0.645833</td>\n",
       "    </tr>\n",
       "    <tr>\n",
       "      <th>10580</th>\n",
       "      <td>0.319444</td>\n",
       "      <td>0.680556</td>\n",
       "    </tr>\n",
       "  </tbody>\n",
       "</table>\n",
       "</div>"
      ],
      "text/plain": [
       "Living Independently  Not_Independent  Independent\n",
       "cbsafips                                          \n",
       "0                            0.284689     0.715311\n",
       "10180                        0.500000     0.500000\n",
       "10420                        0.341667     0.658333\n",
       "10500                        0.354167     0.645833\n",
       "10580                        0.319444     0.680556"
      ]
     },
     "execution_count": 63,
     "metadata": {},
     "output_type": "execute_result"
    }
   ],
   "source": [
    "df_cbsa.head()"
   ]
  },
  {
   "cell_type": "code",
   "execution_count": 64,
   "metadata": {
    "collapsed": false
   },
   "outputs": [],
   "source": [
    "df_plot = df_cbsa.merge(df_rent, how='left', right_on='cbsafips', left_index=True)"
   ]
  },
  {
   "cell_type": "code",
   "execution_count": 141,
   "metadata": {
    "collapsed": false
   },
   "outputs": [
    {
     "data": {
      "text/html": [
       "<div>\n",
       "<table border=\"1\" class=\"dataframe\">\n",
       "  <thead>\n",
       "    <tr style=\"text-align: right;\">\n",
       "      <th>Living Independently</th>\n",
       "      <th>Not_Independent</th>\n",
       "      <th>Independent</th>\n",
       "      <th>cbsafips</th>\n",
       "      <th>GEO.display-label</th>\n",
       "      <th>Median_Rent</th>\n",
       "      <th>Median_Rent_MOE</th>\n",
       "    </tr>\n",
       "  </thead>\n",
       "  <tbody>\n",
       "    <tr>\n",
       "      <th>507</th>\n",
       "      <td>0.297407</td>\n",
       "      <td>0.702593</td>\n",
       "      <td>0</td>\n",
       "      <td>NaN</td>\n",
       "      <td>NaN</td>\n",
       "      <td>NaN</td>\n",
       "    </tr>\n",
       "    <tr>\n",
       "      <th>1</th>\n",
       "      <td>0.500000</td>\n",
       "      <td>0.500000</td>\n",
       "      <td>10180</td>\n",
       "      <td>Abilene, TX Metro Area</td>\n",
       "      <td>814</td>\n",
       "      <td>44</td>\n",
       "    </tr>\n",
       "    <tr>\n",
       "      <th>3</th>\n",
       "      <td>0.341667</td>\n",
       "      <td>0.658333</td>\n",
       "      <td>10420</td>\n",
       "      <td>Akron, OH Metro Area</td>\n",
       "      <td>756</td>\n",
       "      <td>20</td>\n",
       "    </tr>\n",
       "    <tr>\n",
       "      <th>5</th>\n",
       "      <td>0.354167</td>\n",
       "      <td>0.645833</td>\n",
       "      <td>10500</td>\n",
       "      <td>Albany, GA Metro Area</td>\n",
       "      <td>712</td>\n",
       "      <td>22</td>\n",
       "    </tr>\n",
       "    <tr>\n",
       "      <th>7</th>\n",
       "      <td>0.340278</td>\n",
       "      <td>0.659722</td>\n",
       "      <td>10580</td>\n",
       "      <td>Albany-Schenectady-Troy, NY Metro Area</td>\n",
       "      <td>931</td>\n",
       "      <td>16</td>\n",
       "    </tr>\n",
       "  </tbody>\n",
       "</table>\n",
       "</div>"
      ],
      "text/plain": [
       "Living Independently  Not_Independent  Independent  cbsafips  \\\n",
       "507                          0.297407     0.702593         0   \n",
       "1                            0.500000     0.500000     10180   \n",
       "3                            0.341667     0.658333     10420   \n",
       "5                            0.354167     0.645833     10500   \n",
       "7                            0.340278     0.659722     10580   \n",
       "\n",
       "Living Independently                       GEO.display-label  Median_Rent  \\\n",
       "507                                                      NaN          NaN   \n",
       "1                                     Abilene, TX Metro Area          814   \n",
       "3                                       Akron, OH Metro Area          756   \n",
       "5                                      Albany, GA Metro Area          712   \n",
       "7                     Albany-Schenectady-Troy, NY Metro Area          931   \n",
       "\n",
       "Living Independently  Median_Rent_MOE  \n",
       "507                               NaN  \n",
       "1                                  44  \n",
       "3                                  20  \n",
       "5                                  22  \n",
       "7                                  16  "
      ]
     },
     "execution_count": 141,
     "metadata": {},
     "output_type": "execute_result"
    }
   ],
   "source": [
    "df_plot.head()"
   ]
  },
  {
   "cell_type": "code",
   "execution_count": 142,
   "metadata": {
    "collapsed": true
   },
   "outputs": [],
   "source": [
    "df_plot = df_plot[~pd.isnull(df_plot['Median_Rent'])]"
   ]
  },
  {
   "cell_type": "code",
   "execution_count": 143,
   "metadata": {
    "collapsed": false
   },
   "outputs": [
    {
     "data": {
      "text/plain": [
       "<matplotlib.axes._subplots.AxesSubplot at 0x15c0fc610>"
      ]
     },
     "execution_count": 143,
     "metadata": {},
     "output_type": "execute_result"
    },
    {
     "data": {
      "image/png": "[encoded data removed]",
      "text/plain": [
       "<matplotlib.figure.Figure at 0x1146e32d0>"
      ]
     },
     "metadata": {},
     "output_type": "display_data"
    }
   ],
   "source": [
    "df_plot.plot(x='Median_Rent', y= 'Independent', kind='scatter')"
   ]
  },
  {
   "cell_type": "code",
   "execution_count": 144,
   "metadata": {
    "collapsed": false
   },
   "outputs": [
    {
     "data": {
      "text/html": [
       "<div>\n",
       "<table border=\"1\" class=\"dataframe\">\n",
       "  <thead>\n",
       "    <tr style=\"text-align: right;\">\n",
       "      <th>Living Independently</th>\n",
       "      <th>Not_Independent</th>\n",
       "      <th>Independent</th>\n",
       "      <th>cbsafips</th>\n",
       "      <th>GEO.display-label</th>\n",
       "      <th>Median_Rent</th>\n",
       "      <th>Median_Rent_MOE</th>\n",
       "    </tr>\n",
       "  </thead>\n",
       "  <tbody>\n",
       "    <tr>\n",
       "      <th>168</th>\n",
       "      <td>0.857143</td>\n",
       "      <td>0.142857</td>\n",
       "      <td>24140</td>\n",
       "      <td>Goldsboro, NC Metro Area</td>\n",
       "      <td>703</td>\n",
       "      <td>36</td>\n",
       "    </tr>\n",
       "  </tbody>\n",
       "</table>\n",
       "</div>"
      ],
      "text/plain": [
       "Living Independently  Not_Independent  Independent  cbsafips  \\\n",
       "168                          0.857143     0.142857     24140   \n",
       "\n",
       "Living Independently         GEO.display-label  Median_Rent  Median_Rent_MOE  \n",
       "168                   Goldsboro, NC Metro Area          703               36  "
      ]
     },
     "execution_count": 144,
     "metadata": {},
     "output_type": "execute_result"
    }
   ],
   "source": [
    "df_plot[df_plot.Independent < 0.2]"
   ]
  },
  {
   "cell_type": "code",
   "execution_count": 66,
   "metadata": {
    "collapsed": true
   },
   "outputs": [],
   "source": [
    "df_cbsa = df[df.cbsafips == 38900]"
   ]
  },
  {
   "cell_type": "code",
   "execution_count": 195,
   "metadata": {
    "collapsed": false
   },
   "outputs": [
    {
     "data": {
      "text/html": [
       "<div>\n",
       "<table border=\"1\" class=\"dataframe\">\n",
       "  <thead>\n",
       "    <tr style=\"text-align: right;\">\n",
       "      <th></th>\n",
       "      <th>msafips</th>\n",
       "      <th>cbsafips</th>\n",
       "      <th>age</th>\n",
       "      <th>studftpt</th>\n",
       "      <th>schlvl</th>\n",
       "      <th>relref95</th>\n",
       "      <th>Living Independently</th>\n",
       "    </tr>\n",
       "    <tr>\n",
       "      <th>year</th>\n",
       "      <th></th>\n",
       "      <th></th>\n",
       "      <th></th>\n",
       "      <th></th>\n",
       "      <th></th>\n",
       "      <th></th>\n",
       "      <th></th>\n",
       "    </tr>\n",
       "  </thead>\n",
       "  <tbody>\n",
       "    <tr>\n",
       "      <th>2004</th>\n",
       "      <td>0</td>\n",
       "      <td>468</td>\n",
       "      <td>468</td>\n",
       "      <td>21</td>\n",
       "      <td>21</td>\n",
       "      <td>468</td>\n",
       "      <td>468</td>\n",
       "    </tr>\n",
       "    <tr>\n",
       "      <th>2005</th>\n",
       "      <td>0</td>\n",
       "      <td>652</td>\n",
       "      <td>652</td>\n",
       "      <td>28</td>\n",
       "      <td>28</td>\n",
       "      <td>652</td>\n",
       "      <td>652</td>\n",
       "    </tr>\n",
       "    <tr>\n",
       "      <th>2006</th>\n",
       "      <td>0</td>\n",
       "      <td>580</td>\n",
       "      <td>580</td>\n",
       "      <td>34</td>\n",
       "      <td>34</td>\n",
       "      <td>580</td>\n",
       "      <td>580</td>\n",
       "    </tr>\n",
       "    <tr>\n",
       "      <th>2007</th>\n",
       "      <td>0</td>\n",
       "      <td>626</td>\n",
       "      <td>626</td>\n",
       "      <td>37</td>\n",
       "      <td>37</td>\n",
       "      <td>626</td>\n",
       "      <td>626</td>\n",
       "    </tr>\n",
       "    <tr>\n",
       "      <th>2008</th>\n",
       "      <td>0</td>\n",
       "      <td>605</td>\n",
       "      <td>605</td>\n",
       "      <td>20</td>\n",
       "      <td>20</td>\n",
       "      <td>605</td>\n",
       "      <td>605</td>\n",
       "    </tr>\n",
       "    <tr>\n",
       "      <th>2009</th>\n",
       "      <td>0</td>\n",
       "      <td>631</td>\n",
       "      <td>631</td>\n",
       "      <td>22</td>\n",
       "      <td>22</td>\n",
       "      <td>631</td>\n",
       "      <td>631</td>\n",
       "    </tr>\n",
       "    <tr>\n",
       "      <th>2010</th>\n",
       "      <td>0</td>\n",
       "      <td>611</td>\n",
       "      <td>611</td>\n",
       "      <td>39</td>\n",
       "      <td>39</td>\n",
       "      <td>611</td>\n",
       "      <td>611</td>\n",
       "    </tr>\n",
       "    <tr>\n",
       "      <th>2011</th>\n",
       "      <td>0</td>\n",
       "      <td>598</td>\n",
       "      <td>598</td>\n",
       "      <td>28</td>\n",
       "      <td>28</td>\n",
       "      <td>598</td>\n",
       "      <td>598</td>\n",
       "    </tr>\n",
       "    <tr>\n",
       "      <th>2012</th>\n",
       "      <td>0</td>\n",
       "      <td>580</td>\n",
       "      <td>580</td>\n",
       "      <td>32</td>\n",
       "      <td>32</td>\n",
       "      <td>580</td>\n",
       "      <td>580</td>\n",
       "    </tr>\n",
       "    <tr>\n",
       "      <th>2013</th>\n",
       "      <td>0</td>\n",
       "      <td>600</td>\n",
       "      <td>600</td>\n",
       "      <td>83</td>\n",
       "      <td>83</td>\n",
       "      <td>600</td>\n",
       "      <td>600</td>\n",
       "    </tr>\n",
       "    <tr>\n",
       "      <th>2014</th>\n",
       "      <td>0</td>\n",
       "      <td>597</td>\n",
       "      <td>597</td>\n",
       "      <td>87</td>\n",
       "      <td>87</td>\n",
       "      <td>597</td>\n",
       "      <td>597</td>\n",
       "    </tr>\n",
       "    <tr>\n",
       "      <th>2015</th>\n",
       "      <td>0</td>\n",
       "      <td>634</td>\n",
       "      <td>634</td>\n",
       "      <td>75</td>\n",
       "      <td>75</td>\n",
       "      <td>634</td>\n",
       "      <td>634</td>\n",
       "    </tr>\n",
       "  </tbody>\n",
       "</table>\n",
       "</div>"
      ],
      "text/plain": [
       "      msafips  cbsafips  age  studftpt  schlvl  relref95  Living Independently\n",
       "year                                                                          \n",
       "2004        0       468  468        21      21       468                   468\n",
       "2005        0       652  652        28      28       652                   652\n",
       "2006        0       580  580        34      34       580                   580\n",
       "2007        0       626  626        37      37       626                   626\n",
       "2008        0       605  605        20      20       605                   605\n",
       "2009        0       631  631        22      22       631                   631\n",
       "2010        0       611  611        39      39       611                   611\n",
       "2011        0       598  598        28      28       598                   598\n",
       "2012        0       580  580        32      32       580                   580\n",
       "2013        0       600  600        83      83       600                   600\n",
       "2014        0       597  597        87      87       597                   597\n",
       "2015        0       634  634        75      75       634                   634"
      ]
     },
     "execution_count": 195,
     "metadata": {},
     "output_type": "execute_result"
    }
   ],
   "source": [
    "df[df.cbsafips == 38900].groupby('year').count()"
   ]
  },
  {
   "cell_type": "code",
   "execution_count": 67,
   "metadata": {
    "collapsed": false
   },
   "outputs": [],
   "source": [
    "df_plot = pct_pivot(df_cbsa, index=['year'], columns=['Living Independently'])"
   ]
  },
  {
   "cell_type": "code",
   "execution_count": 197,
   "metadata": {
    "collapsed": false
   },
   "outputs": [
    {
     "data": {
      "image/png": "[encoded data removed]",
      "text/plain": [
       "<matplotlib.figure.Figure at 0x112245210>"
      ]
     },
     "metadata": {},
     "output_type": "display_data"
    }
   ],
   "source": [
    "line_chart(df_plot[1], ylim=[0,0.8])"
   ]
  },
  {
   "cell_type": "code",
   "execution_count": 94,
   "metadata": {
    "collapsed": false
   },
   "outputs": [],
   "source": [
    "df_plot = pct_pivot(df, index=['cbsafips', 'year'], columns=['Living Independently'])\n",
    "df_plot = df_plot.unstack(level=0)[1][[41860,35620, 18140, 38900]].rename(columns={41860:'SF/Oakland',\n",
    "                                                                        35620:'NYC',\n",
    "                                                                        18140:'Columbus, OH',\n",
    "                                                                        38900:'Portland, OR'})"
   ]
  },
  {
   "cell_type": "code",
   "execution_count": 96,
   "metadata": {
    "collapsed": false
   },
   "outputs": [
    {
     "data": {
      "image/png": "[encoded data removed]",
      "text/plain": [
       "<matplotlib.figure.Figure at 0x10b3a0450>"
      ]
     },
     "metadata": {},
     "output_type": "display_data"
    }
   ],
   "source": [
    "line_chart(df_plot, #SF/Oakland, NYC, Columbus, Portland\n",
    "           ylim=[0,1],\n",
    "           color='gbrc',\n",
    "          title='% Independent by Year for selected CBSAs, 2004-2015',\n",
    "          filename = 'Selected CBSAs.pdf',\n",
    "          legend_title = 'Core Based Statistical Area',\n",
    "          legend_loc = 'lower left')"
   ]
  },
  {
   "cell_type": "code",
   "execution_count": 116,
   "metadata": {
    "collapsed": false
   },
   "outputs": [
    {
     "data": {
      "text/plain": [
       "Index([u'year', u'msafips', u'cbsafips', u'age', u'studftpt', u'schlvl',\n",
       "       u'relref95', u'Living Independently'],\n",
       "      dtype='object')"
      ]
     },
     "execution_count": 116,
     "metadata": {},
     "output_type": "execute_result"
    }
   ],
   "source": [
    "df.columns"
   ]
  },
  {
   "cell_type": "code",
   "execution_count": 71,
   "metadata": {
    "collapsed": true
   },
   "outputs": [],
   "source": [
    "def pct_pivot(data, index=['In Sample'], columns=['Living Independently']):\n",
    "    table = pd.pivot_table(data, values='studftpt', index=index, columns=columns,\n",
    "               aggfunc=np.count_nonzero,\n",
    "              margins=True)\n",
    "    table.drop('All', inplace=True)\n",
    "    return table.div( table.iloc[:,-1], axis=0 )"
   ]
  },
  {
   "cell_type": "code",
   "execution_count": 98,
   "metadata": {
    "collapsed": false
   },
   "outputs": [],
   "source": [
    "df_plot = pct_pivot(df, index=['year', 'age'], columns=['Living Independently'])"
   ]
  },
  {
   "cell_type": "code",
   "execution_count": 99,
   "metadata": {
    "collapsed": false
   },
   "outputs": [
    {
     "data": {
      "text/html": [
       "<div>\n",
       "<table border=\"1\" class=\"dataframe\">\n",
       "  <thead>\n",
       "    <tr style=\"text-align: right;\">\n",
       "      <th></th>\n",
       "      <th>Living Independently</th>\n",
       "      <th>0</th>\n",
       "      <th>1</th>\n",
       "      <th>All</th>\n",
       "    </tr>\n",
       "    <tr>\n",
       "      <th>year</th>\n",
       "      <th>age</th>\n",
       "      <th></th>\n",
       "      <th></th>\n",
       "      <th></th>\n",
       "    </tr>\n",
       "  </thead>\n",
       "  <tbody>\n",
       "    <tr>\n",
       "      <th rowspan=\"5\" valign=\"top\">1990</th>\n",
       "      <th>18</th>\n",
       "      <td>0.870245</td>\n",
       "      <td>0.129755</td>\n",
       "      <td>1</td>\n",
       "    </tr>\n",
       "    <tr>\n",
       "      <th>19</th>\n",
       "      <td>0.746402</td>\n",
       "      <td>0.253598</td>\n",
       "      <td>1</td>\n",
       "    </tr>\n",
       "    <tr>\n",
       "      <th>20</th>\n",
       "      <td>0.625926</td>\n",
       "      <td>0.374074</td>\n",
       "      <td>1</td>\n",
       "    </tr>\n",
       "    <tr>\n",
       "      <th>21</th>\n",
       "      <td>0.531404</td>\n",
       "      <td>0.468596</td>\n",
       "      <td>1</td>\n",
       "    </tr>\n",
       "    <tr>\n",
       "      <th>22</th>\n",
       "      <td>0.451659</td>\n",
       "      <td>0.548341</td>\n",
       "      <td>1</td>\n",
       "    </tr>\n",
       "  </tbody>\n",
       "</table>\n",
       "</div>"
      ],
      "text/plain": [
       "Living Independently         0         1  All\n",
       "year age                                     \n",
       "1990 18               0.870245  0.129755    1\n",
       "     19               0.746402  0.253598    1\n",
       "     20               0.625926  0.374074    1\n",
       "     21               0.531404  0.468596    1\n",
       "     22               0.451659  0.548341    1"
      ]
     },
     "execution_count": 99,
     "metadata": {},
     "output_type": "execute_result"
    }
   ],
   "source": [
    "df_plot.head()"
   ]
  },
  {
   "cell_type": "code",
   "execution_count": 100,
   "metadata": {
    "collapsed": false
   },
   "outputs": [
    {
     "data": {
      "image/png": "[encoded data removed]",
      "text/plain": [
       "<matplotlib.figure.Figure at 0x109709450>"
      ]
     },
     "metadata": {},
     "output_type": "display_data"
    }
   ],
   "source": [
    "line_chart(df_plot.unstack(level=0)[1][[2000,2009,2014]],\n",
    "           ylim=[0,1], color='rbk',\n",
    "           title='% Living Independently By Age, Sample Years',\n",
    "          filename='Age Distributions.pdf',\n",
    "          legend_title = 'Year',\n",
    "          legend_loc = 'upper left')"
   ]
  },
  {
   "cell_type": "markdown",
   "metadata": {},
   "source": [
    "Next steps:\n",
    "- discrete choice models?\n",
    "- Regresions on other variables?\n",
    "- trends for specific CBSA's over time?"
   ]
  },
  {
   "cell_type": "markdown",
   "metadata": {},
   "source": [
    "To have for Tuesday:\n",
    "- National graph\n",
    "- Trends - Bay Area Graph, NY, Columbus, Portland (Selected)\n",
    "- Scatter plots (2014) - Median Rent\n",
    "- Line graph of age, 2014 (if possible, over time)\n",
    "\n",
    "For presentation: what are potential next steps?\n",
    "- Weak trends overall\n",
    "- Will consider a discrete choice model of choice factors"
   ]
  },
  {
   "cell_type": "markdown",
   "metadata": {},
   "source": [
    "Sample code from http://statsmodels.sourceforge.net/stable/examples/notebooks/generated/discrete_choice_example.html"
   ]
  },
  {
   "cell_type": "code",
   "execution_count": 5,
   "metadata": {
    "collapsed": true
   },
   "outputs": [],
   "source": [
    "columns_to_keep_model = ['year',\n",
    "                         'cbsafips',\n",
    "                         'age',\n",
    "                         'studftpt',\n",
    "                         'schlvl',\n",
    "                         'relref95',\n",
    "                        'earnwke',\n",
    "                        'grade92',\n",
    "                        'ownchild',\n",
    "                        'marital',\n",
    "                        'ethnic',\n",
    "                        'race',\n",
    "                        'sex',\n",
    "                        'Median_Rent']"
   ]
  },
  {
   "cell_type": "markdown",
   "metadata": {},
   "source": [
    "ownchild - number from 0-8\n",
    "\n",
    "earnwke - number in dollars\n",
    "\n",
    "grade92:\n",
    "    - range(31,39) : didn't complete HS\n",
    "    - 39: completed HS\n",
    "    - 40: some college, no degree\n",
    "    - 41: associate's degree, vocational\n",
    "    - 42: associate's degree, educational\n",
    "    - 43: Bachelor's\n",
    "    - 44: masters\n",
    "    - 45: professional degree\n",
    "    - 46: doctorate\n",
    "    \n",
    "Marital status:\n",
    "    - 1: Married civilian, spouse present\n",
    "    - 2: armed forces, spouse present\n",
    "    - 3: married, spouse absent or separated\n",
    "    - 4: widowed\n",
    "    - 5: divorced\n",
    "    - 6: separated\n",
    "    - 7: never married\n",
    "    \n",
    "prdtrace:\n",
    "    - 1: white\n",
    "    - 2: black\n",
    "    - 3: American indian\n",
    "    - 4: Asian only\n",
    "    - 5: Hawaiian/Pacific Islander only\n",
    "    - all other will be grouped\n",
    "\n",
    "ethnic:\n",
    "    - 8: non-hispanic\n",
    "    - 9: don't know\n",
    "    - 1-5: hispanic\n",
    "    \n",
    "sex:\n",
    "    - 1: Male\n",
    "    - 2: Female"
   ]
  },
  {
   "cell_type": "code",
   "execution_count": 53,
   "metadata": {
    "collapsed": false
   },
   "outputs": [
    {
     "data": {
      "text/html": [
       "<div>\n",
       "<table border=\"1\" class=\"dataframe\">\n",
       "  <thead>\n",
       "    <tr style=\"text-align: right;\">\n",
       "      <th></th>\n",
       "      <th>GEO.display-label</th>\n",
       "      <th>Median_Rent</th>\n",
       "      <th>Median_Rent_MOE</th>\n",
       "    </tr>\n",
       "    <tr>\n",
       "      <th>cbsafips</th>\n",
       "      <th></th>\n",
       "      <th></th>\n",
       "      <th></th>\n",
       "    </tr>\n",
       "  </thead>\n",
       "  <tbody>\n",
       "    <tr>\n",
       "      <th>10140</th>\n",
       "      <td>Aberdeen, WA Micro Area</td>\n",
       "      <td>819</td>\n",
       "      <td>57</td>\n",
       "    </tr>\n",
       "    <tr>\n",
       "      <th>10180</th>\n",
       "      <td>Abilene, TX Metro Area</td>\n",
       "      <td>814</td>\n",
       "      <td>44</td>\n",
       "    </tr>\n",
       "  </tbody>\n",
       "</table>\n",
       "</div>"
      ],
      "text/plain": [
       "                GEO.display-label  Median_Rent  Median_Rent_MOE\n",
       "cbsafips                                                       \n",
       "10140     Aberdeen, WA Micro Area          819               57\n",
       "10180      Abilene, TX Metro Area          814               44"
      ]
     },
     "execution_count": 53,
     "metadata": {},
     "output_type": "execute_result"
    }
   ],
   "source": [
    "df_rent = pd.read_csv('/Users/Lee/Documents/jupyter/notebooks/CP207/Census_Data/Median_Rent/ACS_14_1YR_B25064/ACS_14_1YR_B25064_with_ann.csv')\n",
    "df_rent.rename(columns={'GEO.id2':'cbsafips', 'HD01_VD01':'Median_Rent', 'HD02_VD01':'Median_Rent_MOE'},inplace=True)\n",
    "df_rent.set_index('cbsafips', drop=True, inplace=True)\n",
    "df_rent.drop('GEO.id', axis=1, inplace=True)\n",
    "df_rent.head(2)"
   ]
  },
  {
   "cell_type": "code",
   "execution_count": 55,
   "metadata": {
    "collapsed": false
   },
   "outputs": [
    {
     "name": "stdout",
     "output_type": "stream",
     "text": [
      "Processing /Users/Lee/Documents/jupyter/notebooks/CP207/CPS Data/morg14.dta\n"
     ]
    }
   ],
   "source": [
    "df = process_CPS_file('/Users/Lee/Documents/jupyter/notebooks/CP207/CPS Data/morg14.dta', limit_columns=False)"
   ]
  },
  {
   "cell_type": "code",
   "execution_count": 56,
   "metadata": {
    "collapsed": false
   },
   "outputs": [
    {
     "data": {
      "text/html": [
       "<div>\n",
       "<table border=\"1\" class=\"dataframe\">\n",
       "  <thead>\n",
       "    <tr style=\"text-align: right;\">\n",
       "      <th></th>\n",
       "      <th>year</th>\n",
       "      <th>cbsafips</th>\n",
       "      <th>age</th>\n",
       "      <th>studftpt</th>\n",
       "      <th>schlvl</th>\n",
       "      <th>relref95</th>\n",
       "      <th>earnwke</th>\n",
       "      <th>grade92</th>\n",
       "      <th>ownchild</th>\n",
       "      <th>marital</th>\n",
       "      <th>ethnic</th>\n",
       "      <th>race</th>\n",
       "      <th>sex</th>\n",
       "      <th>Median_Rent</th>\n",
       "    </tr>\n",
       "  </thead>\n",
       "  <tbody>\n",
       "    <tr>\n",
       "      <th>2</th>\n",
       "      <td>2014</td>\n",
       "      <td>26620</td>\n",
       "      <td>29</td>\n",
       "      <td>NaN</td>\n",
       "      <td>NaN</td>\n",
       "      <td>4</td>\n",
       "      <td>1692</td>\n",
       "      <td>43</td>\n",
       "      <td>0</td>\n",
       "      <td>7</td>\n",
       "      <td>NaN</td>\n",
       "      <td>1</td>\n",
       "      <td>2</td>\n",
       "      <td>718</td>\n",
       "    </tr>\n",
       "    <tr>\n",
       "      <th>4</th>\n",
       "      <td>2014</td>\n",
       "      <td>33860</td>\n",
       "      <td>27</td>\n",
       "      <td>NaN</td>\n",
       "      <td>NaN</td>\n",
       "      <td>1</td>\n",
       "      <td>450</td>\n",
       "      <td>41</td>\n",
       "      <td>2</td>\n",
       "      <td>1</td>\n",
       "      <td>NaN</td>\n",
       "      <td>2</td>\n",
       "      <td>2</td>\n",
       "      <td>817</td>\n",
       "    </tr>\n",
       "    <tr>\n",
       "      <th>5</th>\n",
       "      <td>2014</td>\n",
       "      <td>33860</td>\n",
       "      <td>30</td>\n",
       "      <td>NaN</td>\n",
       "      <td>NaN</td>\n",
       "      <td>3</td>\n",
       "      <td>1090</td>\n",
       "      <td>41</td>\n",
       "      <td>2</td>\n",
       "      <td>1</td>\n",
       "      <td>NaN</td>\n",
       "      <td>2</td>\n",
       "      <td>1</td>\n",
       "      <td>817</td>\n",
       "    </tr>\n",
       "    <tr>\n",
       "      <th>12</th>\n",
       "      <td>2014</td>\n",
       "      <td>33660</td>\n",
       "      <td>29</td>\n",
       "      <td>NaN</td>\n",
       "      <td>NaN</td>\n",
       "      <td>2</td>\n",
       "      <td>880</td>\n",
       "      <td>39</td>\n",
       "      <td>0</td>\n",
       "      <td>7</td>\n",
       "      <td>NaN</td>\n",
       "      <td>1</td>\n",
       "      <td>1</td>\n",
       "      <td>822</td>\n",
       "    </tr>\n",
       "    <tr>\n",
       "      <th>13</th>\n",
       "      <td>2014</td>\n",
       "      <td>33660</td>\n",
       "      <td>25</td>\n",
       "      <td>NaN</td>\n",
       "      <td>NaN</td>\n",
       "      <td>14</td>\n",
       "      <td>360</td>\n",
       "      <td>39</td>\n",
       "      <td>0</td>\n",
       "      <td>7</td>\n",
       "      <td>NaN</td>\n",
       "      <td>1</td>\n",
       "      <td>2</td>\n",
       "      <td>822</td>\n",
       "    </tr>\n",
       "  </tbody>\n",
       "</table>\n",
       "</div>"
      ],
      "text/plain": [
       "    year  cbsafips  age  studftpt  schlvl  relref95  earnwke  grade92  \\\n",
       "2   2014     26620   29       NaN     NaN         4     1692       43   \n",
       "4   2014     33860   27       NaN     NaN         1      450       41   \n",
       "5   2014     33860   30       NaN     NaN         3     1090       41   \n",
       "12  2014     33660   29       NaN     NaN         2      880       39   \n",
       "13  2014     33660   25       NaN     NaN        14      360       39   \n",
       "\n",
       "    ownchild  marital  ethnic  race  sex  Median_Rent  \n",
       "2          0        7     NaN     1    2          718  \n",
       "4          2        1     NaN     2    2          817  \n",
       "5          2        1     NaN     2    1          817  \n",
       "12         0        7     NaN     1    1          822  \n",
       "13         0        7     NaN     1    2          822  "
      ]
     },
     "execution_count": 56,
     "metadata": {},
     "output_type": "execute_result"
    }
   ],
   "source": [
    "df = df.merge(df_rent, how='left', left_on='cbsafips', right_index=True)\n",
    "df = df[columns_to_keep_model]\n",
    "df.head()"
   ]
  },
  {
   "cell_type": "code",
   "execution_count": 57,
   "metadata": {
    "collapsed": false
   },
   "outputs": [
    {
     "data": {
      "text/plain": [
       "77"
      ]
     },
     "execution_count": 57,
     "metadata": {},
     "output_type": "execute_result"
    }
   ],
   "source": [
    "len(df[df['earnwke'] == 0][columns_to_keep_model])"
   ]
  },
  {
   "cell_type": "code",
   "execution_count": 58,
   "metadata": {
    "collapsed": false
   },
   "outputs": [
    {
     "data": {
      "text/html": [
       "<div>\n",
       "<table border=\"1\" class=\"dataframe\">\n",
       "  <thead>\n",
       "    <tr style=\"text-align: right;\">\n",
       "      <th></th>\n",
       "      <th>year</th>\n",
       "      <th>cbsafips</th>\n",
       "      <th>age</th>\n",
       "      <th>studftpt</th>\n",
       "      <th>schlvl</th>\n",
       "      <th>relref95</th>\n",
       "      <th>earnwke</th>\n",
       "      <th>grade92</th>\n",
       "      <th>ownchild</th>\n",
       "      <th>marital</th>\n",
       "      <th>ethnic</th>\n",
       "      <th>race</th>\n",
       "      <th>sex</th>\n",
       "      <th>Median_Rent</th>\n",
       "    </tr>\n",
       "  </thead>\n",
       "  <tbody>\n",
       "    <tr>\n",
       "      <th>2</th>\n",
       "      <td>2014</td>\n",
       "      <td>26620</td>\n",
       "      <td>29</td>\n",
       "      <td>NaN</td>\n",
       "      <td>NaN</td>\n",
       "      <td>4</td>\n",
       "      <td>1692</td>\n",
       "      <td>43</td>\n",
       "      <td>0</td>\n",
       "      <td>7</td>\n",
       "      <td>NaN</td>\n",
       "      <td>1</td>\n",
       "      <td>2</td>\n",
       "      <td>718</td>\n",
       "    </tr>\n",
       "    <tr>\n",
       "      <th>4</th>\n",
       "      <td>2014</td>\n",
       "      <td>33860</td>\n",
       "      <td>27</td>\n",
       "      <td>NaN</td>\n",
       "      <td>NaN</td>\n",
       "      <td>1</td>\n",
       "      <td>450</td>\n",
       "      <td>41</td>\n",
       "      <td>2</td>\n",
       "      <td>1</td>\n",
       "      <td>NaN</td>\n",
       "      <td>2</td>\n",
       "      <td>2</td>\n",
       "      <td>817</td>\n",
       "    </tr>\n",
       "    <tr>\n",
       "      <th>5</th>\n",
       "      <td>2014</td>\n",
       "      <td>33860</td>\n",
       "      <td>30</td>\n",
       "      <td>NaN</td>\n",
       "      <td>NaN</td>\n",
       "      <td>3</td>\n",
       "      <td>1090</td>\n",
       "      <td>41</td>\n",
       "      <td>2</td>\n",
       "      <td>1</td>\n",
       "      <td>NaN</td>\n",
       "      <td>2</td>\n",
       "      <td>1</td>\n",
       "      <td>817</td>\n",
       "    </tr>\n",
       "    <tr>\n",
       "      <th>12</th>\n",
       "      <td>2014</td>\n",
       "      <td>33660</td>\n",
       "      <td>29</td>\n",
       "      <td>NaN</td>\n",
       "      <td>NaN</td>\n",
       "      <td>2</td>\n",
       "      <td>880</td>\n",
       "      <td>39</td>\n",
       "      <td>0</td>\n",
       "      <td>7</td>\n",
       "      <td>NaN</td>\n",
       "      <td>1</td>\n",
       "      <td>1</td>\n",
       "      <td>822</td>\n",
       "    </tr>\n",
       "    <tr>\n",
       "      <th>13</th>\n",
       "      <td>2014</td>\n",
       "      <td>33660</td>\n",
       "      <td>25</td>\n",
       "      <td>NaN</td>\n",
       "      <td>NaN</td>\n",
       "      <td>14</td>\n",
       "      <td>360</td>\n",
       "      <td>39</td>\n",
       "      <td>0</td>\n",
       "      <td>7</td>\n",
       "      <td>NaN</td>\n",
       "      <td>1</td>\n",
       "      <td>2</td>\n",
       "      <td>822</td>\n",
       "    </tr>\n",
       "  </tbody>\n",
       "</table>\n",
       "</div>"
      ],
      "text/plain": [
       "    year  cbsafips  age  studftpt  schlvl  relref95  earnwke  grade92  \\\n",
       "2   2014     26620   29       NaN     NaN         4     1692       43   \n",
       "4   2014     33860   27       NaN     NaN         1      450       41   \n",
       "5   2014     33860   30       NaN     NaN         3     1090       41   \n",
       "12  2014     33660   29       NaN     NaN         2      880       39   \n",
       "13  2014     33660   25       NaN     NaN        14      360       39   \n",
       "\n",
       "    ownchild  marital  ethnic  race  sex  Median_Rent  \n",
       "2          0        7     NaN     1    2          718  \n",
       "4          2        1     NaN     2    2          817  \n",
       "5          2        1     NaN     2    1          817  \n",
       "12         0        7     NaN     1    1          822  \n",
       "13         0        7     NaN     1    2          822  "
      ]
     },
     "execution_count": 58,
     "metadata": {},
     "output_type": "execute_result"
    }
   ],
   "source": [
    "df[columns_to_keep_model].head()"
   ]
  },
  {
   "cell_type": "code",
   "execution_count": 59,
   "metadata": {
    "collapsed": true
   },
   "outputs": [],
   "source": [
    "#Fill missing earnings with 0\n",
    "df['earnwke'].fillna(0, inplace=True)"
   ]
  },
  {
   "cell_type": "code",
   "execution_count": 60,
   "metadata": {
    "collapsed": false
   },
   "outputs": [
    {
     "data": {
      "text/plain": [
       "0"
      ]
     },
     "execution_count": 60,
     "metadata": {},
     "output_type": "execute_result"
    }
   ],
   "source": [
    "len(df[pd.isnull(df['earnwke'])][columns_to_keep_model])"
   ]
  },
  {
   "cell_type": "code",
   "execution_count": 61,
   "metadata": {
    "collapsed": true
   },
   "outputs": [],
   "source": [
    "df['gender_m'] = (df['sex'] == 1).apply(lambda x: 1 if x else 0)"
   ]
  },
  {
   "cell_type": "code",
   "execution_count": 62,
   "metadata": {
    "collapsed": true
   },
   "outputs": [],
   "source": [
    "df['has_children'] = (df['ownchild'] > 0).apply(lambda x: 1 if x else 0)"
   ]
  },
  {
   "cell_type": "markdown",
   "metadata": {},
   "source": [
    "Marital status:\n",
    "    - 1: Married civilian, spouse present\n",
    "    - 2: armed forces, spouse present\n",
    "    - 3: married, spouse absent or separated\n",
    "    - 4: widowed\n",
    "    - 5: divorced\n",
    "    - 6: separated\n",
    "    - 7: never married"
   ]
  },
  {
   "cell_type": "code",
   "execution_count": 63,
   "metadata": {
    "collapsed": true
   },
   "outputs": [],
   "source": [
    "df['never_married'] = (df['marital'] == 7).apply(lambda x: 1 if x else 0)"
   ]
  },
  {
   "cell_type": "markdown",
   "metadata": {},
   "source": [
    "prdtrace:\n",
    "    - 1: white\n",
    "    - 2: black\n",
    "    - 3: American indian\n",
    "    - 4: Asian only\n",
    "    - 5: Hawaiian/Pacific Islander only\n",
    "    - all other will be grouped"
   ]
  },
  {
   "cell_type": "code",
   "execution_count": 64,
   "metadata": {
    "collapsed": true
   },
   "outputs": [],
   "source": [
    "df['is_black'] = (df.race == 2).apply(lambda x: 1 if x else 0)\n",
    "df['is_asian'] = (df.race == 4).apply(lambda x: 1 if x else 0)\n",
    "df['is_am_indian'] = (df.race == 3).apply(lambda x: 1 if x else 0)\n",
    "df['is_hispanic'] = (df.ethnic != 8).apply(lambda x: 1 if x else 0)"
   ]
  },
  {
   "cell_type": "markdown",
   "metadata": {},
   "source": [
    "grade92:\n",
    "    - range(31,39) : didn't complete HS\n",
    "    - 39: completed HS\n",
    "    - 40: some college, no degree\n",
    "    - 41: associate's degree, vocational\n",
    "    - 42: associate's degree, educational\n",
    "    - 43: Bachelor's\n",
    "    - 44: masters\n",
    "    - 45: professional degree\n",
    "    - 46: doctorate"
   ]
  },
  {
   "cell_type": "code",
   "execution_count": 65,
   "metadata": {
    "collapsed": false
   },
   "outputs": [],
   "source": [
    "df['ed_below_hs'] = (df['grade92'].isin(range(31,39))).apply(lambda x: 1 if x else 0)\n",
    "df['ed_completed_hs'] = (df['grade92'].isin([39])).apply(lambda x: 1 if x else 0)\n",
    "df['ed_no_completed_higher'] = (df['grade92'].isin([40])).apply(lambda x: 1 if x else 0)\n",
    "df['ed_associates_deg'] = (df['grade92'].isin([41,42])).apply(lambda x: 1 if x else 0)\n",
    "#df['ed_bachelors'] = (data['grade92'].isin([44,45,46])).apply(lambda x: 1 if x else 0)\n",
    "df['ed_masters_and_above'] = (df['grade92'].isin([44,45,46])).apply(lambda x: 1 if x else 0)"
   ]
  },
  {
   "cell_type": "code",
   "execution_count": 66,
   "metadata": {
    "collapsed": false
   },
   "outputs": [
    {
     "name": "stdout",
     "output_type": "stream",
     "text": [
      "0    65701\n",
      "1     9425\n",
      "Name: ed_below_hs, dtype: int64\n",
      "0    53165\n",
      "1    21961\n",
      "Name: ed_completed_hs, dtype: int64\n",
      "0    59859\n",
      "1    15267\n",
      "Name: ed_no_completed_higher, dtype: int64\n",
      "0    68248\n",
      "1     6878\n",
      "Name: ed_associates_deg, dtype: int64\n",
      "0    69321\n",
      "1     5805\n",
      "Name: ed_masters_and_above, dtype: int64\n"
     ]
    }
   ],
   "source": [
    "print (df.ed_below_hs.value_counts())\n",
    "print (df.ed_completed_hs.value_counts())\n",
    "print (df.ed_no_completed_higher.value_counts())\n",
    "print (df.ed_associates_deg.value_counts())\n",
    "print (df.ed_masters_and_above.value_counts())"
   ]
  },
  {
   "cell_type": "code",
   "execution_count": 67,
   "metadata": {
    "collapsed": false
   },
   "outputs": [
    {
     "data": {
      "text/plain": [
       "75126"
      ]
     },
     "execution_count": 67,
     "metadata": {},
     "output_type": "execute_result"
    }
   ],
   "source": [
    "len(df)"
   ]
  },
  {
   "cell_type": "code",
   "execution_count": 68,
   "metadata": {
    "collapsed": false
   },
   "outputs": [
    {
     "data": {
      "text/plain": [
       "0    59336\n",
       "1    15790\n",
       "Name: grade92, dtype: int64"
      ]
     },
     "execution_count": 68,
     "metadata": {},
     "output_type": "execute_result"
    }
   ],
   "source": [
    "(df['grade92'].isin([43])).apply(lambda x: 1 if x else 0).value_counts()"
   ]
  },
  {
   "cell_type": "code",
   "execution_count": 69,
   "metadata": {
    "collapsed": false
   },
   "outputs": [],
   "source": [
    "def independently(data):\n",
    "    return (data['relref95'].isin([1, 2, 3, 12, 13, 14, 15, 16, 17 , 18])).apply(lambda x: 1 if x else 0)"
   ]
  },
  {
   "cell_type": "code",
   "execution_count": 70,
   "metadata": {
    "collapsed": false
   },
   "outputs": [],
   "source": [
    "df['Living_Independently'] = independently(df)"
   ]
  },
  {
   "cell_type": "code",
   "execution_count": 71,
   "metadata": {
    "collapsed": false
   },
   "outputs": [],
   "source": [
    "df = df[df.age.notnull()]"
   ]
  },
  {
   "cell_type": "code",
   "execution_count": 83,
   "metadata": {
    "collapsed": false
   },
   "outputs": [
    {
     "data": {
      "text/plain": [
       "count    75126.000000\n",
       "mean       481.484443\n",
       "std        533.801565\n",
       "min          0.000000\n",
       "25%          0.000000\n",
       "50%        380.000000\n",
       "75%        720.000000\n",
       "max       2884.610000\n",
       "Name: earnwke, dtype: float64"
      ]
     },
     "execution_count": 83,
     "metadata": {},
     "output_type": "execute_result"
    }
   ],
   "source": [
    "df.earnwke.describe()"
   ]
  },
  {
   "cell_type": "code",
   "execution_count": 84,
   "metadata": {
    "collapsed": true
   },
   "outputs": [],
   "source": [
    "df['earnwke_100s'] = df['earnwke']/100\n",
    "df['Median_Rent_100s'] = df['Median_Rent']/100"
   ]
  },
  {
   "cell_type": "code",
   "execution_count": 130,
   "metadata": {
    "collapsed": true
   },
   "outputs": [],
   "source": [
    "df['earnwke_transformed'] = df['earnwke']\n",
    "df['earnwke_transformed'] = df['earnwke_transformed'].apply(lambda x: 1 if x < 1 else x)"
   ]
  },
  {
   "cell_type": "code",
   "execution_count": 132,
   "metadata": {
    "collapsed": true
   },
   "outputs": [],
   "source": [
    "df['earnwke_ln'] = np.log(df['earnwke_transformed'])\n",
    "df['Median_Rent_ln'] = np.log(df['Median_Rent'])"
   ]
  },
  {
   "cell_type": "code",
   "execution_count": 127,
   "metadata": {
    "collapsed": false
   },
   "outputs": [
    {
     "data": {
      "text/html": [
       "<div>\n",
       "<table border=\"1\" class=\"dataframe\">\n",
       "  <thead>\n",
       "    <tr style=\"text-align: right;\">\n",
       "      <th></th>\n",
       "      <th>earnwke</th>\n",
       "      <th>zero_earnings</th>\n",
       "      <th>marital</th>\n",
       "      <th>Living_Independently</th>\n",
       "    </tr>\n",
       "  </thead>\n",
       "  <tbody>\n",
       "    <tr>\n",
       "      <th>17</th>\n",
       "      <td>0</td>\n",
       "      <td>1</td>\n",
       "      <td>6</td>\n",
       "      <td>1</td>\n",
       "    </tr>\n",
       "    <tr>\n",
       "      <th>27</th>\n",
       "      <td>0</td>\n",
       "      <td>1</td>\n",
       "      <td>7</td>\n",
       "      <td>0</td>\n",
       "    </tr>\n",
       "    <tr>\n",
       "      <th>47</th>\n",
       "      <td>0</td>\n",
       "      <td>1</td>\n",
       "      <td>7</td>\n",
       "      <td>0</td>\n",
       "    </tr>\n",
       "    <tr>\n",
       "      <th>51</th>\n",
       "      <td>0</td>\n",
       "      <td>1</td>\n",
       "      <td>7</td>\n",
       "      <td>1</td>\n",
       "    </tr>\n",
       "    <tr>\n",
       "      <th>64</th>\n",
       "      <td>0</td>\n",
       "      <td>1</td>\n",
       "      <td>2</td>\n",
       "      <td>1</td>\n",
       "    </tr>\n",
       "    <tr>\n",
       "      <th>96</th>\n",
       "      <td>0</td>\n",
       "      <td>1</td>\n",
       "      <td>1</td>\n",
       "      <td>1</td>\n",
       "    </tr>\n",
       "    <tr>\n",
       "      <th>97</th>\n",
       "      <td>0</td>\n",
       "      <td>1</td>\n",
       "      <td>1</td>\n",
       "      <td>1</td>\n",
       "    </tr>\n",
       "    <tr>\n",
       "      <th>142</th>\n",
       "      <td>0</td>\n",
       "      <td>1</td>\n",
       "      <td>5</td>\n",
       "      <td>1</td>\n",
       "    </tr>\n",
       "    <tr>\n",
       "      <th>177</th>\n",
       "      <td>0</td>\n",
       "      <td>1</td>\n",
       "      <td>1</td>\n",
       "      <td>0</td>\n",
       "    </tr>\n",
       "    <tr>\n",
       "      <th>195</th>\n",
       "      <td>0</td>\n",
       "      <td>1</td>\n",
       "      <td>7</td>\n",
       "      <td>1</td>\n",
       "    </tr>\n",
       "    <tr>\n",
       "      <th>200</th>\n",
       "      <td>0</td>\n",
       "      <td>1</td>\n",
       "      <td>3</td>\n",
       "      <td>0</td>\n",
       "    </tr>\n",
       "    <tr>\n",
       "      <th>217</th>\n",
       "      <td>0</td>\n",
       "      <td>1</td>\n",
       "      <td>7</td>\n",
       "      <td>0</td>\n",
       "    </tr>\n",
       "    <tr>\n",
       "      <th>223</th>\n",
       "      <td>0</td>\n",
       "      <td>1</td>\n",
       "      <td>7</td>\n",
       "      <td>0</td>\n",
       "    </tr>\n",
       "    <tr>\n",
       "      <th>226</th>\n",
       "      <td>0</td>\n",
       "      <td>1</td>\n",
       "      <td>1</td>\n",
       "      <td>1</td>\n",
       "    </tr>\n",
       "    <tr>\n",
       "      <th>254</th>\n",
       "      <td>0</td>\n",
       "      <td>1</td>\n",
       "      <td>7</td>\n",
       "      <td>1</td>\n",
       "    </tr>\n",
       "    <tr>\n",
       "      <th>261</th>\n",
       "      <td>0</td>\n",
       "      <td>1</td>\n",
       "      <td>1</td>\n",
       "      <td>1</td>\n",
       "    </tr>\n",
       "    <tr>\n",
       "      <th>271</th>\n",
       "      <td>0</td>\n",
       "      <td>1</td>\n",
       "      <td>7</td>\n",
       "      <td>0</td>\n",
       "    </tr>\n",
       "    <tr>\n",
       "      <th>280</th>\n",
       "      <td>0</td>\n",
       "      <td>1</td>\n",
       "      <td>7</td>\n",
       "      <td>0</td>\n",
       "    </tr>\n",
       "    <tr>\n",
       "      <th>288</th>\n",
       "      <td>0</td>\n",
       "      <td>1</td>\n",
       "      <td>3</td>\n",
       "      <td>1</td>\n",
       "    </tr>\n",
       "    <tr>\n",
       "      <th>295</th>\n",
       "      <td>0</td>\n",
       "      <td>1</td>\n",
       "      <td>7</td>\n",
       "      <td>0</td>\n",
       "    </tr>\n",
       "    <tr>\n",
       "      <th>298</th>\n",
       "      <td>0</td>\n",
       "      <td>1</td>\n",
       "      <td>1</td>\n",
       "      <td>1</td>\n",
       "    </tr>\n",
       "    <tr>\n",
       "      <th>300</th>\n",
       "      <td>0</td>\n",
       "      <td>1</td>\n",
       "      <td>7</td>\n",
       "      <td>1</td>\n",
       "    </tr>\n",
       "    <tr>\n",
       "      <th>334</th>\n",
       "      <td>0</td>\n",
       "      <td>1</td>\n",
       "      <td>2</td>\n",
       "      <td>1</td>\n",
       "    </tr>\n",
       "    <tr>\n",
       "      <th>335</th>\n",
       "      <td>0</td>\n",
       "      <td>1</td>\n",
       "      <td>1</td>\n",
       "      <td>1</td>\n",
       "    </tr>\n",
       "    <tr>\n",
       "      <th>358</th>\n",
       "      <td>0</td>\n",
       "      <td>1</td>\n",
       "      <td>7</td>\n",
       "      <td>0</td>\n",
       "    </tr>\n",
       "    <tr>\n",
       "      <th>370</th>\n",
       "      <td>0</td>\n",
       "      <td>1</td>\n",
       "      <td>1</td>\n",
       "      <td>1</td>\n",
       "    </tr>\n",
       "    <tr>\n",
       "      <th>391</th>\n",
       "      <td>0</td>\n",
       "      <td>1</td>\n",
       "      <td>1</td>\n",
       "      <td>1</td>\n",
       "    </tr>\n",
       "    <tr>\n",
       "      <th>394</th>\n",
       "      <td>0</td>\n",
       "      <td>1</td>\n",
       "      <td>1</td>\n",
       "      <td>1</td>\n",
       "    </tr>\n",
       "    <tr>\n",
       "      <th>396</th>\n",
       "      <td>0</td>\n",
       "      <td>1</td>\n",
       "      <td>1</td>\n",
       "      <td>1</td>\n",
       "    </tr>\n",
       "    <tr>\n",
       "      <th>397</th>\n",
       "      <td>0</td>\n",
       "      <td>1</td>\n",
       "      <td>1</td>\n",
       "      <td>1</td>\n",
       "    </tr>\n",
       "    <tr>\n",
       "      <th>...</th>\n",
       "      <td>...</td>\n",
       "      <td>...</td>\n",
       "      <td>...</td>\n",
       "      <td>...</td>\n",
       "    </tr>\n",
       "    <tr>\n",
       "      <th>316515</th>\n",
       "      <td>0</td>\n",
       "      <td>1</td>\n",
       "      <td>1</td>\n",
       "      <td>0</td>\n",
       "    </tr>\n",
       "    <tr>\n",
       "      <th>316531</th>\n",
       "      <td>0</td>\n",
       "      <td>1</td>\n",
       "      <td>1</td>\n",
       "      <td>1</td>\n",
       "    </tr>\n",
       "    <tr>\n",
       "      <th>316562</th>\n",
       "      <td>0</td>\n",
       "      <td>1</td>\n",
       "      <td>7</td>\n",
       "      <td>0</td>\n",
       "    </tr>\n",
       "    <tr>\n",
       "      <th>316580</th>\n",
       "      <td>0</td>\n",
       "      <td>1</td>\n",
       "      <td>1</td>\n",
       "      <td>1</td>\n",
       "    </tr>\n",
       "    <tr>\n",
       "      <th>316598</th>\n",
       "      <td>0</td>\n",
       "      <td>1</td>\n",
       "      <td>7</td>\n",
       "      <td>0</td>\n",
       "    </tr>\n",
       "    <tr>\n",
       "      <th>316632</th>\n",
       "      <td>0</td>\n",
       "      <td>1</td>\n",
       "      <td>7</td>\n",
       "      <td>0</td>\n",
       "    </tr>\n",
       "    <tr>\n",
       "      <th>316690</th>\n",
       "      <td>0</td>\n",
       "      <td>1</td>\n",
       "      <td>7</td>\n",
       "      <td>0</td>\n",
       "    </tr>\n",
       "    <tr>\n",
       "      <th>316691</th>\n",
       "      <td>0</td>\n",
       "      <td>1</td>\n",
       "      <td>7</td>\n",
       "      <td>1</td>\n",
       "    </tr>\n",
       "    <tr>\n",
       "      <th>316725</th>\n",
       "      <td>0</td>\n",
       "      <td>1</td>\n",
       "      <td>7</td>\n",
       "      <td>0</td>\n",
       "    </tr>\n",
       "    <tr>\n",
       "      <th>316775</th>\n",
       "      <td>0</td>\n",
       "      <td>1</td>\n",
       "      <td>1</td>\n",
       "      <td>1</td>\n",
       "    </tr>\n",
       "    <tr>\n",
       "      <th>316790</th>\n",
       "      <td>0</td>\n",
       "      <td>1</td>\n",
       "      <td>7</td>\n",
       "      <td>1</td>\n",
       "    </tr>\n",
       "    <tr>\n",
       "      <th>316801</th>\n",
       "      <td>0</td>\n",
       "      <td>1</td>\n",
       "      <td>1</td>\n",
       "      <td>1</td>\n",
       "    </tr>\n",
       "    <tr>\n",
       "      <th>316817</th>\n",
       "      <td>0</td>\n",
       "      <td>1</td>\n",
       "      <td>1</td>\n",
       "      <td>1</td>\n",
       "    </tr>\n",
       "    <tr>\n",
       "      <th>316842</th>\n",
       "      <td>0</td>\n",
       "      <td>1</td>\n",
       "      <td>7</td>\n",
       "      <td>1</td>\n",
       "    </tr>\n",
       "    <tr>\n",
       "      <th>316863</th>\n",
       "      <td>0</td>\n",
       "      <td>1</td>\n",
       "      <td>7</td>\n",
       "      <td>1</td>\n",
       "    </tr>\n",
       "    <tr>\n",
       "      <th>316883</th>\n",
       "      <td>0</td>\n",
       "      <td>1</td>\n",
       "      <td>7</td>\n",
       "      <td>1</td>\n",
       "    </tr>\n",
       "    <tr>\n",
       "      <th>316886</th>\n",
       "      <td>0</td>\n",
       "      <td>1</td>\n",
       "      <td>1</td>\n",
       "      <td>1</td>\n",
       "    </tr>\n",
       "    <tr>\n",
       "      <th>316892</th>\n",
       "      <td>0</td>\n",
       "      <td>1</td>\n",
       "      <td>1</td>\n",
       "      <td>1</td>\n",
       "    </tr>\n",
       "    <tr>\n",
       "      <th>316909</th>\n",
       "      <td>0</td>\n",
       "      <td>1</td>\n",
       "      <td>7</td>\n",
       "      <td>0</td>\n",
       "    </tr>\n",
       "    <tr>\n",
       "      <th>316919</th>\n",
       "      <td>0</td>\n",
       "      <td>1</td>\n",
       "      <td>7</td>\n",
       "      <td>1</td>\n",
       "    </tr>\n",
       "    <tr>\n",
       "      <th>316921</th>\n",
       "      <td>0</td>\n",
       "      <td>1</td>\n",
       "      <td>7</td>\n",
       "      <td>1</td>\n",
       "    </tr>\n",
       "    <tr>\n",
       "      <th>316932</th>\n",
       "      <td>0</td>\n",
       "      <td>1</td>\n",
       "      <td>7</td>\n",
       "      <td>0</td>\n",
       "    </tr>\n",
       "    <tr>\n",
       "      <th>316953</th>\n",
       "      <td>0</td>\n",
       "      <td>1</td>\n",
       "      <td>1</td>\n",
       "      <td>1</td>\n",
       "    </tr>\n",
       "    <tr>\n",
       "      <th>316960</th>\n",
       "      <td>0</td>\n",
       "      <td>1</td>\n",
       "      <td>1</td>\n",
       "      <td>1</td>\n",
       "    </tr>\n",
       "    <tr>\n",
       "      <th>316963</th>\n",
       "      <td>0</td>\n",
       "      <td>1</td>\n",
       "      <td>1</td>\n",
       "      <td>1</td>\n",
       "    </tr>\n",
       "    <tr>\n",
       "      <th>316968</th>\n",
       "      <td>0</td>\n",
       "      <td>1</td>\n",
       "      <td>2</td>\n",
       "      <td>1</td>\n",
       "    </tr>\n",
       "    <tr>\n",
       "      <th>316974</th>\n",
       "      <td>0</td>\n",
       "      <td>1</td>\n",
       "      <td>1</td>\n",
       "      <td>1</td>\n",
       "    </tr>\n",
       "    <tr>\n",
       "      <th>317025</th>\n",
       "      <td>0</td>\n",
       "      <td>1</td>\n",
       "      <td>1</td>\n",
       "      <td>1</td>\n",
       "    </tr>\n",
       "    <tr>\n",
       "      <th>317040</th>\n",
       "      <td>0</td>\n",
       "      <td>1</td>\n",
       "      <td>1</td>\n",
       "      <td>1</td>\n",
       "    </tr>\n",
       "    <tr>\n",
       "      <th>317048</th>\n",
       "      <td>0</td>\n",
       "      <td>1</td>\n",
       "      <td>7</td>\n",
       "      <td>1</td>\n",
       "    </tr>\n",
       "  </tbody>\n",
       "</table>\n",
       "<p>23713 rows × 4 columns</p>\n",
       "</div>"
      ],
      "text/plain": [
       "        earnwke  zero_earnings  marital  Living_Independently\n",
       "17            0              1        6                     1\n",
       "27            0              1        7                     0\n",
       "47            0              1        7                     0\n",
       "51            0              1        7                     1\n",
       "64            0              1        2                     1\n",
       "96            0              1        1                     1\n",
       "97            0              1        1                     1\n",
       "142           0              1        5                     1\n",
       "177           0              1        1                     0\n",
       "195           0              1        7                     1\n",
       "200           0              1        3                     0\n",
       "217           0              1        7                     0\n",
       "223           0              1        7                     0\n",
       "226           0              1        1                     1\n",
       "254           0              1        7                     1\n",
       "261           0              1        1                     1\n",
       "271           0              1        7                     0\n",
       "280           0              1        7                     0\n",
       "288           0              1        3                     1\n",
       "295           0              1        7                     0\n",
       "298           0              1        1                     1\n",
       "300           0              1        7                     1\n",
       "334           0              1        2                     1\n",
       "335           0              1        1                     1\n",
       "358           0              1        7                     0\n",
       "370           0              1        1                     1\n",
       "391           0              1        1                     1\n",
       "394           0              1        1                     1\n",
       "396           0              1        1                     1\n",
       "397           0              1        1                     1\n",
       "...         ...            ...      ...                   ...\n",
       "316515        0              1        1                     0\n",
       "316531        0              1        1                     1\n",
       "316562        0              1        7                     0\n",
       "316580        0              1        1                     1\n",
       "316598        0              1        7                     0\n",
       "316632        0              1        7                     0\n",
       "316690        0              1        7                     0\n",
       "316691        0              1        7                     1\n",
       "316725        0              1        7                     0\n",
       "316775        0              1        1                     1\n",
       "316790        0              1        7                     1\n",
       "316801        0              1        1                     1\n",
       "316817        0              1        1                     1\n",
       "316842        0              1        7                     1\n",
       "316863        0              1        7                     1\n",
       "316883        0              1        7                     1\n",
       "316886        0              1        1                     1\n",
       "316892        0              1        1                     1\n",
       "316909        0              1        7                     0\n",
       "316919        0              1        7                     1\n",
       "316921        0              1        7                     1\n",
       "316932        0              1        7                     0\n",
       "316953        0              1        1                     1\n",
       "316960        0              1        1                     1\n",
       "316963        0              1        1                     1\n",
       "316968        0              1        2                     1\n",
       "316974        0              1        1                     1\n",
       "317025        0              1        1                     1\n",
       "317040        0              1        1                     1\n",
       "317048        0              1        7                     1\n",
       "\n",
       "[23713 rows x 4 columns]"
      ]
     },
     "execution_count": 127,
     "metadata": {},
     "output_type": "execute_result"
    }
   ],
   "source": [
    "df[df['zero_earnings'] == 1][['earnwke', 'zero_earnings', 'marital', 'Living_Independently']]"
   ]
  },
  {
   "cell_type": "code",
   "execution_count": 116,
   "metadata": {
    "collapsed": false
   },
   "outputs": [],
   "source": [
    "df.earnwke_ln.replace(-np.inf, np.nan, inplace=True)"
   ]
  },
  {
   "cell_type": "code",
   "execution_count": 117,
   "metadata": {
    "collapsed": true
   },
   "outputs": [],
   "source": [
    "df.earnwke_ln.replace(np.nan, 0, inplace=True)"
   ]
  },
  {
   "cell_type": "code",
   "execution_count": 118,
   "metadata": {
    "collapsed": false
   },
   "outputs": [
    {
     "data": {
      "text/plain": [
       "count    75126.000000\n",
       "mean         4.317316\n",
       "std          2.997646\n",
       "min         -4.605170\n",
       "25%          0.000000\n",
       "50%          5.940171\n",
       "75%          6.579251\n",
       "max          7.967145\n",
       "Name: earnwke_ln, dtype: float64"
      ]
     },
     "execution_count": 118,
     "metadata": {},
     "output_type": "execute_result"
    }
   ],
   "source": [
    "df.earnwke_ln.describe()"
   ]
  },
  {
   "cell_type": "code",
   "execution_count": 136,
   "metadata": {
    "collapsed": false
   },
   "outputs": [
    {
     "data": {
      "text/plain": [
       "<matplotlib.axes._subplots.AxesSubplot at 0x10b211390>"
      ]
     },
     "execution_count": 136,
     "metadata": {},
     "output_type": "execute_result"
    },
    {
     "data": {
      "image/png": "[encoded data removed]",
      "text/plain": [
       "<matplotlib.figure.Figure at 0x110293ed0>"
      ]
     },
     "metadata": {},
     "output_type": "display_data"
    }
   ],
   "source": [
    "df[df.earnwke_ln.notnull()].earnwke_ln.hist()"
   ]
  },
  {
   "cell_type": "code",
   "execution_count": 135,
   "metadata": {
    "collapsed": false
   },
   "outputs": [
    {
     "data": {
      "text/plain": [
       "<matplotlib.axes._subplots.AxesSubplot at 0x110c9d890>"
      ]
     },
     "execution_count": 135,
     "metadata": {},
     "output_type": "execute_result"
    },
    {
     "data": {
      "image/png": "[encoded data removed]",
      "text/plain": [
       "<matplotlib.figure.Figure at 0x10b257150>"
      ]
     },
     "metadata": {},
     "output_type": "display_data"
    }
   ],
   "source": [
    "df.Median_Rent_ln.hist()"
   ]
  },
  {
   "cell_type": "code",
   "execution_count": 133,
   "metadata": {
    "collapsed": false
   },
   "outputs": [
    {
     "name": "stdout",
     "output_type": "stream",
     "text": [
      "Optimization terminated successfully.\n",
      "         Current function value: 0.461334\n",
      "         Iterations 7\n",
      "                            Logit Regression Results                            \n",
      "================================================================================\n",
      "Dep. Variable:     Living_Independently   No. Observations:                49925\n",
      "Model:                            Logit   Df Residuals:                    49911\n",
      "Method:                             MLE   Df Model:                           13\n",
      "Date:                  Sun, 01 May 2016   Pseudo R-squ.:                  0.2570\n",
      "Time:                          14:46:57   Log-Likelihood:                -23032.\n",
      "converged:                         True   LL-Null:                       -30997.\n",
      "                                          LLR p-value:                     0.000\n",
      "==========================================================================================\n",
      "                             coef    std err          z      P>|z|      [95.0% Conf. Int.]\n",
      "------------------------------------------------------------------------------------------\n",
      "Intercept                  5.0668      0.380     13.334      0.000         4.322     5.812\n",
      "gender_m                   0.0623      0.024      2.606      0.009         0.015     0.109\n",
      "never_married             -1.7007      0.032    -53.966      0.000        -1.762    -1.639\n",
      "earnwke_ln                 0.1138      0.004     28.063      0.000         0.106     0.122\n",
      "has_children               1.4941      0.034     44.393      0.000         1.428     1.560\n",
      "is_hispanic                0.1522      0.110      1.378      0.168        -0.064     0.369\n",
      "is_black                   0.0192      0.032      0.601      0.548        -0.043     0.082\n",
      "is_asian                  -0.3513      0.051     -6.921      0.000        -0.451    -0.252\n",
      "ed_below_hs               -1.7231      0.043    -40.201      0.000        -1.807    -1.639\n",
      "ed_completed_hs           -1.3132      0.035    -37.450      0.000        -1.382    -1.244\n",
      "ed_no_completed_higher    -1.1175      0.037    -30.616      0.000        -1.189    -1.046\n",
      "ed_associates_deg         -0.6905      0.049    -14.030      0.000        -0.787    -0.594\n",
      "ed_masters_and_above       0.7728      0.065     11.912      0.000         0.646     0.900\n",
      "Median_Rent_ln            -0.4593      0.052     -8.868      0.000        -0.561    -0.358\n",
      "==========================================================================================\n"
     ]
    }
   ],
   "source": [
    "from __future__ import print_function\n",
    "import numpy as np\n",
    "from scipy import stats\n",
    "#import matplotlib.pyplot as plt\n",
    "import statsmodels.api as sm\n",
    "from statsmodels.formula.api import logit\n",
    "\n",
    "independent_mod = logit(\"Living_Independently ~ gender_m + never_married + earnwke_ln + has_children + is_hispanic + is_black + is_asian + ed_below_hs + ed_completed_hs + ed_no_completed_higher + ed_associates_deg + ed_masters_and_above + Median_Rent_ln\", df[df.Median_Rent.notnull()]).fit()\n",
    "\n",
    "print(independent_mod.summary())"
   ]
  },
  {
   "cell_type": "code",
   "execution_count": 134,
   "metadata": {
    "collapsed": false
   },
   "outputs": [
    {
     "name": "stdout",
     "output_type": "stream",
     "text": [
      "Optimization terminated successfully.\n",
      "         Current function value: 0.463653\n",
      "         Iterations 7\n",
      "                            Logit Regression Results                            \n",
      "================================================================================\n",
      "Dep. Variable:     Living_Independently   No. Observations:                25201\n",
      "Model:                            Logit   Df Residuals:                    25188\n",
      "Method:                             MLE   Df Model:                           12\n",
      "Date:                  Sun, 01 May 2016   Pseudo R-squ.:                  0.2528\n",
      "Time:                          14:47:53   Log-Likelihood:                -11685.\n",
      "converged:                         True   LL-Null:                       -15637.\n",
      "                                          LLR p-value:                     0.000\n",
      "==========================================================================================\n",
      "                             coef    std err          z      P>|z|      [95.0% Conf. Int.]\n",
      "------------------------------------------------------------------------------------------\n",
      "Intercept                  1.5614      0.188      8.294      0.000         1.192     1.930\n",
      "gender_m                  -0.0156      0.034     -0.464      0.643        -0.081     0.050\n",
      "never_married             -1.7764      0.044    -40.231      0.000        -1.863    -1.690\n",
      "earnwke_ln                 0.1054      0.006     18.611      0.000         0.094     0.117\n",
      "has_children               1.4467      0.045     31.860      0.000         1.358     1.536\n",
      "is_hispanic                0.4152      0.178      2.332      0.020         0.066     0.764\n",
      "is_black                  -0.1741      0.062     -2.797      0.005        -0.296    -0.052\n",
      "is_asian                  -0.3821      0.078     -4.896      0.000        -0.535    -0.229\n",
      "ed_below_hs               -1.5720      0.063    -24.958      0.000        -1.695    -1.449\n",
      "ed_completed_hs           -0.9038      0.051    -17.658      0.000        -1.004    -0.804\n",
      "ed_no_completed_higher    -0.6822      0.054    -12.523      0.000        -0.789    -0.575\n",
      "ed_associates_deg         -0.3208      0.069     -4.618      0.000        -0.457    -0.185\n",
      "ed_masters_and_above       0.5338      0.105      5.090      0.000         0.328     0.739\n",
      "==========================================================================================\n"
     ]
    }
   ],
   "source": [
    "from __future__ import print_function\n",
    "import numpy as np\n",
    "from scipy import stats\n",
    "#import matplotlib.pyplot as plt\n",
    "import statsmodels.api as sm\n",
    "from statsmodels.formula.api import logit\n",
    "\n",
    "independent_mod = logit(\"Living_Independently ~ gender_m + never_married + earnwke_ln + has_children + is_hispanic + is_black + is_asian + ed_below_hs + ed_completed_hs + ed_no_completed_higher + ed_associates_deg + ed_masters_and_above\", df[~df.Median_Rent.notnull()]).fit()\n",
    "\n",
    "print(independent_mod.summary())"
   ]
  },
  {
   "cell_type": "code",
   "execution_count": null,
   "metadata": {
    "collapsed": true
   },
   "outputs": [],
   "source": []
  }
 ],
 "metadata": {
  "kernelspec": {
   "display_name": "Python 2",
   "language": "python",
   "name": "python2"
  },
  "language_info": {
   "codemirror_mode": {
    "name": "ipython",
    "version": 2
   },
   "file_extension": ".py",
   "mimetype": "text/x-python",
   "name": "python",
   "nbconvert_exporter": "python",
   "pygments_lexer": "ipython2",
   "version": "2.7.10"
  }
 },
 "nbformat": 4,
 "nbformat_minor": 0
}
